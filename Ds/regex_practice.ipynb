{
 "cells": [
  {
   "cell_type": "code",
   "execution_count": 1,
   "metadata": {},
   "outputs": [],
   "source": [
    "import re"
   ]
  },
  {
   "cell_type": "markdown",
   "metadata": {},
   "source": [
    "| **Special Character** | **Functionality**                                             |\n",
    "|-----------------------|--------------------------------------------------------------|\n",
    "| `.`                   | Matches any character except a newline                       |\n",
    "| `\\d`                  | Matches any digit (equivalent to `[0-9]`)                   |\n",
    "| `\\D`                  | Matches any non-digit character                               |\n",
    "| `\\w`                  | Matches any word character (equivalent to `[a-zA-Z0-9_]`)   |\n",
    "| `\\W`                  | Matches any non-word character                                |\n",
    "| `\\s`                  | Matches any whitespace character (spaces, tabs, newlines)    |\n",
    "| `\\S`                  | Matches any non-whitespace character                          |\n",
    "| `\\b`                  | Matches any word which has a word-boundary                         |\n",
    "| `\\B`                  | Matches any non word boundary                         |\n",
    "| `^`                   | Matches the start of a string                                 |\n",
    "| `$`                   | Matches the end of a string                                   |\n",
    "| `*`                   | Matches 0 or more repetitions of the preceding element        |\n",
    "| `+`                   | Matches 1 or more repetitions of the preceding element        |\n",
    "| `?`                   | Matches 0 or 1 repetition of the preceding element            |\n",
    "| `{n}`                 | Matches exactly `n` repetitions of the preceding element      |\n",
    "| `{n,}`                | Matches `n` or more repetitions of the preceding element      |\n",
    "| `{n,m}`               | Matches between `n` and `m` repetitions of the preceding element |\n",
    "| `(...)`               | Captures the matched text for later use                      |\n",
    "| `(?:...)`             | Non-capturing group                                          |\n",
    "| `(?P<name>...)`      | Named capturing group                                        |\n",
    "| `(?=...)`             | Positive lookahead assertion                                   |\n",
    "| `(?!...)`             | Negative lookahead assertion                                   |\n",
    "| `(?<=...)`            | Positive lookbehind assertion                                  |\n",
    "| `(?<!...)`            | Negative lookbehind assertion                                  |\n",
    "| `\\`                   | Escapes the next character, allowing literal matching         |\n",
    "|  `\\|`                  | Acts as a logical OR operator                               |\n",
    "| `[...]`               | Matches any single character within the brackets              |\n",
    "| `[^...]`              | Matches any single character not within the brackets          |\n"
   ]
  },
  {
   "cell_type": "code",
   "execution_count": 34,
   "metadata": {},
   "outputs": [],
   "source": [
    "data = \"\"\" \n",
    "Name: John Doe\n",
    "Email: john.doe@example.com\n",
    "Phone: (555) 123--4567\n",
    "Date of Birth: 1990-05-21\n",
    "Address: 123 Main St, Anytown, USA\n",
    "Website: https://www.johndoe.com\n",
    "Skills: Python, Java, SQL, HTML\n",
    "Last Login: 2024-09-20 14:35:00\n",
    "\"\"\"\n"
   ]
  },
  {
   "cell_type": "markdown",
   "metadata": {},
   "source": [
    "Practice Questions\n",
    "1. `Extract Names:` ->  Write a regex to extract the name \"John Doe\".\n",
    "2. `Find Emails:` ->  Write a regex to find the email address \"john.doe@example.com\".\n",
    "3. `Extract Phone Numbers:` ->  Write a regex to match the phone number \"(555) 123-4567\".\n",
    "4. `Extract Date of Birth:` ->  Write a regex to find the date of birth in the format YYYY-MM-DD.\n",
    "5. `Match Addresses:` ->  Write a regex to extract the address \"123 Main St, Anytown, USA\".\n",
    "6. `Extract Websites:` -> Write a regex to find the website URL \"https://www.johndoe.com\".\n",
    "7. `List Skills:` ->  Write a regex to extract the skills listed (e.g., \"Python, Java, SQL, HTML\").\n",
    "8. `Find Last Login Date:` ->  Write a regex to extract the last login timestamp \"2024-09-20 14:35:00\".\n",
    "9. `Validate Phone Numbers:` ->  Write a regex to validate if a string is a properly formatted phone number.  \n",
    "10. `Check Date Format:` ->  Write a regex to check if a string matches the YYYY-MM-DD date format."
   ]
  },
  {
   "cell_type": "code",
   "execution_count": 3,
   "metadata": {},
   "outputs": [
    {
     "name": "stdout",
     "output_type": "stream",
     "text": [
      "<re.Match object; span=(52, 67), match='(555) 123--4567'>\n"
     ]
    }
   ],
   "source": [
    "# Phone number\n",
    "pattern = re.compile(r'.\\d{3,}.\\s\\d+[-]+\\d{4}')\n",
    "\n",
    "matches = pattern.finditer(data)\n",
    "\n",
    "for match in matches:\n",
    "    print(match)"
   ]
  },
  {
   "cell_type": "code",
   "execution_count": 43,
   "metadata": {},
   "outputs": [],
   "source": [
    "emails = \"\"\"\n",
    "CoreyMSchafer@gmail.com\n",
    "Corey.schafer@university.edu\n",
    "Corey-321-schafer@my-work.net\n",
    "\"\"\""
   ]
  },
  {
   "cell_type": "code",
   "execution_count": 52,
   "metadata": {},
   "outputs": [
    {
     "name": "stdout",
     "output_type": "stream",
     "text": [
      "<re.Match object; span=(1, 24), match='CoreyMSchafer@gmail.com'>\n",
      "<re.Match object; span=(25, 53), match='Corey.schafer@university.edu'>\n",
      "<re.Match object; span=(54, 83), match='Corey-321-schafer@my-work.net'>\n"
     ]
    },
    {
     "data": {
      "text/plain": [
       "'Corey.schafer@university.edu'"
      ]
     },
     "execution_count": 52,
     "metadata": {},
     "output_type": "execute_result"
    }
   ],
   "source": [
    "#Emails\n",
    "pattern  =re.compile(r'[\\w\\.-]+@[\\w-]+\\.\\w+')\n",
    "\n",
    "matches = pattern.finditer(emails)\n",
    "\n",
    "for match in matches:\n",
    "    print(match)\n",
    "\n",
    "emails[25:53]"
   ]
  },
  {
   "cell_type": "code",
   "execution_count": 7,
   "metadata": {},
   "outputs": [
    {
     "name": "stdout",
     "output_type": "stream",
     "text": [
      "<re.Match object; span=(82, 93), match=' 1990-05-21'>\n",
      "<re.Match object; span=(205, 216), match=' 2024-09-20'>\n"
     ]
    }
   ],
   "source": [
    "#date of birth\n",
    "\n",
    "pattern = re.compile(r'\\d{4}-\\d{2}-\\d{2}')\n",
    "\n",
    "matches = pattern.finditer(data)\n",
    "\n",
    "for match in matches:\n",
    "    print(match)"
   ]
  },
  {
   "cell_type": "code",
   "execution_count": 10,
   "metadata": {},
   "outputs": [
    {
     "name": "stdout",
     "output_type": "stream",
     "text": [
      "<re.Match object; span=(138, 161), match='https://www.johndoe.com'>\n"
     ]
    }
   ],
   "source": [
    "#extract websites\n",
    "pattern = re.compile(r'https?://\\w*.\\w+.com')\n",
    "\n",
    "matches = pattern.finditer(data)\n",
    "\n",
    "for match in matches:\n",
    "    print(match)"
   ]
  },
  {
   "cell_type": "code",
   "execution_count": 40,
   "metadata": {},
   "outputs": [
    {
     "name": "stdout",
     "output_type": "stream",
     "text": [
      "Python, Java, SQL, HTML\n",
      "Python,\n",
      "Java,\n",
      "SQL,\n",
      "HTML\n"
     ]
    }
   ],
   "source": [
    "#skills\n",
    "data = '(e.g., \"Python, Java, SQL, HTML\")'\n",
    "pattern = re.compile(r'(\\w+,)\\s(\\w+,)\\s(\\w+,)\\s(\\w+)')\n",
    "\n",
    "matches = pattern.finditer(data)\n",
    "\n",
    "for match in matches:\n",
    "    print(match.group(0))\n",
    "    print(match.group(1))\n",
    "    print(match.group(2))\n",
    "    print(match.group(3))\n",
    "    print(match.group(4))"
   ]
  },
  {
   "cell_type": "code",
   "execution_count": 41,
   "metadata": {},
   "outputs": [
    {
     "name": "stdout",
     "output_type": "stream",
     "text": [
      "<re.Match object; span=(7, 32), match='\"Python, Java, SQL, HTML\"'>\n"
     ]
    }
   ],
   "source": [
    "pattern = re.compile(r'\\\"\\w+,\\s\\w+,\\s\\w+,\\s\\w+\\\"')\n",
    "\n",
    "matches = pattern.finditer(data)\n",
    "\n",
    "for match in matches:\n",
    "    print(match)"
   ]
  },
  {
   "cell_type": "code",
   "execution_count": 30,
   "metadata": {},
   "outputs": [
    {
     "name": "stdout",
     "output_type": "stream",
     "text": [
      "<re.Match object; span=(0, 1), match='2'>\n",
      "<re.Match object; span=(8, 10), match='38'>\n"
     ]
    }
   ],
   "source": [
    "data = \"2 hours 38 mins\"\n",
    "pattern = re.compile(r'\\d+')\n",
    "matches = pattern.finditer(data)\n",
    "\n",
    "for match in matches:\n",
    "    print(match)"
   ]
  },
  {
   "cell_type": "code",
   "execution_count": 11,
   "metadata": {},
   "outputs": [
    {
     "name": "stdout",
     "output_type": "stream",
     "text": [
      "Hello \n",
      "my name is mohit kumar\n",
      "I am creating this file in order to read it in python\n",
      "and implement some python regular expression method on it\n",
      "phone: 790-192-8521\n",
      "Address: 118, New Kartar Nagar, Model House, Jalandhar\n",
      "Age: 23\n",
      "Qualification: B.tech"
     ]
    }
   ],
   "source": [
    "with open(\"C:/Users\\Acer/Downloads/fileInput (1).txt\", 'r') as f:\n",
    "    \n",
    "    Content = f.read()\n",
    "    \n",
    "    print(Content, end=\"\")"
   ]
  },
  {
   "cell_type": "code",
   "execution_count": 66,
   "metadata": {},
   "outputs": [],
   "source": [
    "memory = ['256GB SSD + 1TB HDD','256GB SSD','512GB SSD +  512GB SSD','1.0TB HDD','64GB Flash Storage +  1TB HDD']"
   ]
  },
  {
   "cell_type": "code",
   "execution_count": 59,
   "metadata": {},
   "outputs": [
    {
     "name": "stdout",
     "output_type": "stream",
     "text": [
      "256GB SDD + 1TB HDD  ->  1280\n",
      "256GB SDD  ->  256\n",
      "512GB SSD +  512GB SSD  ->  1024\n",
      "1.0TB HDD  ->  1024\n",
      "64GB Flash Storage +  1TB HDD  ->  1088\n"
     ]
    }
   ],
   "source": [
    "pattern = re.compile(r'(\\d+)GB|(\\d+)TB|(\\d+.\\d*)TB')\n",
    "\n",
    "for mem in memory:\n",
    "    matches = pattern.finditer(mem)\n",
    "    \n",
    "    storage = 0\n",
    "    for match in matches:\n",
    "        \n",
    "        if(match.group(1) != None):\n",
    "            storage += int(match.group(1))\n",
    "            \n",
    "        if(match.group(2) != None):\n",
    "            storage += int(match.group(2))*1024\n",
    "            \n",
    "        if(match.group(3) != None):\n",
    "            storage += float(match.group(3))*1024\n",
    "\n",
    "    storage\n",
    "        "
   ]
  },
  {
   "cell_type": "code",
   "execution_count": 67,
   "metadata": {},
   "outputs": [
    {
     "name": "stdout",
     "output_type": "stream",
     "text": [
      "256\n",
      "256\n",
      "1024\n",
      "0\n",
      "0\n"
     ]
    }
   ],
   "source": [
    "def getSDDStorage(memory):\n",
    "    pattern = re.compile(r'(\\d+)GB\\s*SSD')\n",
    "    \n",
    "    matches = pattern.finditer(memory)\n",
    "    \n",
    "    storage = 0\n",
    "    \n",
    "    for match in matches:\n",
    "        \n",
    "        if(match.group(1) != None):\n",
    "            storage += int(match.group(1))\n",
    "    \n",
    "    return storage\n",
    "    \n",
    "for mem in memory:\n",
    "    print(getSDDStorage(mem))"
   ]
  },
  {
   "cell_type": "code",
   "execution_count": null,
   "metadata": {},
   "outputs": [],
   "source": [
    "def getSDDStorage(memory):\n",
    "    pattern = re.compile(r'(\\d+)GB\\s*SSD')\n",
    "    \n",
    "    matches = pattern.finditer(memory)\n",
    "    \n",
    "    storage = 0\n",
    "    \n",
    "    for match in matches:\n",
    "        \n",
    "        if(match.group(1) != None):\n",
    "            storage += int(match.group(1))\n",
    "    \n",
    "    return storage"
   ]
  },
  {
   "cell_type": "code",
   "execution_count": 12,
   "metadata": {},
   "outputs": [
    {
     "name": "stdout",
     "output_type": "stream",
     "text": [
      "1\n"
     ]
    }
   ],
   "source": [
    "topic = \"['Two Pointers', 'String', '1+']\"\n",
    "\n",
    "pattern = re.findall('\\d\\+',topic)\n",
    "\n",
    "if(pattern):\n",
    "    print(pattern[0][0])"
   ]
  },
  {
   "cell_type": "code",
   "execution_count": 17,
   "metadata": {},
   "outputs": [
    {
     "name": "stdout",
     "output_type": "stream",
     "text": [
      "Miss\n"
     ]
    }
   ],
   "source": [
    "import re\n",
    "\n",
    "name = \"Keane, Miss. Nora A\"                         \n",
    "\n",
    "pattern = '(\\w+)\\.'\n",
    "\n",
    "print(re.findall(pattern, name)[0])"
   ]
  },
  {
   "cell_type": "code",
   "execution_count": 7,
   "metadata": {},
   "outputs": [
    {
     "name": "stdout",
     "output_type": "stream",
     "text": [
      "I don’t need an instance! 11\n",
      "I work with <class '__main__.MyClass'> 12!\n"
     ]
    }
   ],
   "source": [
    "class MyClass:\n",
    "    val = 10\n",
    "    @staticmethod\n",
    "    def static_method():\n",
    "        MyClass.val += 1\n",
    "        return f\"I don’t need an instance! {MyClass.val}\"\n",
    "    @classmethod\n",
    "    def class_method(cls):\n",
    "        MyClass.val += 1\n",
    "        return f\"I work with {cls} {MyClass.val}!\"\n",
    "print(MyClass.static_method())\n",
    "print(MyClass.class_method())\n",
    "\n",
    "\n",
    "\n"
   ]
  }
 ],
 "metadata": {
  "kernelspec": {
   "display_name": "Python 3",
   "language": "python",
   "name": "python3"
  },
  "language_info": {
   "codemirror_mode": {
    "name": "ipython",
    "version": 3
   },
   "file_extension": ".py",
   "mimetype": "text/x-python",
   "name": "python",
   "nbconvert_exporter": "python",
   "pygments_lexer": "ipython3",
   "version": "3.11.6"
  }
 },
 "nbformat": 4,
 "nbformat_minor": 2
}
