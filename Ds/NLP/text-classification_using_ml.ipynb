{
 "cells": [
  {
   "cell_type": "code",
   "execution_count": 1,
   "id": "3ce9b931",
   "metadata": {},
   "outputs": [],
   "source": [
    "import numpy as np\n",
    "import pandas as pd"
   ]
  },
  {
   "cell_type": "code",
   "execution_count": 2,
   "id": "936f56e6",
   "metadata": {},
   "outputs": [],
   "source": [
    "temp_df = pd.read_csv('IMDB Dataset.csv')"
   ]
  },
  {
   "cell_type": "code",
   "execution_count": 3,
   "id": "9db1830b",
   "metadata": {},
   "outputs": [],
   "source": [
    "df = temp_df.iloc[:10000]"
   ]
  },
  {
   "cell_type": "code",
   "execution_count": 4,
   "id": "4f794ceb",
   "metadata": {},
   "outputs": [
    {
     "data": {
      "text/html": [
       "<div>\n",
       "<style scoped>\n",
       "    .dataframe tbody tr th:only-of-type {\n",
       "        vertical-align: middle;\n",
       "    }\n",
       "\n",
       "    .dataframe tbody tr th {\n",
       "        vertical-align: top;\n",
       "    }\n",
       "\n",
       "    .dataframe thead th {\n",
       "        text-align: right;\n",
       "    }\n",
       "</style>\n",
       "<table border=\"1\" class=\"dataframe\">\n",
       "  <thead>\n",
       "    <tr style=\"text-align: right;\">\n",
       "      <th></th>\n",
       "      <th>review</th>\n",
       "      <th>sentiment</th>\n",
       "    </tr>\n",
       "  </thead>\n",
       "  <tbody>\n",
       "    <tr>\n",
       "      <th>0</th>\n",
       "      <td>One of the other reviewers has mentioned that ...</td>\n",
       "      <td>positive</td>\n",
       "    </tr>\n",
       "    <tr>\n",
       "      <th>1</th>\n",
       "      <td>A wonderful little production. &lt;br /&gt;&lt;br /&gt;The...</td>\n",
       "      <td>positive</td>\n",
       "    </tr>\n",
       "    <tr>\n",
       "      <th>2</th>\n",
       "      <td>I thought this was a wonderful way to spend ti...</td>\n",
       "      <td>positive</td>\n",
       "    </tr>\n",
       "    <tr>\n",
       "      <th>3</th>\n",
       "      <td>Basically there's a family where a little boy ...</td>\n",
       "      <td>negative</td>\n",
       "    </tr>\n",
       "    <tr>\n",
       "      <th>4</th>\n",
       "      <td>Petter Mattei's \"Love in the Time of Money\" is...</td>\n",
       "      <td>positive</td>\n",
       "    </tr>\n",
       "  </tbody>\n",
       "</table>\n",
       "</div>"
      ],
      "text/plain": [
       "                                              review sentiment\n",
       "0  One of the other reviewers has mentioned that ...  positive\n",
       "1  A wonderful little production. <br /><br />The...  positive\n",
       "2  I thought this was a wonderful way to spend ti...  positive\n",
       "3  Basically there's a family where a little boy ...  negative\n",
       "4  Petter Mattei's \"Love in the Time of Money\" is...  positive"
      ]
     },
     "execution_count": 4,
     "metadata": {},
     "output_type": "execute_result"
    }
   ],
   "source": [
    "df.head()"
   ]
  },
  {
   "cell_type": "code",
   "execution_count": 5,
   "id": "c31fb116",
   "metadata": {},
   "outputs": [
    {
     "data": {
      "text/plain": [
       "'A wonderful little production. <br /><br />The filming technique is very unassuming- very old-time-BBC fashion and gives a comforting, and sometimes discomforting, sense of realism to the entire piece. <br /><br />The actors are extremely well chosen- Michael Sheen not only \"has got all the polari\" but he has all the voices down pat too! You can truly see the seamless editing guided by the references to Williams\\' diary entries, not only is it well worth the watching but it is a terrificly written and performed piece. A masterful production about one of the great master\\'s of comedy and his life. <br /><br />The realism really comes home with the little things: the fantasy of the guard which, rather than use the traditional \\'dream\\' techniques remains solid then disappears. It plays on our knowledge and our senses, particularly with the scenes concerning Orton and Halliwell and the sets (particularly of their flat with Halliwell\\'s murals decorating every surface) are terribly well done.'"
      ]
     },
     "execution_count": 5,
     "metadata": {},
     "output_type": "execute_result"
    }
   ],
   "source": [
    "df['review'][1]"
   ]
  },
  {
   "cell_type": "code",
   "execution_count": 6,
   "id": "18525cb6",
   "metadata": {},
   "outputs": [
    {
     "data": {
      "text/plain": [
       "sentiment\n",
       "positive    5028\n",
       "negative    4972\n",
       "Name: count, dtype: int64"
      ]
     },
     "execution_count": 6,
     "metadata": {},
     "output_type": "execute_result"
    }
   ],
   "source": [
    "df['sentiment'].value_counts()"
   ]
  },
  {
   "cell_type": "code",
   "execution_count": 7,
   "id": "f207966e",
   "metadata": {},
   "outputs": [
    {
     "data": {
      "text/plain": [
       "review       0\n",
       "sentiment    0\n",
       "dtype: int64"
      ]
     },
     "execution_count": 7,
     "metadata": {},
     "output_type": "execute_result"
    }
   ],
   "source": [
    "df.isnull().sum()"
   ]
  },
  {
   "cell_type": "code",
   "execution_count": 8,
   "id": "ea02910b",
   "metadata": {},
   "outputs": [
    {
     "data": {
      "text/plain": [
       "17"
      ]
     },
     "execution_count": 8,
     "metadata": {},
     "output_type": "execute_result"
    }
   ],
   "source": [
    "df.duplicated().sum()"
   ]
  },
  {
   "cell_type": "code",
   "execution_count": 10,
   "id": "2254cc43",
   "metadata": {},
   "outputs": [],
   "source": [
    "df = df.drop_duplicates()"
   ]
  },
  {
   "cell_type": "code",
   "execution_count": 11,
   "id": "8bbdbf38",
   "metadata": {},
   "outputs": [
    {
     "data": {
      "text/plain": [
       "0"
      ]
     },
     "execution_count": 11,
     "metadata": {},
     "output_type": "execute_result"
    }
   ],
   "source": [
    "df.duplicated().sum()"
   ]
  },
  {
   "cell_type": "code",
   "execution_count": 11,
   "id": "b838d547",
   "metadata": {},
   "outputs": [],
   "source": [
    "# Basic Preprocessing\n",
    "# Remove tags\n",
    "# lowercase\n",
    "# remove stopwords"
   ]
  },
  {
   "cell_type": "code",
   "execution_count": 12,
   "id": "ecb881b9",
   "metadata": {},
   "outputs": [],
   "source": [
    "import re\n",
    "def remove_tags(raw_text):\n",
    "    cleaned_text = re.sub(re.compile('<.*?>'), '', raw_text)\n",
    "    return cleaned_text"
   ]
  },
  {
   "cell_type": "code",
   "execution_count": 13,
   "id": "670ecc96",
   "metadata": {},
   "outputs": [],
   "source": [
    "df['review'] = df['review'].apply(remove_tags)"
   ]
  },
  {
   "cell_type": "code",
   "execution_count": 14,
   "id": "b21551de",
   "metadata": {},
   "outputs": [
    {
     "data": {
      "text/html": [
       "<div>\n",
       "<style scoped>\n",
       "    .dataframe tbody tr th:only-of-type {\n",
       "        vertical-align: middle;\n",
       "    }\n",
       "\n",
       "    .dataframe tbody tr th {\n",
       "        vertical-align: top;\n",
       "    }\n",
       "\n",
       "    .dataframe thead th {\n",
       "        text-align: right;\n",
       "    }\n",
       "</style>\n",
       "<table border=\"1\" class=\"dataframe\">\n",
       "  <thead>\n",
       "    <tr style=\"text-align: right;\">\n",
       "      <th></th>\n",
       "      <th>review</th>\n",
       "      <th>sentiment</th>\n",
       "    </tr>\n",
       "  </thead>\n",
       "  <tbody>\n",
       "    <tr>\n",
       "      <th>0</th>\n",
       "      <td>One of the other reviewers has mentioned that ...</td>\n",
       "      <td>positive</td>\n",
       "    </tr>\n",
       "    <tr>\n",
       "      <th>1</th>\n",
       "      <td>A wonderful little production. The filming tec...</td>\n",
       "      <td>positive</td>\n",
       "    </tr>\n",
       "    <tr>\n",
       "      <th>2</th>\n",
       "      <td>I thought this was a wonderful way to spend ti...</td>\n",
       "      <td>positive</td>\n",
       "    </tr>\n",
       "    <tr>\n",
       "      <th>3</th>\n",
       "      <td>Basically there's a family where a little boy ...</td>\n",
       "      <td>negative</td>\n",
       "    </tr>\n",
       "    <tr>\n",
       "      <th>4</th>\n",
       "      <td>Petter Mattei's \"Love in the Time of Money\" is...</td>\n",
       "      <td>positive</td>\n",
       "    </tr>\n",
       "    <tr>\n",
       "      <th>...</th>\n",
       "      <td>...</td>\n",
       "      <td>...</td>\n",
       "    </tr>\n",
       "    <tr>\n",
       "      <th>9995</th>\n",
       "      <td>Fun, entertaining movie about WWII German spy ...</td>\n",
       "      <td>positive</td>\n",
       "    </tr>\n",
       "    <tr>\n",
       "      <th>9996</th>\n",
       "      <td>Give me a break. How can anyone say that this ...</td>\n",
       "      <td>negative</td>\n",
       "    </tr>\n",
       "    <tr>\n",
       "      <th>9997</th>\n",
       "      <td>This movie is a bad movie. But after watching ...</td>\n",
       "      <td>negative</td>\n",
       "    </tr>\n",
       "    <tr>\n",
       "      <th>9998</th>\n",
       "      <td>This is a movie that was probably made to ente...</td>\n",
       "      <td>negative</td>\n",
       "    </tr>\n",
       "    <tr>\n",
       "      <th>9999</th>\n",
       "      <td>Smashing film about film-making. Shows the int...</td>\n",
       "      <td>positive</td>\n",
       "    </tr>\n",
       "  </tbody>\n",
       "</table>\n",
       "<p>9983 rows × 2 columns</p>\n",
       "</div>"
      ],
      "text/plain": [
       "                                                 review sentiment\n",
       "0     One of the other reviewers has mentioned that ...  positive\n",
       "1     A wonderful little production. The filming tec...  positive\n",
       "2     I thought this was a wonderful way to spend ti...  positive\n",
       "3     Basically there's a family where a little boy ...  negative\n",
       "4     Petter Mattei's \"Love in the Time of Money\" is...  positive\n",
       "...                                                 ...       ...\n",
       "9995  Fun, entertaining movie about WWII German spy ...  positive\n",
       "9996  Give me a break. How can anyone say that this ...  negative\n",
       "9997  This movie is a bad movie. But after watching ...  negative\n",
       "9998  This is a movie that was probably made to ente...  negative\n",
       "9999  Smashing film about film-making. Shows the int...  positive\n",
       "\n",
       "[9983 rows x 2 columns]"
      ]
     },
     "execution_count": 14,
     "metadata": {},
     "output_type": "execute_result"
    }
   ],
   "source": [
    "df"
   ]
  },
  {
   "cell_type": "code",
   "execution_count": 16,
   "id": "1e03f81e",
   "metadata": {},
   "outputs": [],
   "source": [
    "df['review'] = df['review'].str.lower()"
   ]
  },
  {
   "cell_type": "code",
   "execution_count": 17,
   "id": "bdc39311",
   "metadata": {},
   "outputs": [],
   "source": [
    "from nltk.corpus import stopwords\n",
    "\n",
    "sw_list = stopwords.words('english')\n",
    "\n",
    "df['review'] = df['review'].apply(lambda x: [item for item in x.split() if item not in sw_list]).apply(lambda x:\" \".join(x))"
   ]
  },
  {
   "cell_type": "code",
   "execution_count": 18,
   "id": "eb3beebd",
   "metadata": {},
   "outputs": [
    {
     "data": {
      "text/html": [
       "<div>\n",
       "<style scoped>\n",
       "    .dataframe tbody tr th:only-of-type {\n",
       "        vertical-align: middle;\n",
       "    }\n",
       "\n",
       "    .dataframe tbody tr th {\n",
       "        vertical-align: top;\n",
       "    }\n",
       "\n",
       "    .dataframe thead th {\n",
       "        text-align: right;\n",
       "    }\n",
       "</style>\n",
       "<table border=\"1\" class=\"dataframe\">\n",
       "  <thead>\n",
       "    <tr style=\"text-align: right;\">\n",
       "      <th></th>\n",
       "      <th>review</th>\n",
       "      <th>sentiment</th>\n",
       "    </tr>\n",
       "  </thead>\n",
       "  <tbody>\n",
       "    <tr>\n",
       "      <th>0</th>\n",
       "      <td>one reviewers mentioned watching 1 oz episode ...</td>\n",
       "      <td>positive</td>\n",
       "    </tr>\n",
       "    <tr>\n",
       "      <th>1</th>\n",
       "      <td>wonderful little production. filming technique...</td>\n",
       "      <td>positive</td>\n",
       "    </tr>\n",
       "    <tr>\n",
       "      <th>2</th>\n",
       "      <td>thought wonderful way spend time hot summer we...</td>\n",
       "      <td>positive</td>\n",
       "    </tr>\n",
       "    <tr>\n",
       "      <th>3</th>\n",
       "      <td>basically there's family little boy (jake) thi...</td>\n",
       "      <td>negative</td>\n",
       "    </tr>\n",
       "    <tr>\n",
       "      <th>4</th>\n",
       "      <td>petter mattei's \"love time money\" visually stu...</td>\n",
       "      <td>positive</td>\n",
       "    </tr>\n",
       "    <tr>\n",
       "      <th>...</th>\n",
       "      <td>...</td>\n",
       "      <td>...</td>\n",
       "    </tr>\n",
       "    <tr>\n",
       "      <th>9995</th>\n",
       "      <td>fun, entertaining movie wwii german spy (julie...</td>\n",
       "      <td>positive</td>\n",
       "    </tr>\n",
       "    <tr>\n",
       "      <th>9996</th>\n",
       "      <td>give break. anyone say \"good hockey movie\"? kn...</td>\n",
       "      <td>negative</td>\n",
       "    </tr>\n",
       "    <tr>\n",
       "      <th>9997</th>\n",
       "      <td>movie bad movie. watching endless series bad h...</td>\n",
       "      <td>negative</td>\n",
       "    </tr>\n",
       "    <tr>\n",
       "      <th>9998</th>\n",
       "      <td>movie probably made entertain middle school, e...</td>\n",
       "      <td>negative</td>\n",
       "    </tr>\n",
       "    <tr>\n",
       "      <th>9999</th>\n",
       "      <td>smashing film film-making. shows intense stran...</td>\n",
       "      <td>positive</td>\n",
       "    </tr>\n",
       "  </tbody>\n",
       "</table>\n",
       "<p>9983 rows × 2 columns</p>\n",
       "</div>"
      ],
      "text/plain": [
       "                                                 review sentiment\n",
       "0     one reviewers mentioned watching 1 oz episode ...  positive\n",
       "1     wonderful little production. filming technique...  positive\n",
       "2     thought wonderful way spend time hot summer we...  positive\n",
       "3     basically there's family little boy (jake) thi...  negative\n",
       "4     petter mattei's \"love time money\" visually stu...  positive\n",
       "...                                                 ...       ...\n",
       "9995  fun, entertaining movie wwii german spy (julie...  positive\n",
       "9996  give break. anyone say \"good hockey movie\"? kn...  negative\n",
       "9997  movie bad movie. watching endless series bad h...  negative\n",
       "9998  movie probably made entertain middle school, e...  negative\n",
       "9999  smashing film film-making. shows intense stran...  positive\n",
       "\n",
       "[9983 rows x 2 columns]"
      ]
     },
     "execution_count": 18,
     "metadata": {},
     "output_type": "execute_result"
    }
   ],
   "source": [
    "df"
   ]
  },
  {
   "cell_type": "code",
   "execution_count": 19,
   "id": "044b8b36",
   "metadata": {},
   "outputs": [],
   "source": [
    "X = df.iloc[:,0:1]\n",
    "y = df['sentiment']"
   ]
  },
  {
   "cell_type": "code",
   "execution_count": 20,
   "id": "c2f50b0d",
   "metadata": {},
   "outputs": [
    {
     "data": {
      "text/html": [
       "<div>\n",
       "<style scoped>\n",
       "    .dataframe tbody tr th:only-of-type {\n",
       "        vertical-align: middle;\n",
       "    }\n",
       "\n",
       "    .dataframe tbody tr th {\n",
       "        vertical-align: top;\n",
       "    }\n",
       "\n",
       "    .dataframe thead th {\n",
       "        text-align: right;\n",
       "    }\n",
       "</style>\n",
       "<table border=\"1\" class=\"dataframe\">\n",
       "  <thead>\n",
       "    <tr style=\"text-align: right;\">\n",
       "      <th></th>\n",
       "      <th>review</th>\n",
       "    </tr>\n",
       "  </thead>\n",
       "  <tbody>\n",
       "    <tr>\n",
       "      <th>0</th>\n",
       "      <td>one reviewers mentioned watching 1 oz episode ...</td>\n",
       "    </tr>\n",
       "    <tr>\n",
       "      <th>1</th>\n",
       "      <td>wonderful little production. filming technique...</td>\n",
       "    </tr>\n",
       "    <tr>\n",
       "      <th>2</th>\n",
       "      <td>thought wonderful way spend time hot summer we...</td>\n",
       "    </tr>\n",
       "    <tr>\n",
       "      <th>3</th>\n",
       "      <td>basically there's family little boy (jake) thi...</td>\n",
       "    </tr>\n",
       "    <tr>\n",
       "      <th>4</th>\n",
       "      <td>petter mattei's \"love time money\" visually stu...</td>\n",
       "    </tr>\n",
       "    <tr>\n",
       "      <th>...</th>\n",
       "      <td>...</td>\n",
       "    </tr>\n",
       "    <tr>\n",
       "      <th>9995</th>\n",
       "      <td>fun, entertaining movie wwii german spy (julie...</td>\n",
       "    </tr>\n",
       "    <tr>\n",
       "      <th>9996</th>\n",
       "      <td>give break. anyone say \"good hockey movie\"? kn...</td>\n",
       "    </tr>\n",
       "    <tr>\n",
       "      <th>9997</th>\n",
       "      <td>movie bad movie. watching endless series bad h...</td>\n",
       "    </tr>\n",
       "    <tr>\n",
       "      <th>9998</th>\n",
       "      <td>movie probably made entertain middle school, e...</td>\n",
       "    </tr>\n",
       "    <tr>\n",
       "      <th>9999</th>\n",
       "      <td>smashing film film-making. shows intense stran...</td>\n",
       "    </tr>\n",
       "  </tbody>\n",
       "</table>\n",
       "<p>9983 rows × 1 columns</p>\n",
       "</div>"
      ],
      "text/plain": [
       "                                                 review\n",
       "0     one reviewers mentioned watching 1 oz episode ...\n",
       "1     wonderful little production. filming technique...\n",
       "2     thought wonderful way spend time hot summer we...\n",
       "3     basically there's family little boy (jake) thi...\n",
       "4     petter mattei's \"love time money\" visually stu...\n",
       "...                                                 ...\n",
       "9995  fun, entertaining movie wwii german spy (julie...\n",
       "9996  give break. anyone say \"good hockey movie\"? kn...\n",
       "9997  movie bad movie. watching endless series bad h...\n",
       "9998  movie probably made entertain middle school, e...\n",
       "9999  smashing film film-making. shows intense stran...\n",
       "\n",
       "[9983 rows x 1 columns]"
      ]
     },
     "execution_count": 20,
     "metadata": {},
     "output_type": "execute_result"
    }
   ],
   "source": [
    "X"
   ]
  },
  {
   "cell_type": "code",
   "execution_count": 21,
   "id": "c6014ee0",
   "metadata": {},
   "outputs": [
    {
     "data": {
      "text/plain": [
       "0       positive\n",
       "1       positive\n",
       "2       positive\n",
       "3       negative\n",
       "4       positive\n",
       "          ...   \n",
       "9995    positive\n",
       "9996    negative\n",
       "9997    negative\n",
       "9998    negative\n",
       "9999    positive\n",
       "Name: sentiment, Length: 9983, dtype: object"
      ]
     },
     "execution_count": 21,
     "metadata": {},
     "output_type": "execute_result"
    }
   ],
   "source": [
    "y"
   ]
  },
  {
   "cell_type": "code",
   "execution_count": 22,
   "id": "fb01ea97",
   "metadata": {},
   "outputs": [],
   "source": [
    "from sklearn.preprocessing import LabelEncoder\n",
    "\n",
    "encoder = LabelEncoder()\n",
    "\n",
    "y = encoder.fit_transform(y)"
   ]
  },
  {
   "cell_type": "code",
   "execution_count": 23,
   "id": "e49f7132",
   "metadata": {},
   "outputs": [
    {
     "data": {
      "text/plain": [
       "array([1, 1, 1, ..., 0, 0, 1])"
      ]
     },
     "execution_count": 23,
     "metadata": {},
     "output_type": "execute_result"
    }
   ],
   "source": [
    "y"
   ]
  },
  {
   "cell_type": "code",
   "execution_count": 24,
   "id": "4a47c8cf",
   "metadata": {},
   "outputs": [],
   "source": [
    "from sklearn.model_selection import train_test_split\n",
    "X_train,X_test,y_train,y_test = train_test_split(X,y,test_size=0.2,random_state=1)"
   ]
  },
  {
   "cell_type": "code",
   "execution_count": 25,
   "id": "59d30e1a",
   "metadata": {},
   "outputs": [
    {
     "data": {
      "text/plain": [
       "(7986, 1)"
      ]
     },
     "execution_count": 25,
     "metadata": {},
     "output_type": "execute_result"
    }
   ],
   "source": [
    "X_train.shape"
   ]
  },
  {
   "cell_type": "code",
   "execution_count": 26,
   "id": "f0ced488",
   "metadata": {},
   "outputs": [],
   "source": [
    "# Applying BoW\n",
    "from sklearn.feature_extraction.text import CountVectorizer"
   ]
  },
  {
   "cell_type": "code",
   "execution_count": 44,
   "id": "d038ae3a",
   "metadata": {},
   "outputs": [],
   "source": [
    "cv = CountVectorizer()"
   ]
  },
  {
   "cell_type": "code",
   "execution_count": 45,
   "id": "cbdc2fa9",
   "metadata": {},
   "outputs": [
    {
     "data": {
      "text/html": [
       "<style>#sk-container-id-3 {color: black;}#sk-container-id-3 pre{padding: 0;}#sk-container-id-3 div.sk-toggleable {background-color: white;}#sk-container-id-3 label.sk-toggleable__label {cursor: pointer;display: block;width: 100%;margin-bottom: 0;padding: 0.3em;box-sizing: border-box;text-align: center;}#sk-container-id-3 label.sk-toggleable__label-arrow:before {content: \"▸\";float: left;margin-right: 0.25em;color: #696969;}#sk-container-id-3 label.sk-toggleable__label-arrow:hover:before {color: black;}#sk-container-id-3 div.sk-estimator:hover label.sk-toggleable__label-arrow:before {color: black;}#sk-container-id-3 div.sk-toggleable__content {max-height: 0;max-width: 0;overflow: hidden;text-align: left;background-color: #f0f8ff;}#sk-container-id-3 div.sk-toggleable__content pre {margin: 0.2em;color: black;border-radius: 0.25em;background-color: #f0f8ff;}#sk-container-id-3 input.sk-toggleable__control:checked~div.sk-toggleable__content {max-height: 200px;max-width: 100%;overflow: auto;}#sk-container-id-3 input.sk-toggleable__control:checked~label.sk-toggleable__label-arrow:before {content: \"▾\";}#sk-container-id-3 div.sk-estimator input.sk-toggleable__control:checked~label.sk-toggleable__label {background-color: #d4ebff;}#sk-container-id-3 div.sk-label input.sk-toggleable__control:checked~label.sk-toggleable__label {background-color: #d4ebff;}#sk-container-id-3 input.sk-hidden--visually {border: 0;clip: rect(1px 1px 1px 1px);clip: rect(1px, 1px, 1px, 1px);height: 1px;margin: -1px;overflow: hidden;padding: 0;position: absolute;width: 1px;}#sk-container-id-3 div.sk-estimator {font-family: monospace;background-color: #f0f8ff;border: 1px dotted black;border-radius: 0.25em;box-sizing: border-box;margin-bottom: 0.5em;}#sk-container-id-3 div.sk-estimator:hover {background-color: #d4ebff;}#sk-container-id-3 div.sk-parallel-item::after {content: \"\";width: 100%;border-bottom: 1px solid gray;flex-grow: 1;}#sk-container-id-3 div.sk-label:hover label.sk-toggleable__label {background-color: #d4ebff;}#sk-container-id-3 div.sk-serial::before {content: \"\";position: absolute;border-left: 1px solid gray;box-sizing: border-box;top: 0;bottom: 0;left: 50%;z-index: 0;}#sk-container-id-3 div.sk-serial {display: flex;flex-direction: column;align-items: center;background-color: white;padding-right: 0.2em;padding-left: 0.2em;position: relative;}#sk-container-id-3 div.sk-item {position: relative;z-index: 1;}#sk-container-id-3 div.sk-parallel {display: flex;align-items: stretch;justify-content: center;background-color: white;position: relative;}#sk-container-id-3 div.sk-item::before, #sk-container-id-3 div.sk-parallel-item::before {content: \"\";position: absolute;border-left: 1px solid gray;box-sizing: border-box;top: 0;bottom: 0;left: 50%;z-index: -1;}#sk-container-id-3 div.sk-parallel-item {display: flex;flex-direction: column;z-index: 1;position: relative;background-color: white;}#sk-container-id-3 div.sk-parallel-item:first-child::after {align-self: flex-end;width: 50%;}#sk-container-id-3 div.sk-parallel-item:last-child::after {align-self: flex-start;width: 50%;}#sk-container-id-3 div.sk-parallel-item:only-child::after {width: 0;}#sk-container-id-3 div.sk-dashed-wrapped {border: 1px dashed gray;margin: 0 0.4em 0.5em 0.4em;box-sizing: border-box;padding-bottom: 0.4em;background-color: white;}#sk-container-id-3 div.sk-label label {font-family: monospace;font-weight: bold;display: inline-block;line-height: 1.2em;}#sk-container-id-3 div.sk-label-container {text-align: center;}#sk-container-id-3 div.sk-container {/* jupyter's `normalize.less` sets `[hidden] { display: none; }` but bootstrap.min.css set `[hidden] { display: none !important; }` so we also need the `!important` here to be able to override the default hidden behavior on the sphinx rendered scikit-learn.org. See: https://github.com/scikit-learn/scikit-learn/issues/21755 */display: inline-block !important;position: relative;}#sk-container-id-3 div.sk-text-repr-fallback {display: none;}</style><div id=\"sk-container-id-3\" class=\"sk-top-container\"><div class=\"sk-text-repr-fallback\"><pre>CountVectorizer()</pre><b>In a Jupyter environment, please rerun this cell to show the HTML representation or trust the notebook. <br />On GitHub, the HTML representation is unable to render, please try loading this page with nbviewer.org.</b></div><div class=\"sk-container\" hidden><div class=\"sk-item\"><div class=\"sk-estimator sk-toggleable\"><input class=\"sk-toggleable__control sk-hidden--visually\" id=\"sk-estimator-id-3\" type=\"checkbox\" checked><label for=\"sk-estimator-id-3\" class=\"sk-toggleable__label sk-toggleable__label-arrow\">CountVectorizer</label><div class=\"sk-toggleable__content\"><pre>CountVectorizer()</pre></div></div></div></div></div>"
      ],
      "text/plain": [
       "CountVectorizer()"
      ]
     },
     "execution_count": 45,
     "metadata": {},
     "output_type": "execute_result"
    }
   ],
   "source": [
    "cv.fit(X_train['review'])"
   ]
  },
  {
   "cell_type": "code",
   "execution_count": 55,
   "id": "195d6a1c",
   "metadata": {},
   "outputs": [
    {
     "data": {
      "text/plain": [
       "{'ve': 45772,\n",
       " 'waiting': 46432,\n",
       " 'superhero': 41673,\n",
       " 'movie': 28417,\n",
       " 'like': 25027,\n",
       " 'long': 25386,\n",
       " 'time': 43271,\n",
       " 'mystery': 28725,\n",
       " 'men': 27130,\n",
       " 'takes': 42260,\n",
       " 'place': 32338,\n",
       " 'among': 1954,\n",
       " 'classic': 8140,\n",
       " 'comic': 8705,\n",
       " 'strip': 41178,\n",
       " 'spoofs': 40334,\n",
       " 'tv': 44406,\n",
       " 'batman': 3943,\n",
       " 'captain': 6747,\n",
       " 'nice': 29301,\n",
       " 'cartoons': 6949,\n",
       " 'underdog': 44793,\n",
       " 'super': 41649,\n",
       " 'chicken': 7695,\n",
       " 'spirit': 40256,\n",
       " 'lives': 25225,\n",
       " 'them': 42918,\n",
       " 'tongue': 43516,\n",
       " 'in': 21435,\n",
       " 'cheek': 7583,\n",
       " 'tone': 43510,\n",
       " 'courage': 9784,\n",
       " 'aim': 1460,\n",
       " 'heroic': 20008,\n",
       " 'life': 24974,\n",
       " 'risk': 36163,\n",
       " 'looking': 25412,\n",
       " 'ridiculous': 36058,\n",
       " 'not': 29628,\n",
       " 'so': 39679,\n",
       " 'sure': 41770,\n",
       " 'footed': 16588,\n",
       " 'way': 46703,\n",
       " 'characters': 7442,\n",
       " 'manage': 26126,\n",
       " 'prevail': 33264,\n",
       " 'adversaries': 1208,\n",
       " 'misfired': 27715,\n",
       " 'spark': 40066,\n",
       " 'nobility': 29468,\n",
       " 'igniting': 21104,\n",
       " 'weak': 46719,\n",
       " 'ordinary': 30378,\n",
       " 'wonderful': 47487,\n",
       " 'see': 37847,\n",
       " 'glow': 18133,\n",
       " 'high': 20116,\n",
       " 'bright': 5778,\n",
       " 'here': 19980,\n",
       " 'opens': 30266,\n",
       " 'party': 31271,\n",
       " 'nursing': 29778,\n",
       " 'home': 20413,\n",
       " 'wish': 47357,\n",
       " 'kinka': 23791,\n",
       " 'usher': 45536,\n",
       " 'sense': 37987,\n",
       " 'give': 17997,\n",
       " 'energy': 14246,\n",
       " 'old': 30123,\n",
       " 'people': 31673,\n",
       " 'scene': 37375,\n",
       " 'is': 22524,\n",
       " 'looks': 25414,\n",
       " 'something': 39850,\n",
       " 'george': 17767,\n",
       " 'romero': 36416,\n",
       " 'might': 27420,\n",
       " 'devised': 11804,\n",
       " 'need': 29085,\n",
       " 'get': 17813,\n",
       " 'feeling': 15756,\n",
       " 'sharp': 38334,\n",
       " 'everyone': 14817,\n",
       " 'else': 13957,\n",
       " 'feels': 15759,\n",
       " 'patronizing': 31401,\n",
       " 'red': 34931,\n",
       " 'eyes': 15289,\n",
       " 'crash': 9940,\n",
       " 'festivities': 15874,\n",
       " 'half': 19221,\n",
       " 'expect': 15067,\n",
       " 'tom': 43474,\n",
       " 'waits': 46436,\n",
       " 'plays': 32440,\n",
       " 'weapons': 46735,\n",
       " 'inventor': 22361,\n",
       " 'penchant': 31619,\n",
       " 'ladies': 24221,\n",
       " 'eighties': 13770,\n",
       " 'stand': 40596,\n",
       " 'shout': 38640,\n",
       " 'just': 23304,\n",
       " 'needs': 29096,\n",
       " 'little': 25204,\n",
       " 'excitement': 14939,\n",
       " 'writer': 47704,\n",
       " 'neil': 29140,\n",
       " 'cuthbert': 10472,\n",
       " 'would': 47626,\n",
       " 'mixing': 27850,\n",
       " 'intruders': 22323,\n",
       " 'egging': 13734,\n",
       " 'partiers': 31255,\n",
       " 'same': 37010,\n",
       " 'made': 25893,\n",
       " 'rousing': 36582,\n",
       " 'beginning': 4194,\n",
       " 'better': 4488,\n",
       " 'introduction': 22313,\n",
       " 'troublesome': 44201,\n",
       " 'trio': 44119,\n",
       " 'shoveler': 38648,\n",
       " 'william': 47229,\n",
       " 'macy': 25873,\n",
       " 'blue': 5029,\n",
       " 'raja': 34382,\n",
       " 'hank': 19374,\n",
       " 'azaria': 3381,\n",
       " 'mr': 28452,\n",
       " 'furious': 17241,\n",
       " 'ben': 4322,\n",
       " 'stiller': 40899,\n",
       " 'seem': 37862,\n",
       " 'come': 8677,\n",
       " 'nowhere': 29697,\n",
       " 'save': 37236,\n",
       " 'day': 10847,\n",
       " 'many': 26292,\n",
       " 'problems': 33386,\n",
       " 'care': 6803,\n",
       " 'go': 18170,\n",
       " 'into': 22284,\n",
       " 'villain': 46078,\n",
       " 'casanova': 6968,\n",
       " 'frankenstein': 16888,\n",
       " 'cultivated': 10353,\n",
       " 'absurd': 799,\n",
       " 'rest': 35707,\n",
       " 'doesn': 12659,\n",
       " 'geoffrey': 17755,\n",
       " 'rush': 36760,\n",
       " 'wrong': 47714,\n",
       " 'actor': 1011,\n",
       " 'part': 31227,\n",
       " 'top': 43559,\n",
       " 'make': 26033,\n",
       " 'conflict': 9103,\n",
       " 'good': 18288,\n",
       " 'evil': 14832,\n",
       " 'galvanic': 17395,\n",
       " 'one': 30189,\n",
       " 'never': 29235,\n",
       " 'exhibited': 15009,\n",
       " 'talent': 42272,\n",
       " 'outre': 30609,\n",
       " 'hope': 20532,\n",
       " 'ripe': 36140,\n",
       " 'theatrics': 42896,\n",
       " 'john': 23061,\n",
       " 'lithgow': 25190,\n",
       " 'the': 42887,\n",
       " 'adventures': 1205,\n",
       " 'buckaroo': 6016,\n",
       " 'banzai': 3720,\n",
       " 'dry': 13190,\n",
       " 'debonair': 10951,\n",
       " 'diffidence': 11974,\n",
       " 'paul': 31419,\n",
       " 'freeman': 16962,\n",
       " 'raiders': 34339,\n",
       " 'lost': 25485,\n",
       " 'ark': 2649,\n",
       " 'instead': 22024,\n",
       " 'pastiche': 31321,\n",
       " 'baked': 3559,\n",
       " 'fully': 17185,\n",
       " 'realized': 34701,\n",
       " 'there': 42958,\n",
       " 'ideas': 21046,\n",
       " 'running': 36742,\n",
       " 'anyone': 2344,\n",
       " 'tie': 43225,\n",
       " 'neatly': 29051,\n",
       " 'together': 43434,\n",
       " 'may': 26723,\n",
       " 'deepest': 11098,\n",
       " 'problem': 33383,\n",
       " 'whatever': 46955,\n",
       " 'kind': 23763,\n",
       " 'mess': 27254,\n",
       " 'love': 25530,\n",
       " 'always': 1815,\n",
       " 'seemed': 37864,\n",
       " 'slumming': 39421,\n",
       " 'roles': 36369,\n",
       " 'exception': 14918,\n",
       " 'goes': 18219,\n",
       " 'conviction': 9476,\n",
       " 'away': 3335,\n",
       " 'he': 19683,\n",
       " 'learned': 24621,\n",
       " 'comedy': 8687,\n",
       " 'growing': 18827,\n",
       " 'household': 20668,\n",
       " 'run': 36733,\n",
       " 'jerry': 22934,\n",
       " 'anne': 2193,\n",
       " 'meara': 26940,\n",
       " 'roy': 36610,\n",
       " 'related': 35235,\n",
       " 'put': 33994,\n",
       " 'upon': 45446,\n",
       " 'overly': 30737,\n",
       " 'sensitive': 38000,\n",
       " 'chronically': 7899,\n",
       " 'defensive': 11148,\n",
       " 'types': 44488,\n",
       " 'woody': 47525,\n",
       " 'allen': 1684,\n",
       " 'popular': 32778,\n",
       " 'whether': 47000,\n",
       " 'wheedling': 46971,\n",
       " 'affections': 1271,\n",
       " 'waitress': 46433,\n",
       " 'favorite': 15671,\n",
       " 'hangout': 19369,\n",
       " 'sleek': 39284,\n",
       " 'claire': 8090,\n",
       " 'forslani': 16742,\n",
       " 'questioning': 34142,\n",
       " 'wisdom': 47346,\n",
       " 'fellow': 15787,\n",
       " 'wes': 46901,\n",
       " 'studi': 41266,\n",
       " 'sphinx': 40205,\n",
       " 'giving': 18006,\n",
       " 'new': 29243,\n",
       " 'member': 27112,\n",
       " 'elite': 13910,\n",
       " 'group': 18810,\n",
       " 'jeaneane': 22850,\n",
       " 'garofalo': 17510,\n",
       " 'possibly': 32885,\n",
       " 'funniest': 17230,\n",
       " 'moments': 28023,\n",
       " 'screen': 37633,\n",
       " 'hard': 19433,\n",
       " 'makes': 26040,\n",
       " 'fun': 17194,\n",
       " 'watch': 46638,\n",
       " 'exactly': 14871,\n",
       " 'say': 37267,\n",
       " 'mary': 26511,\n",
       " 'proves': 33684,\n",
       " 'performance': 31730,\n",
       " 'star': 40626,\n",
       " 'true': 44225,\n",
       " 'thing': 43016,\n",
       " 'renee': 35405,\n",
       " 'zellweger': 48142,\n",
       " 'think': 43019,\n",
       " 'ever': 14795,\n",
       " 'seen': 37870,\n",
       " 'funnier': 17228,\n",
       " 'exchanges': 14932,\n",
       " 'daughter': 10810,\n",
       " 'father': 15625,\n",
       " 'okay': 30108,\n",
       " 'dead': 10884,\n",
       " 'skull': 39190,\n",
       " 'bowling': 5506,\n",
       " 'ball': 3600,\n",
       " 'sue': 41509,\n",
       " 'me': 26908,\n",
       " 'movies': 28428,\n",
       " 'funny': 17234,\n",
       " 'role': 36367,\n",
       " 'screwball': 37649,\n",
       " 'reprise': 35545,\n",
       " 'emily': 14059,\n",
       " 'watson': 46684,\n",
       " 'spellbinding': 40178,\n",
       " 'talks': 42294,\n",
       " 'god': 18190,\n",
       " 'breaking': 5669,\n",
       " 'waves': 46694,\n",
       " 'version': 45910,\n",
       " 'girl': 17965,\n",
       " 'die': 11938,\n",
       " 'bells': 4290,\n",
       " 'ring': 36118,\n",
       " 'head': 19684,\n",
       " 'difficult': 11971,\n",
       " 'stolid': 40969,\n",
       " 'magnetic': 25958,\n",
       " 'understand': 44847,\n",
       " 'right': 36086,\n",
       " 'what': 46952,\n",
       " 'attracted': 3110,\n",
       " 'jenifer': 22892,\n",
       " 'lewis': 24875,\n",
       " 'lucille': 25619,\n",
       " 'eddie': 13631,\n",
       " 'also': 1766,\n",
       " 'exasperation': 14894,\n",
       " 'barbecue': 3747,\n",
       " 'alone': 1748,\n",
       " 'enough': 14334,\n",
       " 'drive': 13121,\n",
       " 'edge': 13638,\n",
       " 'adorable': 1164,\n",
       " 'breed': 5698,\n",
       " 'son': 39869,\n",
       " 'says': 37277,\n",
       " 'believe': 4258,\n",
       " 'you': 47993,\n",
       " 'daddy': 10555,\n",
       " 'sighs': 38835,\n",
       " 'exclaims': 14945,\n",
       " 'roland': 36364,\n",
       " 'encourage': 14179,\n",
       " 'feel': 15755,\n",
       " 'standing': 40605,\n",
       " 'hailing': 19179,\n",
       " 'first': 16142,\n",
       " 'rate': 34552,\n",
       " 'wit': 47372,\n",
       " 'whose': 47127,\n",
       " 'moment': 28018,\n",
       " 'note': 29636,\n",
       " 'film': 16005,\n",
       " 'point': 32586,\n",
       " 'bare': 3767,\n",
       " 'behind': 4220,\n",
       " 'birdcage': 4678,\n",
       " 'louise': 25513,\n",
       " 'lasser': 24436,\n",
       " 'has': 19549,\n",
       " 'two': 44467,\n",
       " 'decades': 10973,\n",
       " 'since': 38964,\n",
       " 'took': 43532,\n",
       " 'bananas': 3654,\n",
       " 'hartman': 19533,\n",
       " 'mother': 28330,\n",
       " 'share': 38320,\n",
       " 'fondness': 16557,\n",
       " 'silverware': 38905,\n",
       " 'greg': 18649,\n",
       " 'kinnear': 23795,\n",
       " 'amazing': 1859,\n",
       " 'ricky': 36035,\n",
       " 'jay': 22828,\n",
       " 'publicist': 33804,\n",
       " 'kel': 23577,\n",
       " 'mitchell': 27830,\n",
       " 'invisible': 22398,\n",
       " 'boy': 5524,\n",
       " 'reubens': 35833,\n",
       " 'spleen': 40285,\n",
       " 'lena': 24749,\n",
       " 'olin': 30140,\n",
       " 'who': 47093,\n",
       " 'lines': 25110,\n",
       " 'visiting': 46182,\n",
       " 'set': 38129,\n",
       " 'excellent': 14910,\n",
       " 'acted': 991,\n",
       " 'directed': 12102,\n",
       " 'overall': 30663,\n",
       " 'story': 41027,\n",
       " 'ive': 22628,\n",
       " 'real': 34684,\n",
       " 'experiance': 15091,\n",
       " 'radio': 34292,\n",
       " 'football': 16584,\n",
       " 'program': 33470,\n",
       " 'town': 43724,\n",
       " 'weve': 46927,\n",
       " 'mentally': 27168,\n",
       " 'challenged': 7352,\n",
       " 'every': 14810,\n",
       " 'year': 47884,\n",
       " 'practice': 32996,\n",
       " 'travel': 43961,\n",
       " 'team': 42516,\n",
       " 'really': 34704,\n",
       " 'identify': 21053,\n",
       " '100': 20,\n",
       " 'belong': 4296,\n",
       " 'worth': 47616,\n",
       " 'living': 25231,\n",
       " 'thats': 42881,\n",
       " 'type': 44484,\n",
       " 'school': 37467,\n",
       " 'touching': 43679,\n",
       " 'im': 21177,\n",
       " 'glad': 18013,\n",
       " 'brought': 5925,\n",
       " 'big': 4576,\n",
       " 'dad': 10553,\n",
       " 'loved': 25536,\n",
       " 'remember': 35335,\n",
       " 'tells': 42633,\n",
       " 'riveting': 36204,\n",
       " 'goodness': 18301,\n",
       " 'kindness': 23772,\n",
       " 'man': 26125,\n",
       " 'want': 46525,\n",
       " 'throw': 43144,\n",
       " 'it': 22586,\n",
       " 'take': 42251,\n",
       " 'reverse': 35880,\n",
       " 'plot': 32497,\n",
       " 'ariel': 2628,\n",
       " 'wants': 46531,\n",
       " 'leave': 24638,\n",
       " 'sea': 37721,\n",
       " 'animals': 2154,\n",
       " 'names': 28833,\n",
       " 'crappy': 9934,\n",
       " 'animation': 2161,\n",
       " 'biggest': 4586,\n",
       " 'suck': 41491,\n",
       " 'factor': 15353,\n",
       " 'possible': 32883,\n",
       " 'mermaid': 27230,\n",
       " 'basically': 3882,\n",
       " 'copy': 9558,\n",
       " 'reversed': 35881,\n",
       " 'll': 25245,\n",
       " 'horror': 20593,\n",
       " 'step': 40800,\n",
       " '1st': 313,\n",
       " 'all': 1669,\n",
       " 'prince': 33324,\n",
       " 'eric': 14540,\n",
       " 'still': 40896,\n",
       " 'whole': 47098,\n",
       " 'uptight': 45473,\n",
       " 'annoying': 2220,\n",
       " 'carefree': 6810,\n",
       " 'headstrong': 19715,\n",
       " 'saw': 37251,\n",
       " 'fact': 15349,\n",
       " 'exact': 14868,\n",
       " 'opposite': 30311,\n",
       " 'sebastian': 37788,\n",
       " 'less': 24812,\n",
       " 'cute': 10466,\n",
       " 'convincing': 9484,\n",
       " 'stressed': 41144,\n",
       " 'out': 30538,\n",
       " 'jokes': 23089,\n",
       " 'anymore': 2343,\n",
       " 'flounder': 16428,\n",
       " 'kids': 23712,\n",
       " 'dumb': 13289,\n",
       " 'nasal': 28910,\n",
       " 'voice': 46261,\n",
       " 'scuttle': 37714,\n",
       " 'king': 23780,\n",
       " 'triton': 44147,\n",
       " 'character': 7429,\n",
       " 'probably': 33375,\n",
       " 'best': 4458,\n",
       " 'retains': 35765,\n",
       " 'intimidation': 22283,\n",
       " 'melody': 27094,\n",
       " 'appear': 2428,\n",
       " 'hoot': 20525,\n",
       " 'said': 36923,\n",
       " 'use': 45524,\n",
       " 'did': 11930,\n",
       " 'ursula': 45508,\n",
       " 'morgana': 28224,\n",
       " 'sister': 39044,\n",
       " 'lived': 25214,\n",
       " 'shadow': 38234,\n",
       " 'scared': 37334,\n",
       " 'showed': 38662,\n",
       " 'doorway': 12817,\n",
       " 'knife': 23900,\n",
       " 'can': 6610,\n",
       " 'anything': 2348,\n",
       " 'failure': 15387,\n",
       " 'replaced': 35489,\n",
       " 'stupid': 41309,\n",
       " 'sidekicks': 38803,\n",
       " 'tip': 43335,\n",
       " 'dash': 10788,\n",
       " 'walrus': 46489,\n",
       " 'penguin': 31635,\n",
       " 'try': 44262,\n",
       " 'hero': 20005,\n",
       " 'fail': 15381,\n",
       " 'trying': 44265,\n",
       " 'predictable': 33089,\n",
       " 'become': 4109,\n",
       " 'heroes': 20007,\n",
       " 'end': 14194,\n",
       " 'yawn': 47872,\n",
       " 'flatson': 16271,\n",
       " 'jetsom': 22951,\n",
       " 'shark': 38327,\n",
       " 'turned': 44376,\n",
       " '10x': 58,\n",
       " 'smaller': 39449,\n",
       " 'hes': 20035,\n",
       " 'bad': 3491,\n",
       " 'too': 43531,\n",
       " 'sharkbait': 38328,\n",
       " 'name': 28825,\n",
       " 'chemistry': 7631,\n",
       " 'ah': 1417,\n",
       " 'lovely': 25545,\n",
       " 'un': 44610,\n",
       " 'cannot': 6667,\n",
       " 'sing': 38976,\n",
       " 'octaves': 29984,\n",
       " 'higher': 20120,\n",
       " 'be': 4009,\n",
       " 'punch': 33879,\n",
       " 'face': 15324,\n",
       " 'shes': 38460,\n",
       " 'fake': 15419,\n",
       " 'sugary': 41531,\n",
       " 'sweet': 41967,\n",
       " 'clumsy': 8369,\n",
       " 'her': 19961,\n",
       " 'find': 16061,\n",
       " 'herself': 20027,\n",
       " 'boring': 5388,\n",
       " 'unoriginal': 45196,\n",
       " 'simplistic': 38945,\n",
       " 'gasp': 17539,\n",
       " 'certain': 7287,\n",
       " 'parts': 31268,\n",
       " 'call': 6515,\n",
       " 'disney': 12346,\n",
       " 'demand': 11329,\n",
       " 'horrible': 20580,\n",
       " 'sequel': 38051,\n",
       " 'original': 30422,\n",
       " 'comparing': 8822,\n",
       " 'ed': 13628,\n",
       " 'wood': 47502,\n",
       " 'casablanca': 6965,\n",
       " 'this': 43043,\n",
       " 'even': 14782,\n",
       " 'bored': 5373,\n",
       " 'elementary': 13861,\n",
       " 'back': 3445,\n",
       " '1960s': 256,\n",
       " 'fascinated': 15585,\n",
       " 'played': 32425,\n",
       " 'ingrid': 21823,\n",
       " 'bergman': 4395,\n",
       " 'french': 16983,\n",
       " 'quarter': 34102,\n",
       " 'orleans': 30436,\n",
       " 'comes': 8693,\n",
       " 'revenge': 35863,\n",
       " 'wife': 47169,\n",
       " 'driven': 13123,\n",
       " 'disgrace': 12270,\n",
       " 'meets': 27032,\n",
       " 'clint': 8282,\n",
       " 'maroon': 26442,\n",
       " 'gary': 17528,\n",
       " 'cooper': 9526,\n",
       " 'great': 18603,\n",
       " 'second': 37797,\n",
       " 'saratoga': 37122,\n",
       " 'ny': 29791,\n",
       " 'title': 43371,\n",
       " 'enjoy': 14297,\n",
       " 'much': 28466,\n",
       " 'setting': 38143,\n",
       " 'ten': 42677,\n",
       " 'partly': 31261,\n",
       " 'nostalgia': 29621,\n",
       " 'mostly': 28321,\n",
       " 'darn': 10766,\n",
       " 'besides': 4449,\n",
       " 'equally': 14502,\n",
       " 'flora': 16414,\n",
       " 'robson': 36287,\n",
       " 'close': 8316,\n",
       " 'stealing': 40743,\n",
       " 'scenes': 37379,\n",
       " 'used': 45525,\n",
       " 'shown': 38673,\n",
       " 'periodically': 31752,\n",
       " 'rarely': 34525,\n",
       " 'stations': 40704,\n",
       " 'pick': 32099,\n",
       " 'programming': 33480,\n",
       " 'cycles': 10502,\n",
       " 'show': 38653,\n",
       " 'persons': 31844,\n",
       " 'iq': 22439,\n",
       " 'lower': 25565,\n",
       " '80': 554,\n",
       " 'lame': 24281,\n",
       " 'deserted': 11594,\n",
       " 'island': 22550,\n",
       " 'garbage': 17469,\n",
       " 'hate': 19582,\n",
       " 'accent': 837,\n",
       " 'behavior': 4211,\n",
       " 'pranks': 33019,\n",
       " 'perform': 31728,\n",
       " 'pisses': 32286,\n",
       " 'viewers': 46036,\n",
       " 'gave': 17587,\n",
       " 'reba': 34751,\n",
       " 'voting': 46320,\n",
       " 'knew': 23896,\n",
       " 'know': 23930,\n",
       " 'got': 18385,\n",
       " 'read': 34668,\n",
       " 'download': 12936,\n",
       " 'buy': 6344,\n",
       " 'peace': 31492,\n",
       " 'recommend': 34860,\n",
       " 'mini': 27585,\n",
       " 'series': 38090,\n",
       " 'scrubs': 37686,\n",
       " '14': 94,\n",
       " 'jason': 22814,\n",
       " 'shepherd': 38442,\n",
       " 'wrote': 47723,\n",
       " 'english': 14274,\n",
       " 'paper': 31086,\n",
       " 'called': 6522,\n",
       " 'fat': 15610,\n",
       " 'liar': 24905,\n",
       " 'skateboard': 39104,\n",
       " 'taken': 42255,\n",
       " 'bike': 4601,\n",
       " 'college': 8578,\n",
       " 'hit': 20261,\n",
       " 'limo': 25075,\n",
       " 'went': 46888,\n",
       " 'met': 27272,\n",
       " 'famous': 15477,\n",
       " 'producer': 33424,\n",
       " 'hollywood': 20391,\n",
       " 'marty': 26497,\n",
       " 'wolf': 47456,\n",
       " 'left': 24678,\n",
       " 'forgot': 16696,\n",
       " 'admitted': 1143,\n",
       " 'parents': 31172,\n",
       " 'teacher': 42507,\n",
       " 'him': 20183,\n",
       " 'friend': 17030,\n",
       " 'kaylee': 23519,\n",
       " 'fly': 16481,\n",
       " 'los': 25475,\n",
       " 'angeles': 2111,\n",
       " 'admit': 1138,\n",
       " 'stole': 40967,\n",
       " 'told': 43454,\n",
       " 'tricked': 44080,\n",
       " 'burned': 6233,\n",
       " 'angry': 2141,\n",
       " 'security': 37827,\n",
       " 'site': 39056,\n",
       " 'going': 18229,\n",
       " 'truth': 44257,\n",
       " 'order': 30369,\n",
       " 'phase': 31957,\n",
       " 'takedown': 42254,\n",
       " 'permanent': 31768,\n",
       " 'dye': 13448,\n",
       " 'pool': 32742,\n",
       " 'jumps': 23269,\n",
       " 'body': 5126,\n",
       " 'turns': 44381,\n",
       " 'off': 30027,\n",
       " 'orange': 30345,\n",
       " 'shampoo': 38294,\n",
       " 'uses': 45535,\n",
       " 'hair': 19186,\n",
       " 'finally': 16049,\n",
       " 'lots': 25491,\n",
       " 'glue': 18137,\n",
       " 'earpiece': 13516,\n",
       " 'sticks': 40877,\n",
       " 'ear': 13496,\n",
       " 'headset': 19713,\n",
       " 'glued': 18138,\n",
       " 'that': 42878,\n",
       " 'telling': 42630,\n",
       " 'monty': 28139,\n",
       " 'assistant': 2939,\n",
       " 'duncan': 13321,\n",
       " 'moved': 28410,\n",
       " 'house': 20664,\n",
       " 'on': 30178,\n",
       " 'beat': 4056,\n",
       " 'up': 45417,\n",
       " 'switched': 42023,\n",
       " 'controls': 9436,\n",
       " 'car': 6772,\n",
       " 'drove': 13150,\n",
       " 'button': 6336,\n",
       " 'push': 33982,\n",
       " 'fall': 15434,\n",
       " 'rear': 34728,\n",
       " 'masher': 26528,\n",
       " 'wrecked': 47668,\n",
       " 'starts': 40680,\n",
       " 'again': 1341,\n",
       " 'phone': 32034,\n",
       " 'suggested': 41534,\n",
       " 'side': 38797,\n",
       " 'cause': 7122,\n",
       " 'jerk': 22923,\n",
       " 'rocco': 36291,\n",
       " 'guards': 18900,\n",
       " 'past': 31315,\n",
       " 'days': 10860,\n",
       " 'came': 6560,\n",
       " 'help': 19906,\n",
       " 'move': 28409,\n",
       " 'payback': 31464,\n",
       " 'splits': 40298,\n",
       " 'crew': 10056,\n",
       " 'teams': 42521,\n",
       " 'distract': 12491,\n",
       " 'trick': 44079,\n",
       " 'rode': 36327,\n",
       " 'frank': 16880,\n",
       " 'jackson': 22687,\n",
       " 'broke': 5872,\n",
       " 'jaleel': 22740,\n",
       " 'desert': 11593,\n",
       " 'helicopter': 19874,\n",
       " 'rescue': 35592,\n",
       " 'blades': 4804,\n",
       " 'jammed': 22752,\n",
       " 'pilot': 32199,\n",
       " 'stopped': 41003,\n",
       " 'monkey': 28068,\n",
       " 'lester': 24822,\n",
       " 'released': 35254,\n",
       " 'water': 46654,\n",
       " 'pushed': 33983,\n",
       " 'led': 24657,\n",
       " 'apartment': 2368,\n",
       " 'building': 6084,\n",
       " 'challenging': 7355,\n",
       " 'making': 26045,\n",
       " 'tell': 42627,\n",
       " 'caught': 7116,\n",
       " 'surprise': 41806,\n",
       " 'including': 21507,\n",
       " 'kill': 23729,\n",
       " 'escape': 14606,\n",
       " 'jump': 23262,\n",
       " 'believed': 4260,\n",
       " 'cant': 6675,\n",
       " 'maybe': 26728,\n",
       " 'unfair': 44968,\n",
       " 'review': 35891,\n",
       " 'walked': 46453,\n",
       " 'well': 46859,\n",
       " 'odd': 29992,\n",
       " 'usually': 45547,\n",
       " 'shakespeare': 38260,\n",
       " 'enjoyed': 14301,\n",
       " 'midsummers': 27410,\n",
       " 'night': 29361,\n",
       " 'dream': 13046,\n",
       " 'once': 30183,\n",
       " 'years': 47893,\n",
       " 'ago': 1394,\n",
       " 'stage': 40525,\n",
       " 'things': 43017,\n",
       " 'squeaky': 40461,\n",
       " 'twerp': 44434,\n",
       " 'shakespearian': 38263,\n",
       " 'calista': 6512,\n",
       " 'flockhart': 16393,\n",
       " 'michelle': 27365,\n",
       " 'feiffer': 15769,\n",
       " 'sitting': 39063,\n",
       " 'giant': 17871,\n",
       " 'clamshell': 8101,\n",
       " 'suppose': 41748,\n",
       " 'could': 9727,\n",
       " 'supposed': 41749,\n",
       " 'scenery': 37378,\n",
       " 'actors': 1013,\n",
       " 'aren': 2599,\n",
       " 'hands': 19346,\n",
       " 'duped': 13353,\n",
       " 'seemingly': 37866,\n",
       " 'intelligent': 22107,\n",
       " 'reviews': 35897,\n",
       " 'comments': 8753,\n",
       " 'obviously': 29942,\n",
       " 'actually': 1023,\n",
       " 'shoes': 38569,\n",
       " 'expensive': 15089,\n",
       " 'gasoline': 17538,\n",
       " 'nearest': 29045,\n",
       " 'rental': 35428,\n",
       " 'reading': 34674,\n",
       " 'paid': 30929,\n",
       " 'requisite': 35584,\n",
       " 'dollars': 12700,\n",
       " 'change': 7392,\n",
       " 'rent': 35427,\n",
       " 'minuscule': 27637,\n",
       " 'kilo': 23745,\n",
       " 'calories': 6540,\n",
       " 'spent': 40191,\n",
       " 'lifting': 24998,\n",
       " 'index': 21600,\n",
       " 'finger': 16075,\n",
       " 'switch': 42022,\n",
       " 'channels': 7402,\n",
       " 'remote': 35366,\n",
       " 'minutes': 27641,\n",
       " 'seeing': 37854,\n",
       " 'tale': 42271,\n",
       " 'signs': 38865,\n",
       " 'pedigree': 31554,\n",
       " 'dog': 12661,\n",
       " 'pile': 32176,\n",
       " 'presented': 33192,\n",
       " 'clinical': 8278,\n",
       " 'symptoms': 42105,\n",
       " 'director': 12111,\n",
       " 'senile': 37970,\n",
       " 'or': 30339,\n",
       " 'marginally': 26352,\n",
       " 'interested': 22160,\n",
       " 'she': 38373,\n",
       " 'obligated': 29874,\n",
       " 'create': 9995,\n",
       " 'similar': 38914,\n",
       " 'deterioration': 11717,\n",
       " 'carpenter': 6890,\n",
       " 'string': 41173,\n",
       " 'caricature': 6834,\n",
       " 'number': 29754,\n",
       " 'couple': 9776,\n",
       " 'incriminating': 21569,\n",
       " 'evidence': 14827,\n",
       " 'priest': 33299,\n",
       " 'disturbing': 12518,\n",
       " 'supposedly': 41750,\n",
       " 'harbinger': 19426,\n",
       " 'nastiness': 28925,\n",
       " 'seems': 37869,\n",
       " 'hell': 19879,\n",
       " 'bent': 4368,\n",
       " 'opening': 30262,\n",
       " 'archaeological': 2556,\n",
       " 'feature': 15720,\n",
       " 'houses': 20673,\n",
       " 'demon': 11366,\n",
       " 'goofy': 18321,\n",
       " 'collage': 8554,\n",
       " 'disjointed': 12314,\n",
       " 'images': 21181,\n",
       " 'twilight': 44440,\n",
       " 'zone': 48223,\n",
       " 'stock': 40946,\n",
       " 'footage': 16582,\n",
       " 'ticking': 43212,\n",
       " 'clock': 8298,\n",
       " 'careens': 6806,\n",
       " 'scape': 37325,\n",
       " 'blackness': 4789,\n",
       " 'implying': 21349,\n",
       " 'unfathomable': 44973,\n",
       " 'deal': 10901,\n",
       " 'disembodied': 12255,\n",
       " 'painted': 30946,\n",
       " 'features': 15723,\n",
       " 'convenience': 9442,\n",
       " 'store': 41008,\n",
       " 'quality': 34083,\n",
       " 'halloween': 19253,\n",
       " 'flickers': 16337,\n",
       " 'forth': 16750,\n",
       " 'convulsive': 9493,\n",
       " 'frenzy': 16990,\n",
       " 'effect': 13699,\n",
       " 'rip': 36139,\n",
       " 'jacob': 22694,\n",
       " 'ladder': 24218,\n",
       " 'itself': 22611,\n",
       " 'almost': 1741,\n",
       " 'instantly': 22023,\n",
       " 'discredits': 12232,\n",
       " 'build': 6081,\n",
       " 'dig': 11982,\n",
       " 'laughable': 24490,\n",
       " 'everything': 14819,\n",
       " 'obvious': 29941,\n",
       " 'tired': 43349,\n",
       " 'over': 30653,\n",
       " 'wrought': 47725,\n",
       " 'response': 35698,\n",
       " 'boredom': 5374,\n",
       " 'finding': 16062,\n",
       " 'statues': 40713,\n",
       " 'angels': 2120,\n",
       " 'surrounding': 41826,\n",
       " 'sarcophagus': 37128,\n",
       " 'they': 42988,\n",
       " 're': 34652,\n",
       " 'pointing': 32593,\n",
       " 'toward': 43716,\n",
       " 'crypt': 10286,\n",
       " 'queries': 34132,\n",
       " 'look': 25406,\n",
       " 'holding': 20363,\n",
       " 'down': 12926,\n",
       " 'tension': 42720,\n",
       " 'critical': 10119,\n",
       " 'mass': 26544,\n",
       " 'but': 6308,\n",
       " 'suspense': 41862,\n",
       " 'treat': 44005,\n",
       " 'audience': 3144,\n",
       " 'bunch': 6165,\n",
       " 'morons': 28255,\n",
       " 'explain': 15111,\n",
       " 'along': 1749,\n",
       " 'imagery': 21180,\n",
       " 'done': 12759,\n",
       " 'added': 1056,\n",
       " 'add': 1054,\n",
       " 'insult': 22074,\n",
       " 'injury': 21875,\n",
       " 'opinion': 30288,\n",
       " 'soon': 39890,\n",
       " 'thereafter': 42960,\n",
       " 'tomb': 43482,\n",
       " 'decorated': 11050,\n",
       " 'remains': 35310,\n",
       " 'soldiers': 39785,\n",
       " 'placed': 32340,\n",
       " 'guard': 18893,\n",
       " 'main': 26001,\n",
       " 'atrium': 3057,\n",
       " 'another': 2238,\n",
       " 'shameless': 38290,\n",
       " 'keep': 23556,\n",
       " 'btw': 5995,\n",
       " 'crying': 10283,\n",
       " 'loud': 25500,\n",
       " 'effects': 13705,\n",
       " 'blood': 4967,\n",
       " 'pinkish': 32234,\n",
       " '70': 530,\n",
       " 'tromaville': 44177,\n",
       " 'flicks': 16339,\n",
       " 'became': 4091,\n",
       " 'convinced': 9482,\n",
       " 'simply': 38946,\n",
       " 'wal': 46442,\n",
       " 'mart': 26475,\n",
       " 'interest': 22159,\n",
       " 'money': 28043,\n",
       " 'don': 12743,\n",
       " 'listen': 25163,\n",
       " 'glowing': 18134,\n",
       " 'keeping': 23559,\n",
       " 'suspicious': 41867,\n",
       " 'eye': 15277,\n",
       " 'schrader': 37490,\n",
       " 'hang': 19359,\n",
       " 'gloves': 18132,\n",
       " 'perhaps': 31741,\n",
       " 'offer': 30044,\n",
       " 'gentle': 17740,\n",
       " 'admonition': 1147,\n",
       " 'quit': 34199,\n",
       " 'dignity': 12005,\n",
       " ...}"
      ]
     },
     "execution_count": 55,
     "metadata": {},
     "output_type": "execute_result"
    }
   ],
   "source": [
    "cv.vocabulary_"
   ]
  },
  {
   "cell_type": "code",
   "execution_count": null,
   "id": "2b991c3f",
   "metadata": {},
   "outputs": [],
   "source": [
    "cv.fit_transform(X_train['review'])"
   ]
  },
  {
   "cell_type": "code",
   "execution_count": 57,
   "id": "66600e20",
   "metadata": {},
   "outputs": [
    {
     "data": {
      "text/plain": [
       "array([[0, 0, 0, ..., 0, 0, 0],\n",
       "       [0, 0, 0, ..., 0, 0, 0],\n",
       "       [0, 0, 0, ..., 0, 0, 0],\n",
       "       ...,\n",
       "       [0, 0, 0, ..., 0, 0, 0],\n",
       "       [0, 0, 0, ..., 0, 0, 0],\n",
       "       [0, 0, 0, ..., 0, 0, 0]], dtype=int64)"
      ]
     },
     "execution_count": 57,
     "metadata": {},
     "output_type": "execute_result"
    }
   ],
   "source": [
    "cv.fit_transform(X_train['review']).toarray()"
   ]
  },
  {
   "cell_type": "code",
   "execution_count": 58,
   "id": "847ace00",
   "metadata": {},
   "outputs": [],
   "source": [
    "X_train_bow = cv.fit_transform(X_train['review']).toarray()\n",
    "X_test_bow = cv.transform(X_test['review']).toarray()"
   ]
  },
  {
   "cell_type": "code",
   "execution_count": 31,
   "id": "98e12175",
   "metadata": {},
   "outputs": [
    {
     "data": {
      "text/plain": [
       "(7986, 48282)"
      ]
     },
     "execution_count": 31,
     "metadata": {},
     "output_type": "execute_result"
    }
   ],
   "source": [
    "X_train_bow.shape"
   ]
  },
  {
   "cell_type": "code",
   "execution_count": 32,
   "id": "f937899f",
   "metadata": {},
   "outputs": [
    {
     "data": {
      "text/html": [
       "<style>#sk-container-id-1 {color: black;}#sk-container-id-1 pre{padding: 0;}#sk-container-id-1 div.sk-toggleable {background-color: white;}#sk-container-id-1 label.sk-toggleable__label {cursor: pointer;display: block;width: 100%;margin-bottom: 0;padding: 0.3em;box-sizing: border-box;text-align: center;}#sk-container-id-1 label.sk-toggleable__label-arrow:before {content: \"▸\";float: left;margin-right: 0.25em;color: #696969;}#sk-container-id-1 label.sk-toggleable__label-arrow:hover:before {color: black;}#sk-container-id-1 div.sk-estimator:hover label.sk-toggleable__label-arrow:before {color: black;}#sk-container-id-1 div.sk-toggleable__content {max-height: 0;max-width: 0;overflow: hidden;text-align: left;background-color: #f0f8ff;}#sk-container-id-1 div.sk-toggleable__content pre {margin: 0.2em;color: black;border-radius: 0.25em;background-color: #f0f8ff;}#sk-container-id-1 input.sk-toggleable__control:checked~div.sk-toggleable__content {max-height: 200px;max-width: 100%;overflow: auto;}#sk-container-id-1 input.sk-toggleable__control:checked~label.sk-toggleable__label-arrow:before {content: \"▾\";}#sk-container-id-1 div.sk-estimator input.sk-toggleable__control:checked~label.sk-toggleable__label {background-color: #d4ebff;}#sk-container-id-1 div.sk-label input.sk-toggleable__control:checked~label.sk-toggleable__label {background-color: #d4ebff;}#sk-container-id-1 input.sk-hidden--visually {border: 0;clip: rect(1px 1px 1px 1px);clip: rect(1px, 1px, 1px, 1px);height: 1px;margin: -1px;overflow: hidden;padding: 0;position: absolute;width: 1px;}#sk-container-id-1 div.sk-estimator {font-family: monospace;background-color: #f0f8ff;border: 1px dotted black;border-radius: 0.25em;box-sizing: border-box;margin-bottom: 0.5em;}#sk-container-id-1 div.sk-estimator:hover {background-color: #d4ebff;}#sk-container-id-1 div.sk-parallel-item::after {content: \"\";width: 100%;border-bottom: 1px solid gray;flex-grow: 1;}#sk-container-id-1 div.sk-label:hover label.sk-toggleable__label {background-color: #d4ebff;}#sk-container-id-1 div.sk-serial::before {content: \"\";position: absolute;border-left: 1px solid gray;box-sizing: border-box;top: 0;bottom: 0;left: 50%;z-index: 0;}#sk-container-id-1 div.sk-serial {display: flex;flex-direction: column;align-items: center;background-color: white;padding-right: 0.2em;padding-left: 0.2em;position: relative;}#sk-container-id-1 div.sk-item {position: relative;z-index: 1;}#sk-container-id-1 div.sk-parallel {display: flex;align-items: stretch;justify-content: center;background-color: white;position: relative;}#sk-container-id-1 div.sk-item::before, #sk-container-id-1 div.sk-parallel-item::before {content: \"\";position: absolute;border-left: 1px solid gray;box-sizing: border-box;top: 0;bottom: 0;left: 50%;z-index: -1;}#sk-container-id-1 div.sk-parallel-item {display: flex;flex-direction: column;z-index: 1;position: relative;background-color: white;}#sk-container-id-1 div.sk-parallel-item:first-child::after {align-self: flex-end;width: 50%;}#sk-container-id-1 div.sk-parallel-item:last-child::after {align-self: flex-start;width: 50%;}#sk-container-id-1 div.sk-parallel-item:only-child::after {width: 0;}#sk-container-id-1 div.sk-dashed-wrapped {border: 1px dashed gray;margin: 0 0.4em 0.5em 0.4em;box-sizing: border-box;padding-bottom: 0.4em;background-color: white;}#sk-container-id-1 div.sk-label label {font-family: monospace;font-weight: bold;display: inline-block;line-height: 1.2em;}#sk-container-id-1 div.sk-label-container {text-align: center;}#sk-container-id-1 div.sk-container {/* jupyter's `normalize.less` sets `[hidden] { display: none; }` but bootstrap.min.css set `[hidden] { display: none !important; }` so we also need the `!important` here to be able to override the default hidden behavior on the sphinx rendered scikit-learn.org. See: https://github.com/scikit-learn/scikit-learn/issues/21755 */display: inline-block !important;position: relative;}#sk-container-id-1 div.sk-text-repr-fallback {display: none;}</style><div id=\"sk-container-id-1\" class=\"sk-top-container\"><div class=\"sk-text-repr-fallback\"><pre>GaussianNB()</pre><b>In a Jupyter environment, please rerun this cell to show the HTML representation or trust the notebook. <br />On GitHub, the HTML representation is unable to render, please try loading this page with nbviewer.org.</b></div><div class=\"sk-container\" hidden><div class=\"sk-item\"><div class=\"sk-estimator sk-toggleable\"><input class=\"sk-toggleable__control sk-hidden--visually\" id=\"sk-estimator-id-1\" type=\"checkbox\" checked><label for=\"sk-estimator-id-1\" class=\"sk-toggleable__label sk-toggleable__label-arrow\">GaussianNB</label><div class=\"sk-toggleable__content\"><pre>GaussianNB()</pre></div></div></div></div></div>"
      ],
      "text/plain": [
       "GaussianNB()"
      ]
     },
     "execution_count": 32,
     "metadata": {},
     "output_type": "execute_result"
    }
   ],
   "source": [
    "from sklearn.naive_bayes import GaussianNB\n",
    "gnb = GaussianNB()\n",
    "\n",
    "gnb.fit(X_train_bow,y_train)"
   ]
  },
  {
   "cell_type": "code",
   "execution_count": 33,
   "id": "7164016f",
   "metadata": {},
   "outputs": [
    {
     "data": {
      "text/plain": [
       "0.6324486730095142"
      ]
     },
     "execution_count": 33,
     "metadata": {},
     "output_type": "execute_result"
    }
   ],
   "source": [
    "y_pred = gnb.predict(X_test_bow)\n",
    "\n",
    "from sklearn.metrics import accuracy_score,confusion_matrix\n",
    "accuracy_score(y_test,y_pred)"
   ]
  },
  {
   "cell_type": "code",
   "execution_count": 34,
   "id": "65a01603",
   "metadata": {},
   "outputs": [
    {
     "data": {
      "text/plain": [
       "array([[717, 235],\n",
       "       [499, 546]], dtype=int64)"
      ]
     },
     "execution_count": 34,
     "metadata": {},
     "output_type": "execute_result"
    }
   ],
   "source": [
    "confusion_matrix(y_test,y_pred)"
   ]
  },
  {
   "cell_type": "code",
   "execution_count": 35,
   "id": "6676b0e0",
   "metadata": {},
   "outputs": [
    {
     "data": {
      "text/plain": [
       "0.8452679018527791"
      ]
     },
     "execution_count": 35,
     "metadata": {},
     "output_type": "execute_result"
    }
   ],
   "source": [
    "from sklearn.ensemble import RandomForestClassifier\n",
    "rf = RandomForestClassifier()\n",
    "\n",
    "rf.fit(X_train_bow,y_train)\n",
    "y_pred = rf.predict(X_test_bow)\n",
    "accuracy_score(y_test,y_pred)"
   ]
  },
  {
   "cell_type": "code",
   "execution_count": null,
   "id": "cc85e4b2",
   "metadata": {},
   "outputs": [
    {
     "data": {
      "text/plain": [
       "0.8357536304456685"
      ]
     },
     "execution_count": 36,
     "metadata": {},
     "output_type": "execute_result"
    }
   ],
   "source": [
    "cv = CountVectorizer(max_features=3000) #only top 3000 words will form vocabulary\n",
    "\n",
    "X_train_bow = cv.fit_transform(X_train['review']).toarray()\n",
    "X_test_bow = cv.transform(X_test['review']).toarray()\n",
    "\n",
    "rf = RandomForestClassifier()\n",
    "\n",
    "rf.fit(X_train_bow,y_train)\n",
    "y_pred = rf.predict(X_test_bow)\n",
    "accuracy_score(y_test,y_pred)"
   ]
  },
  {
   "cell_type": "code",
   "execution_count": 37,
   "id": "c5602297",
   "metadata": {},
   "outputs": [
    {
     "data": {
      "text/plain": [
       "0.8402603905858789"
      ]
     },
     "execution_count": 37,
     "metadata": {},
     "output_type": "execute_result"
    }
   ],
   "source": [
    "cv = CountVectorizer(ngram_range=(1,2),max_features=5000)\n",
    "\n",
    "X_train_bow = cv.fit_transform(X_train['review']).toarray()\n",
    "X_test_bow = cv.transform(X_test['review']).toarray()\n",
    "\n",
    "rf = RandomForestClassifier()\n",
    "\n",
    "rf.fit(X_train_bow,y_train)\n",
    "y_pred = rf.predict(X_test_bow)\n",
    "accuracy_score(y_test,y_pred)"
   ]
  },
  {
   "cell_type": "code",
   "execution_count": null,
   "id": "d0930ca1",
   "metadata": {},
   "outputs": [],
   "source": []
  },
  {
   "cell_type": "markdown",
   "id": "f77c7784",
   "metadata": {},
   "source": [
    "## Using TfIdf"
   ]
  },
  {
   "cell_type": "code",
   "execution_count": 38,
   "id": "6a4ad25b",
   "metadata": {},
   "outputs": [],
   "source": [
    "from sklearn.feature_extraction.text import TfidfVectorizer"
   ]
  },
  {
   "cell_type": "code",
   "execution_count": 39,
   "id": "7efd8b3f",
   "metadata": {},
   "outputs": [],
   "source": [
    "tfidf = TfidfVectorizer()"
   ]
  },
  {
   "cell_type": "code",
   "execution_count": 40,
   "id": "76e2d7ed",
   "metadata": {},
   "outputs": [],
   "source": [
    "X_train_tfidf = tfidf.fit_transform(X_train['review']).toarray()\n",
    "X_test_tfidf = tfidf.transform(X_test['review'])"
   ]
  },
  {
   "cell_type": "code",
   "execution_count": 41,
   "id": "a89c3ed1",
   "metadata": {},
   "outputs": [
    {
     "data": {
      "text/plain": [
       "0.8402603905858789"
      ]
     },
     "execution_count": 41,
     "metadata": {},
     "output_type": "execute_result"
    }
   ],
   "source": [
    "rf = RandomForestClassifier()\n",
    "\n",
    "rf.fit(X_train_tfidf,y_train)\n",
    "y_pred = rf.predict(X_test_tfidf)\n",
    "\n",
    "accuracy_score(y_test,y_pred)"
   ]
  },
  {
   "cell_type": "code",
   "execution_count": null,
   "id": "3c7e36ff",
   "metadata": {},
   "outputs": [],
   "source": []
  },
  {
   "cell_type": "code",
   "execution_count": null,
   "id": "4bf6b986",
   "metadata": {},
   "outputs": [],
   "source": []
  },
  {
   "cell_type": "code",
   "execution_count": null,
   "id": "faafe112",
   "metadata": {},
   "outputs": [],
   "source": []
  },
  {
   "cell_type": "code",
   "execution_count": 42,
   "id": "4a261a8d",
   "metadata": {},
   "outputs": [
    {
     "ename": "ModuleNotFoundError",
     "evalue": "No module named 'gensim'",
     "output_type": "error",
     "traceback": [
      "\u001b[1;31m---------------------------------------------------------------------------\u001b[0m",
      "\u001b[1;31mModuleNotFoundError\u001b[0m                       Traceback (most recent call last)",
      "Cell \u001b[1;32mIn[42], line 1\u001b[0m\n\u001b[1;32m----> 1\u001b[0m \u001b[38;5;28;01mimport\u001b[39;00m \u001b[38;5;21;01mgensim\u001b[39;00m\n",
      "\u001b[1;31mModuleNotFoundError\u001b[0m: No module named 'gensim'"
     ]
    }
   ],
   "source": [
    "import gensim"
   ]
  },
  {
   "cell_type": "code",
   "execution_count": 122,
   "id": "4679427f",
   "metadata": {},
   "outputs": [],
   "source": [
    "from gensim.models import Word2Vec,KeyedVectors"
   ]
  },
  {
   "cell_type": "code",
   "execution_count": 125,
   "id": "498f49f9",
   "metadata": {},
   "outputs": [],
   "source": [
    "model = KeyedVectors.load_word2vec_format('GoogleNews-vectors-negative300.bin',binary=True,limit=500000)"
   ]
  },
  {
   "cell_type": "code",
   "execution_count": 127,
   "id": "9da8d022",
   "metadata": {},
   "outputs": [
    {
     "data": {
      "text/plain": [
       "(300,)"
      ]
     },
     "execution_count": 127,
     "metadata": {},
     "output_type": "execute_result"
    }
   ],
   "source": [
    "model['cricket'].shape"
   ]
  },
  {
   "cell_type": "code",
   "execution_count": 150,
   "id": "db251ffa",
   "metadata": {},
   "outputs": [],
   "source": [
    "from nltk.corpus import stopwords\n",
    "\n",
    "sw_list = stopwords.words('english')"
   ]
  },
  {
   "cell_type": "code",
   "execution_count": 151,
   "id": "60f16b9e",
   "metadata": {},
   "outputs": [
    {
     "data": {
      "text/plain": [
       "['i',\n",
       " 'me',\n",
       " 'my',\n",
       " 'myself',\n",
       " 'we',\n",
       " 'our',\n",
       " 'ours',\n",
       " 'ourselves',\n",
       " 'you',\n",
       " \"you're\",\n",
       " \"you've\",\n",
       " \"you'll\",\n",
       " \"you'd\",\n",
       " 'your',\n",
       " 'yours',\n",
       " 'yourself',\n",
       " 'yourselves',\n",
       " 'he',\n",
       " 'him',\n",
       " 'his',\n",
       " 'himself',\n",
       " 'she',\n",
       " \"she's\",\n",
       " 'her',\n",
       " 'hers',\n",
       " 'herself',\n",
       " 'it',\n",
       " \"it's\",\n",
       " 'its',\n",
       " 'itself',\n",
       " 'they',\n",
       " 'them',\n",
       " 'their',\n",
       " 'theirs',\n",
       " 'themselves',\n",
       " 'what',\n",
       " 'which',\n",
       " 'who',\n",
       " 'whom',\n",
       " 'this',\n",
       " 'that',\n",
       " \"that'll\",\n",
       " 'these',\n",
       " 'those',\n",
       " 'am',\n",
       " 'is',\n",
       " 'are',\n",
       " 'was',\n",
       " 'were',\n",
       " 'be',\n",
       " 'been',\n",
       " 'being',\n",
       " 'have',\n",
       " 'has',\n",
       " 'had',\n",
       " 'having',\n",
       " 'do',\n",
       " 'does',\n",
       " 'did',\n",
       " 'doing',\n",
       " 'a',\n",
       " 'an',\n",
       " 'the',\n",
       " 'and',\n",
       " 'but',\n",
       " 'if',\n",
       " 'or',\n",
       " 'because',\n",
       " 'as',\n",
       " 'until',\n",
       " 'while',\n",
       " 'of',\n",
       " 'at',\n",
       " 'by',\n",
       " 'for',\n",
       " 'with',\n",
       " 'about',\n",
       " 'against',\n",
       " 'between',\n",
       " 'into',\n",
       " 'through',\n",
       " 'during',\n",
       " 'before',\n",
       " 'after',\n",
       " 'above',\n",
       " 'below',\n",
       " 'to',\n",
       " 'from',\n",
       " 'up',\n",
       " 'down',\n",
       " 'in',\n",
       " 'out',\n",
       " 'on',\n",
       " 'off',\n",
       " 'over',\n",
       " 'under',\n",
       " 'again',\n",
       " 'further',\n",
       " 'then',\n",
       " 'once',\n",
       " 'here',\n",
       " 'there',\n",
       " 'when',\n",
       " 'where',\n",
       " 'why',\n",
       " 'how',\n",
       " 'all',\n",
       " 'any',\n",
       " 'both',\n",
       " 'each',\n",
       " 'few',\n",
       " 'more',\n",
       " 'most',\n",
       " 'other',\n",
       " 'some',\n",
       " 'such',\n",
       " 'no',\n",
       " 'nor',\n",
       " 'not',\n",
       " 'only',\n",
       " 'own',\n",
       " 'same',\n",
       " 'so',\n",
       " 'than',\n",
       " 'too',\n",
       " 'very',\n",
       " 's',\n",
       " 't',\n",
       " 'can',\n",
       " 'will',\n",
       " 'just',\n",
       " 'don',\n",
       " \"don't\",\n",
       " 'should',\n",
       " \"should've\",\n",
       " 'now',\n",
       " 'd',\n",
       " 'll',\n",
       " 'm',\n",
       " 'o',\n",
       " 're',\n",
       " 've',\n",
       " 'y',\n",
       " 'ain',\n",
       " 'aren',\n",
       " \"aren't\",\n",
       " 'couldn',\n",
       " \"couldn't\",\n",
       " 'didn',\n",
       " \"didn't\",\n",
       " 'doesn',\n",
       " \"doesn't\",\n",
       " 'hadn',\n",
       " \"hadn't\",\n",
       " 'hasn',\n",
       " \"hasn't\",\n",
       " 'haven',\n",
       " \"haven't\",\n",
       " 'isn',\n",
       " \"isn't\",\n",
       " 'ma',\n",
       " 'mightn',\n",
       " \"mightn't\",\n",
       " 'mustn',\n",
       " \"mustn't\",\n",
       " 'needn',\n",
       " \"needn't\",\n",
       " 'shan',\n",
       " \"shan't\",\n",
       " 'shouldn',\n",
       " \"shouldn't\",\n",
       " 'wasn',\n",
       " \"wasn't\",\n",
       " 'weren',\n",
       " \"weren't\",\n",
       " 'won',\n",
       " \"won't\",\n",
       " 'wouldn',\n",
       " \"wouldn't\"]"
      ]
     },
     "execution_count": 151,
     "metadata": {},
     "output_type": "execute_result"
    }
   ],
   "source": [
    "sw_list"
   ]
  },
  {
   "cell_type": "code",
   "execution_count": 155,
   "id": "79f982ce",
   "metadata": {},
   "outputs": [],
   "source": [
    "# Remove stopwords\n",
    "\n",
    "X_train = X_train['review'].apply(lambda x: [item for item in x.split() if item not in sw_list]).apply(lambda x:\" \".join(x))\n",
    "# Remove stopwords\n",
    "\n",
    "X_test = X_test['review'].apply(lambda x: [item for item in x.split() if item not in sw_list]).apply(lambda x:\" \".join(x))"
   ]
  },
  {
   "cell_type": "code",
   "execution_count": 178,
   "id": "f4e202e0",
   "metadata": {},
   "outputs": [
    {
     "name": "stdout",
     "output_type": "stream",
     "text": [
      "[ 0.15583833  0.22911808  0.13835862 -0.2090293  -0.00363565 -0.13118638\n",
      " -0.15676734  0.23040245 -0.24502586 -0.10665981  0.23412983 -0.21705897\n",
      "  0.13545002  0.13861737  0.12415285  0.21369664 -0.19687523 -0.10246313\n",
      " -0.03955808  0.27656794 -0.11084636 -0.28008527  0.3439968   0.0482447\n",
      " -0.06924975 -0.03105986 -0.54718924 -0.3975329   0.1704354  -0.16617411\n",
      "  0.09593288 -0.31931752  0.42519966  0.05527496  0.06130749 -0.3888249\n",
      " -0.14431256  0.07848645  0.07683445  0.3278561  -0.3507611  -0.1357377\n",
      "  0.28880984  0.09166662  0.0593424  -0.04693977  0.1484201   0.01081875\n",
      "  0.25666746  0.21095097  0.1744978   0.04549917  0.19118404 -0.25923675\n",
      " -0.06680956  0.25583443 -0.06317639 -0.2850735  -0.03264944  0.0042502\n",
      " -0.07356709 -0.09716224  0.08560921 -0.09941689 -0.12068396 -0.21283795\n",
      " -0.03129313 -0.32813746  0.42847297 -0.37240502  0.26251498 -0.11578684\n",
      " -0.03221569 -0.05079779  0.17090753 -0.12238634 -0.07934     0.22784583\n",
      "  0.20331696 -0.5104732   0.07128731 -0.03987676 -0.05812799  0.19840325\n",
      " -0.10885198 -0.09540041  0.2161586  -0.17952771  0.04469092  0.06091264\n",
      "  0.05722181 -0.02751416  0.19805025  0.32649586 -0.06467736  0.10155083]\n"
     ]
    }
   ],
   "source": [
    "import spacy\n",
    "import en_core_web_sm\n",
    "# Load the spacy model. This takes a few seconds.\n",
    "nlp = en_core_web_sm.load()\n",
    "# Process a sentence using the model\n",
    "doc = nlp(X_train.values[0])\n",
    "print(doc.vector)"
   ]
  },
  {
   "cell_type": "code",
   "execution_count": 173,
   "id": "8b38bab4",
   "metadata": {},
   "outputs": [
    {
     "name": "stdout",
     "output_type": "stream",
     "text": [
      "Collecting https://github.com/explosion/spacy-models/releases/download/en_core_web_sm-2.2.0/en_core_web_sm-2.2.5.tar.gz\n"
     ]
    },
    {
     "name": "stderr",
     "output_type": "stream",
     "text": [
      "  ERROR: HTTP error 404 while getting https://github.com/explosion/spacy-models/releases/download/en_core_web_sm-2.2.0/en_core_web_sm-2.2.5.tar.gz\n",
      "ERROR: Could not install requirement https://github.com/explosion/spacy-models/releases/download/en_core_web_sm-2.2.0/en_core_web_sm-2.2.5.tar.gz because of HTTP error 404 Client Error: Not Found for url: https://github.com/explosion/spacy-models/releases/download/en_core_web_sm-2.2.0/en_core_web_sm-2.2.5.tar.gz for URL https://github.com/explosion/spacy-models/releases/download/en_core_web_sm-2.2.0/en_core_web_sm-2.2.5.tar.gz\n"
     ]
    }
   ],
   "source": [
    "!pip install https://github.com/explosion/spacy-models/releases/download/en_core_web_sm-2.2.0/en_core_web_sm-2.2.5.tar.gz"
   ]
  },
  {
   "cell_type": "code",
   "execution_count": 174,
   "id": "313b1131",
   "metadata": {},
   "outputs": [
    {
     "name": "stdout",
     "output_type": "stream",
     "text": [
      "Collecting en-core-web-sm==3.2.0\n",
      "  Downloading https://github.com/explosion/spacy-models/releases/download/en_core_web_sm-3.2.0/en_core_web_sm-3.2.0-py3-none-any.whl (13.9 MB)\n",
      "Requirement already satisfied: spacy<3.3.0,>=3.2.0 in c:\\users\\91842\\anaconda3\\lib\\site-packages (from en-core-web-sm==3.2.0) (3.2.1)\n",
      "Requirement already satisfied: typer<0.5.0,>=0.3.0 in c:\\users\\91842\\anaconda3\\lib\\site-packages (from spacy<3.3.0,>=3.2.0->en-core-web-sm==3.2.0) (0.4.0)\n",
      "Requirement already satisfied: preshed<3.1.0,>=3.0.2 in c:\\users\\91842\\anaconda3\\lib\\site-packages (from spacy<3.3.0,>=3.2.0->en-core-web-sm==3.2.0) (3.0.6)\n",
      "Requirement already satisfied: thinc<8.1.0,>=8.0.12 in c:\\users\\91842\\anaconda3\\lib\\site-packages (from spacy<3.3.0,>=3.2.0->en-core-web-sm==3.2.0) (8.0.13)\n",
      "Requirement already satisfied: blis<0.8.0,>=0.4.0 in c:\\users\\91842\\anaconda3\\lib\\site-packages (from spacy<3.3.0,>=3.2.0->en-core-web-sm==3.2.0) (0.7.5)\n",
      "Requirement already satisfied: murmurhash<1.1.0,>=0.28.0 in c:\\users\\91842\\anaconda3\\lib\\site-packages (from spacy<3.3.0,>=3.2.0->en-core-web-sm==3.2.0) (1.0.6)\n",
      "Requirement already satisfied: spacy-legacy<3.1.0,>=3.0.8 in c:\\users\\91842\\anaconda3\\lib\\site-packages (from spacy<3.3.0,>=3.2.0->en-core-web-sm==3.2.0) (3.0.8)\n",
      "Requirement already satisfied: setuptools in c:\\users\\91842\\anaconda3\\lib\\site-packages (from spacy<3.3.0,>=3.2.0->en-core-web-sm==3.2.0) (52.0.0.post20210125)\n",
      "Requirement already satisfied: cymem<2.1.0,>=2.0.2 in c:\\users\\91842\\anaconda3\\lib\\site-packages (from spacy<3.3.0,>=3.2.0->en-core-web-sm==3.2.0) (2.0.6)\n",
      "Requirement already satisfied: jinja2 in c:\\users\\91842\\anaconda3\\lib\\site-packages (from spacy<3.3.0,>=3.2.0->en-core-web-sm==3.2.0) (2.11.3)\n",
      "Requirement already satisfied: pathy>=0.3.5 in c:\\users\\91842\\anaconda3\\lib\\site-packages (from spacy<3.3.0,>=3.2.0->en-core-web-sm==3.2.0) (0.6.1)\n",
      "Requirement already satisfied: srsly<3.0.0,>=2.4.1 in c:\\users\\91842\\anaconda3\\lib\\site-packages (from spacy<3.3.0,>=3.2.0->en-core-web-sm==3.2.0) (2.4.2)\n",
      "Requirement already satisfied: numpy>=1.15.0 in c:\\users\\91842\\anaconda3\\lib\\site-packages (from spacy<3.3.0,>=3.2.0->en-core-web-sm==3.2.0) (1.20.1)\n",
      "Requirement already satisfied: wasabi<1.1.0,>=0.8.1 in c:\\users\\91842\\anaconda3\\lib\\site-packages (from spacy<3.3.0,>=3.2.0->en-core-web-sm==3.2.0) (0.9.0)\n",
      "Requirement already satisfied: requests<3.0.0,>=2.13.0 in c:\\users\\91842\\anaconda3\\lib\\site-packages (from spacy<3.3.0,>=3.2.0->en-core-web-sm==3.2.0) (2.25.1)\n",
      "Requirement already satisfied: spacy-loggers<2.0.0,>=1.0.0 in c:\\users\\91842\\anaconda3\\lib\\site-packages (from spacy<3.3.0,>=3.2.0->en-core-web-sm==3.2.0) (1.0.1)\n",
      "Requirement already satisfied: langcodes<4.0.0,>=3.2.0 in c:\\users\\91842\\anaconda3\\lib\\site-packages (from spacy<3.3.0,>=3.2.0->en-core-web-sm==3.2.0) (3.3.0)\n",
      "Requirement already satisfied: packaging>=20.0 in c:\\users\\91842\\anaconda3\\lib\\site-packages (from spacy<3.3.0,>=3.2.0->en-core-web-sm==3.2.0) (20.9)\n",
      "Requirement already satisfied: tqdm<5.0.0,>=4.38.0 in c:\\users\\91842\\anaconda3\\lib\\site-packages (from spacy<3.3.0,>=3.2.0->en-core-web-sm==3.2.0) (4.59.0)\n",
      "Requirement already satisfied: catalogue<2.1.0,>=2.0.6 in c:\\users\\91842\\anaconda3\\lib\\site-packages (from spacy<3.3.0,>=3.2.0->en-core-web-sm==3.2.0) (2.0.6)\n",
      "Requirement already satisfied: pydantic!=1.8,!=1.8.1,<1.9.0,>=1.7.4 in c:\\users\\91842\\anaconda3\\lib\\site-packages (from spacy<3.3.0,>=3.2.0->en-core-web-sm==3.2.0) (1.8.2)\n",
      "Requirement already satisfied: pyparsing>=2.0.2 in c:\\users\\91842\\anaconda3\\lib\\site-packages (from packaging>=20.0->spacy<3.3.0,>=3.2.0->en-core-web-sm==3.2.0) (2.4.7)\n",
      "Requirement already satisfied: smart-open<6.0.0,>=5.0.0 in c:\\users\\91842\\anaconda3\\lib\\site-packages (from pathy>=0.3.5->spacy<3.3.0,>=3.2.0->en-core-web-sm==3.2.0) (5.2.1)\n",
      "Requirement already satisfied: typing-extensions>=3.7.4.3 in c:\\users\\91842\\anaconda3\\lib\\site-packages (from pydantic!=1.8,!=1.8.1,<1.9.0,>=1.7.4->spacy<3.3.0,>=3.2.0->en-core-web-sm==3.2.0) (3.7.4.3)\n",
      "Requirement already satisfied: chardet<5,>=3.0.2 in c:\\users\\91842\\anaconda3\\lib\\site-packages (from requests<3.0.0,>=2.13.0->spacy<3.3.0,>=3.2.0->en-core-web-sm==3.2.0) (4.0.0)\n",
      "Requirement already satisfied: idna<3,>=2.5 in c:\\users\\91842\\anaconda3\\lib\\site-packages (from requests<3.0.0,>=2.13.0->spacy<3.3.0,>=3.2.0->en-core-web-sm==3.2.0) (2.10)\n",
      "Requirement already satisfied: urllib3<1.27,>=1.21.1 in c:\\users\\91842\\anaconda3\\lib\\site-packages (from requests<3.0.0,>=2.13.0->spacy<3.3.0,>=3.2.0->en-core-web-sm==3.2.0) (1.26.4)\n",
      "Requirement already satisfied: certifi>=2017.4.17 in c:\\users\\91842\\anaconda3\\lib\\site-packages (from requests<3.0.0,>=2.13.0->spacy<3.3.0,>=3.2.0->en-core-web-sm==3.2.0) (2020.12.5)\n",
      "Requirement already satisfied: click<9.0.0,>=7.1.1 in c:\\users\\91842\\anaconda3\\lib\\site-packages (from typer<0.5.0,>=0.3.0->spacy<3.3.0,>=3.2.0->en-core-web-sm==3.2.0) (7.1.2)\n",
      "Requirement already satisfied: MarkupSafe>=0.23 in c:\\users\\91842\\anaconda3\\lib\\site-packages (from jinja2->spacy<3.3.0,>=3.2.0->en-core-web-sm==3.2.0) (1.1.1)\n",
      "Installing collected packages: en-core-web-sm\n",
      "Successfully installed en-core-web-sm-3.2.0\n",
      "[+] Download and installation successful\n",
      "You can now load the package via spacy.load('en_core_web_sm')\n"
     ]
    }
   ],
   "source": [
    "!python -m spacy download en_core_web_sm"
   ]
  },
  {
   "cell_type": "code",
   "execution_count": 180,
   "id": "43202871",
   "metadata": {},
   "outputs": [],
   "source": [
    "input_arr = []\n",
    "for item in X_train.values:\n",
    "    doc = nlp(item)\n",
    "    input_arr.append(doc.vector)"
   ]
  },
  {
   "cell_type": "code",
   "execution_count": 182,
   "id": "e23b8889",
   "metadata": {},
   "outputs": [],
   "source": [
    "input_arr = np.array(input_arr)"
   ]
  },
  {
   "cell_type": "code",
   "execution_count": 183,
   "id": "07aa9cee",
   "metadata": {},
   "outputs": [
    {
     "data": {
      "text/plain": [
       "(7986, 96)"
      ]
     },
     "execution_count": 183,
     "metadata": {},
     "output_type": "execute_result"
    }
   ],
   "source": [
    "input_arr.shape"
   ]
  },
  {
   "cell_type": "code",
   "execution_count": 184,
   "id": "279e7a0c",
   "metadata": {},
   "outputs": [],
   "source": [
    "input_test_arr = []\n",
    "for item in X_test.values:\n",
    "    doc = nlp(item)\n",
    "    input_test_arr.append(doc.vector)"
   ]
  },
  {
   "cell_type": "code",
   "execution_count": 185,
   "id": "1996ba84",
   "metadata": {},
   "outputs": [],
   "source": [
    "input_test_arr = np.array(input_test_arr)"
   ]
  },
  {
   "cell_type": "code",
   "execution_count": 186,
   "id": "61715e93",
   "metadata": {},
   "outputs": [
    {
     "data": {
      "text/plain": [
       "(1997, 96)"
      ]
     },
     "execution_count": 186,
     "metadata": {},
     "output_type": "execute_result"
    }
   ],
   "source": [
    "input_test_arr.shape"
   ]
  },
  {
   "cell_type": "code",
   "execution_count": 189,
   "id": "c9f71144",
   "metadata": {},
   "outputs": [],
   "source": [
    "from sklearn.naive_bayes import GaussianNB"
   ]
  },
  {
   "cell_type": "code",
   "execution_count": 190,
   "id": "9a3daa2d",
   "metadata": {},
   "outputs": [
    {
     "data": {
      "text/plain": [
       "GaussianNB()"
      ]
     },
     "execution_count": 190,
     "metadata": {},
     "output_type": "execute_result"
    }
   ],
   "source": [
    "gnb = GaussianNB()\n",
    "gnb.fit(input_arr,y_train)"
   ]
  },
  {
   "cell_type": "code",
   "execution_count": 191,
   "id": "ce41c5e8",
   "metadata": {},
   "outputs": [
    {
     "data": {
      "text/plain": [
       "0.6119178768152228"
      ]
     },
     "execution_count": 191,
     "metadata": {},
     "output_type": "execute_result"
    }
   ],
   "source": [
    "y_pred = gnb.predict(input_test_arr)\n",
    "accuracy_score(y_test,y_pred)"
   ]
  },
  {
   "cell_type": "code",
   "execution_count": null,
   "id": "f326b87d",
   "metadata": {},
   "outputs": [],
   "source": []
  }
 ],
 "metadata": {
  "kernelspec": {
   "display_name": "Python 3",
   "language": "python",
   "name": "python3"
  },
  "language_info": {
   "codemirror_mode": {
    "name": "ipython",
    "version": 3
   },
   "file_extension": ".py",
   "mimetype": "text/x-python",
   "name": "python",
   "nbconvert_exporter": "python",
   "pygments_lexer": "ipython3",
   "version": "3.11.6"
  }
 },
 "nbformat": 4,
 "nbformat_minor": 5
}
