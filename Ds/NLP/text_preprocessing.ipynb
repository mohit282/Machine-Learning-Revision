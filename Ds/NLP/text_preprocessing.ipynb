{
 "cells": [
  {
   "cell_type": "markdown",
   "metadata": {},
   "source": [
    "## Tokenization"
   ]
  },
  {
   "cell_type": "code",
   "execution_count": 1,
   "metadata": {},
   "outputs": [],
   "source": [
    "from nltk import word_tokenize,sent_tokenize\n",
    "import spacy"
   ]
  },
  {
   "cell_type": "code",
   "execution_count": 5,
   "metadata": {},
   "outputs": [
    {
     "name": "stdout",
     "output_type": "stream",
     "text": [
      "['today', ',', 'I', 'went', 'to', 'new', 'Delhi', '!']\n"
     ]
    }
   ],
   "source": [
    "text = \"today, I went to new Delhi!\"\n",
    "tokenize_words = word_tokenize(text)\n",
    "print(tokenize_words)"
   ]
  },
  {
   "cell_type": "code",
   "execution_count": 6,
   "metadata": {},
   "outputs": [
    {
     "name": "stdout",
     "output_type": "stream",
     "text": [
      "['today,', 'I', 'went', 'to', 'new', 'Delhi!']\n"
     ]
    }
   ],
   "source": [
    "print(text.split())"
   ]
  },
  {
   "cell_type": "code",
   "execution_count": 7,
   "metadata": {},
   "outputs": [
    {
     "name": "stdout",
     "output_type": "stream",
     "text": [
      "['Today i learned about stars.', \"They are giant balls of gas floating in the space, isn't this fascinating?\"]\n"
     ]
    }
   ],
   "source": [
    "text = \"Today i learned about stars. They are giant balls of gas floating in the space, isn't this fascinating?\"\n",
    "\n",
    "sentences = sent_tokenize(text)\n",
    "print(sentences) "
   ]
  },
  {
   "cell_type": "markdown",
   "metadata": {},
   "source": [
    "## Stemming"
   ]
  },
  {
   "cell_type": "code",
   "execution_count": null,
   "metadata": {},
   "outputs": [
    {
     "name": "stdout",
     "output_type": "stream",
     "text": [
      "Stems: [{'running', 'run'}, {'studi', 'studies'}, {'happiness', 'happi'}]\n"
     ]
    }
   ],
   "source": [
    "from nltk.stem import PorterStemmer  \n",
    "stemmer = PorterStemmer() \n",
    "words = [\"running\", \"studies\", \"happiness\"]  \n",
    "stems = [{word,stemmer.stem(word)} for word in words] \n",
    "print(\"Stems:\", stems) "
   ]
  },
  {
   "cell_type": "markdown",
   "metadata": {},
   "source": [
    "## Lemmatization"
   ]
  },
  {
   "cell_type": "code",
   "execution_count": null,
   "metadata": {},
   "outputs": [
    {
     "name": "stdout",
     "output_type": "stream",
     "text": [
      "[['running', 'run'], ['better', 'better'], ['studies', 'study']]\n"
     ]
    }
   ],
   "source": [
    "from nltk.stem import WordNetLemmatizer  \n",
    "lemmatizer = WordNetLemmatizer()  \n",
    "words = [\"running\", \"better\", \"studies\"] \n",
    "lemmas = [[word,lemmatizer.lemmatize(word, pos=\"v\")] for word in words]  # Specify 'v' for verbs \n",
    "print(lemmas)  # Output: [['running', 'run'], ['better', 'better'], ['studies', 'study']] "
   ]
  },
  {
   "cell_type": "code",
   "execution_count": null,
   "metadata": {},
   "outputs": [],
   "source": []
  }
 ],
 "metadata": {
  "kernelspec": {
   "display_name": "Python 3",
   "language": "python",
   "name": "python3"
  },
  "language_info": {
   "codemirror_mode": {
    "name": "ipython",
    "version": 3
   },
   "file_extension": ".py",
   "mimetype": "text/x-python",
   "name": "python",
   "nbconvert_exporter": "python",
   "pygments_lexer": "ipython3",
   "version": "3.11.6"
  }
 },
 "nbformat": 4,
 "nbformat_minor": 2
}
