{
  "cells": [
    {
      "cell_type": "code",
      "execution_count": 45,
      "metadata": {
        "id": "qho6Ucq7dhTt"
      },
      "outputs": [],
      "source": [
        "import pandas as pd\n",
        "import numpy as np\n",
        "import matplotlib.pyplot as plt"
      ]
    },
    {
      "cell_type": "code",
      "execution_count": 8,
      "metadata": {
        "colab": {
          "base_uri": "https://localhost:8080/"
        },
        "id": "p2Fg41HF81KJ",
        "outputId": "af7f6863-0827-4652-872c-7f2a505b64af"
      },
      "outputs": [
        {
          "data": {
            "text/plain": [
              "0      Friday\n",
              "1    Saturday\n",
              "2    Saturday\n",
              "dtype: object"
            ]
          },
          "execution_count": 8,
          "metadata": {},
          "output_type": "execute_result"
        }
      ],
      "source": [
        "# till now\n",
        "# Timestamp\n",
        "pd.Timestamp('6th jan 2023 8:10')\n",
        "# DatetimeIndex -> df and series index\n",
        "pd.DatetimeIndex([pd.Timestamp('6th jan 2023 8:10'),pd.Timestamp('7th jan 2023 8:10'),pd.Timestamp('8th jan 2023 8:10')])[0]\n",
        "# date_range()\n",
        "pd.date_range(start='2023-1-6',end='2023-1-31',freq='D')\n",
        "# to_datetime()\n",
        "s = pd.Series(['2023/1/6','2023/1/7','2023/1/7'])\n",
        "pd.to_datetime(s).dt.day_name()"
      ]
    },
    {
      "cell_type": "markdown",
      "metadata": {
        "id": "3Iw4exLi2Vbt"
      },
      "source": [
        "### Timedelta Object\n",
        "\n",
        "Represents a duration, the difference between two dates or times."
      ]
    },
    {
      "cell_type": "code",
      "execution_count": null,
      "metadata": {
        "colab": {
          "base_uri": "https://localhost:8080/"
        },
        "id": "J5_IUZFq2ZgY",
        "outputId": "c2ec5e03-258b-4124-e4f9-fb2f972be5f6"
      },
      "outputs": [
        {
          "data": {
            "text/plain": [
              "Timedelta('20 days 01:39:46')"
            ]
          },
          "execution_count": 105,
          "metadata": {},
          "output_type": "execute_result"
        }
      ],
      "source": [
        "# create using Timestamp objects\n",
        "t1 = pd.Timestamp('6th Jan 2023 8:20:14')\n",
        "t2 = pd.Timestamp('26th Jan 2023 10:00:00')\n",
        "\n",
        "t2 - t1"
      ]
    },
    {
      "cell_type": "code",
      "execution_count": 13,
      "metadata": {
        "colab": {
          "base_uri": "https://localhost:8080/"
        },
        "id": "QK8EY0tyB1F3",
        "outputId": "408cee9a-e4a8-45d2-ae69-94a3536f2a4b"
      },
      "outputs": [
        {
          "data": {
            "text/plain": [
              "Timedelta('2 days 10:35:50')"
            ]
          },
          "execution_count": 13,
          "metadata": {},
          "output_type": "execute_result"
        }
      ],
      "source": [
        "# standalone creation\n",
        "pd.Timedelta(days=2,hours=10,minutes=35,seconds=50)"
      ]
    },
    {
      "cell_type": "code",
      "execution_count": null,
      "metadata": {
        "colab": {
          "base_uri": "https://localhost:8080/"
        },
        "id": "2V5tNP5KB61Y",
        "outputId": "5491dfb3-92fb-4157-8736-cf8cad8dbd1b"
      },
      "outputs": [
        {
          "data": {
            "text/plain": [
              "Timestamp('2023-01-08 10:35:00')"
            ]
          },
          "execution_count": 109,
          "metadata": {},
          "output_type": "execute_result"
        }
      ],
      "source": [
        "# Arithmetic\n",
        "pd.Timestamp('6th jan 2023') + pd.Timedelta(days=2,hours=10,minutes=35)"
      ]
    },
    {
      "cell_type": "code",
      "execution_count": null,
      "metadata": {
        "colab": {
          "base_uri": "https://localhost:8080/"
        },
        "id": "I39NqkH9kFEX",
        "outputId": "f7cd65a7-6c0a-411f-c689-96e6f6cb7035"
      },
      "outputs": [
        {
          "data": {
            "text/plain": [
              "DatetimeIndex(['2023-01-03 13:25:00', '2023-01-04 13:25:00',\n",
              "               '2023-01-05 13:25:00', '2023-01-06 13:25:00',\n",
              "               '2023-01-07 13:25:00', '2023-01-08 13:25:00',\n",
              "               '2023-01-09 13:25:00', '2023-01-10 13:25:00',\n",
              "               '2023-01-11 13:25:00', '2023-01-12 13:25:00',\n",
              "               '2023-01-13 13:25:00', '2023-01-14 13:25:00',\n",
              "               '2023-01-15 13:25:00', '2023-01-16 13:25:00',\n",
              "               '2023-01-17 13:25:00', '2023-01-18 13:25:00',\n",
              "               '2023-01-19 13:25:00', '2023-01-20 13:25:00',\n",
              "               '2023-01-21 13:25:00', '2023-01-22 13:25:00',\n",
              "               '2023-01-23 13:25:00', '2023-01-24 13:25:00',\n",
              "               '2023-01-25 13:25:00', '2023-01-26 13:25:00',\n",
              "               '2023-01-27 13:25:00', '2023-01-28 13:25:00'],\n",
              "              dtype='datetime64[ns]', freq='D')"
            ]
          },
          "execution_count": 112,
          "metadata": {},
          "output_type": "execute_result"
        }
      ],
      "source": [
        "pd.date_range(start='2023-1-6',end='2023-1-31',freq='D') - pd.Timedelta(days=2,hours=10,minutes=35)"
      ]
    },
    {
      "cell_type": "code",
      "execution_count": null,
      "metadata": {
        "colab": {
          "base_uri": "https://localhost:8080/",
          "height": 206
        },
        "id": "NMn0mK8mCCg4",
        "outputId": "1fdac959-3ece-4dbd-ee1f-3a80d77b8a84"
      },
      "outputs": [
        {
          "data": {
            "text/html": [
              "\n",
              "  <div id=\"df-5b9e9d85-4ff5-43ec-af62-88fe3e19eb79\">\n",
              "    <div class=\"colab-df-container\">\n",
              "      <div>\n",
              "<style scoped>\n",
              "    .dataframe tbody tr th:only-of-type {\n",
              "        vertical-align: middle;\n",
              "    }\n",
              "\n",
              "    .dataframe tbody tr th {\n",
              "        vertical-align: top;\n",
              "    }\n",
              "\n",
              "    .dataframe thead th {\n",
              "        text-align: right;\n",
              "    }\n",
              "</style>\n",
              "<table border=\"1\" class=\"dataframe\">\n",
              "  <thead>\n",
              "    <tr style=\"text-align: right;\">\n",
              "      <th></th>\n",
              "      <th>order_date</th>\n",
              "      <th>delivery_date</th>\n",
              "    </tr>\n",
              "  </thead>\n",
              "  <tbody>\n",
              "    <tr>\n",
              "      <th>0</th>\n",
              "      <td>5/24/98</td>\n",
              "      <td>2/5/99</td>\n",
              "    </tr>\n",
              "    <tr>\n",
              "      <th>1</th>\n",
              "      <td>4/22/92</td>\n",
              "      <td>3/6/98</td>\n",
              "    </tr>\n",
              "    <tr>\n",
              "      <th>2</th>\n",
              "      <td>2/10/91</td>\n",
              "      <td>8/26/92</td>\n",
              "    </tr>\n",
              "    <tr>\n",
              "      <th>3</th>\n",
              "      <td>7/21/92</td>\n",
              "      <td>11/20/97</td>\n",
              "    </tr>\n",
              "    <tr>\n",
              "      <th>4</th>\n",
              "      <td>9/2/93</td>\n",
              "      <td>6/10/98</td>\n",
              "    </tr>\n",
              "  </tbody>\n",
              "</table>\n",
              "</div>\n",
              "      <button class=\"colab-df-convert\" onclick=\"convertToInteractive('df-5b9e9d85-4ff5-43ec-af62-88fe3e19eb79')\"\n",
              "              title=\"Convert this dataframe to an interactive table.\"\n",
              "              style=\"display:none;\">\n",
              "        \n",
              "  <svg xmlns=\"http://www.w3.org/2000/svg\" height=\"24px\"viewBox=\"0 0 24 24\"\n",
              "       width=\"24px\">\n",
              "    <path d=\"M0 0h24v24H0V0z\" fill=\"none\"/>\n",
              "    <path d=\"M18.56 5.44l.94 2.06.94-2.06 2.06-.94-2.06-.94-.94-2.06-.94 2.06-2.06.94zm-11 1L8.5 8.5l.94-2.06 2.06-.94-2.06-.94L8.5 2.5l-.94 2.06-2.06.94zm10 10l.94 2.06.94-2.06 2.06-.94-2.06-.94-.94-2.06-.94 2.06-2.06.94z\"/><path d=\"M17.41 7.96l-1.37-1.37c-.4-.4-.92-.59-1.43-.59-.52 0-1.04.2-1.43.59L10.3 9.45l-7.72 7.72c-.78.78-.78 2.05 0 2.83L4 21.41c.39.39.9.59 1.41.59.51 0 1.02-.2 1.41-.59l7.78-7.78 2.81-2.81c.8-.78.8-2.07 0-2.86zM5.41 20L4 18.59l7.72-7.72 1.47 1.35L5.41 20z\"/>\n",
              "  </svg>\n",
              "      </button>\n",
              "      \n",
              "  <style>\n",
              "    .colab-df-container {\n",
              "      display:flex;\n",
              "      flex-wrap:wrap;\n",
              "      gap: 12px;\n",
              "    }\n",
              "\n",
              "    .colab-df-convert {\n",
              "      background-color: #E8F0FE;\n",
              "      border: none;\n",
              "      border-radius: 50%;\n",
              "      cursor: pointer;\n",
              "      display: none;\n",
              "      fill: #1967D2;\n",
              "      height: 32px;\n",
              "      padding: 0 0 0 0;\n",
              "      width: 32px;\n",
              "    }\n",
              "\n",
              "    .colab-df-convert:hover {\n",
              "      background-color: #E2EBFA;\n",
              "      box-shadow: 0px 1px 2px rgba(60, 64, 67, 0.3), 0px 1px 3px 1px rgba(60, 64, 67, 0.15);\n",
              "      fill: #174EA6;\n",
              "    }\n",
              "\n",
              "    [theme=dark] .colab-df-convert {\n",
              "      background-color: #3B4455;\n",
              "      fill: #D2E3FC;\n",
              "    }\n",
              "\n",
              "    [theme=dark] .colab-df-convert:hover {\n",
              "      background-color: #434B5C;\n",
              "      box-shadow: 0px 1px 3px 1px rgba(0, 0, 0, 0.15);\n",
              "      filter: drop-shadow(0px 1px 2px rgba(0, 0, 0, 0.3));\n",
              "      fill: #FFFFFF;\n",
              "    }\n",
              "  </style>\n",
              "\n",
              "      <script>\n",
              "        const buttonEl =\n",
              "          document.querySelector('#df-5b9e9d85-4ff5-43ec-af62-88fe3e19eb79 button.colab-df-convert');\n",
              "        buttonEl.style.display =\n",
              "          google.colab.kernel.accessAllowed ? 'block' : 'none';\n",
              "\n",
              "        async function convertToInteractive(key) {\n",
              "          const element = document.querySelector('#df-5b9e9d85-4ff5-43ec-af62-88fe3e19eb79');\n",
              "          const dataTable =\n",
              "            await google.colab.kernel.invokeFunction('convertToInteractive',\n",
              "                                                     [key], {});\n",
              "          if (!dataTable) return;\n",
              "\n",
              "          const docLinkHtml = 'Like what you see? Visit the ' +\n",
              "            '<a target=\"_blank\" href=https://colab.research.google.com/notebooks/data_table.ipynb>data table notebook</a>'\n",
              "            + ' to learn more about interactive tables.';\n",
              "          element.innerHTML = '';\n",
              "          dataTable['output_type'] = 'display_data';\n",
              "          await google.colab.output.renderOutput(dataTable, element);\n",
              "          const docLink = document.createElement('div');\n",
              "          docLink.innerHTML = docLinkHtml;\n",
              "          element.appendChild(docLink);\n",
              "        }\n",
              "      </script>\n",
              "    </div>\n",
              "  </div>\n",
              "  "
            ],
            "text/plain": [
              "  order_date delivery_date\n",
              "0    5/24/98        2/5/99\n",
              "1    4/22/92        3/6/98\n",
              "2    2/10/91       8/26/92\n",
              "3    7/21/92      11/20/97\n",
              "4     9/2/93       6/10/98"
            ]
          },
          "execution_count": 113,
          "metadata": {},
          "output_type": "execute_result"
        }
      ],
      "source": [
        "# real life example\n",
        "df = pd.read_csv('deliveries.csv')\n",
        "df.head()"
      ]
    },
    {
      "cell_type": "code",
      "execution_count": null,
      "metadata": {
        "id": "sZe-mnSHk-aE"
      },
      "outputs": [],
      "source": [
        "df['order_date'] = pd.to_datetime(df['order_date'])\n",
        "df['delivery_date'] = pd.to_datetime(df['delivery_date'])"
      ]
    },
    {
      "cell_type": "code",
      "execution_count": null,
      "metadata": {
        "colab": {
          "base_uri": "https://localhost:8080/"
        },
        "id": "hQPiS0JAlRvD",
        "outputId": "3f5ec08b-df74-4f7d-e337-ec200ea59261"
      },
      "outputs": [
        {
          "data": {
            "text/plain": [
              "Timedelta('1217 days 22:53:53.532934128')"
            ]
          },
          "execution_count": 121,
          "metadata": {},
          "output_type": "execute_result"
        }
      ],
      "source": [
        "df['delivery_time_period'] = df['delivery_date'] - df['order_date']\n",
        "\n",
        "df['delivery_time_period'].mean()"
      ]
    },
    {
      "cell_type": "markdown",
      "metadata": {
        "id": "hrhjsZ602dRU"
      },
      "source": [
        "### Time series\n",
        "\n",
        "A time series is a data set that tracks a sample over time scale. In particular, a time series allows one to see what factors influence certain variables from period to period. Time series analysis can be useful to see how a given asset, security, or economic variable changes over time.\n",
        "\n",
        "Examples\n",
        "\n",
        "- Financial Data (Company stocks)\n",
        "- Natural Data (Rainfall measurement)\n",
        "- Event Data (Covid)\n",
        "- Medical Data (Heart rate monitoring)\n",
        "\n",
        "Types of Operations done on Time Series\n",
        "\n",
        "- Time Series Analysis\n",
        "- Time Series Forecasting"
      ]
    },
    {
      "cell_type": "code",
      "execution_count": 3,
      "metadata": {
        "colab": {
          "base_uri": "https://localhost:8080/",
          "height": 206
        },
        "id": "_tUZzbBIipIA",
        "outputId": "2716d8e6-bb5c-4910-f6e9-7e601953d210"
      },
      "outputs": [
        {
          "data": {
            "text/html": [
              "<div>\n",
              "<style scoped>\n",
              "    .dataframe tbody tr th:only-of-type {\n",
              "        vertical-align: middle;\n",
              "    }\n",
              "\n",
              "    .dataframe tbody tr th {\n",
              "        vertical-align: top;\n",
              "    }\n",
              "\n",
              "    .dataframe thead th {\n",
              "        text-align: right;\n",
              "    }\n",
              "</style>\n",
              "<table border=\"1\" class=\"dataframe\">\n",
              "  <thead>\n",
              "    <tr style=\"text-align: right;\">\n",
              "      <th></th>\n",
              "      <th>Date</th>\n",
              "      <th>Open</th>\n",
              "      <th>High</th>\n",
              "      <th>Low</th>\n",
              "      <th>Close</th>\n",
              "      <th>Adj Close</th>\n",
              "      <th>Volume</th>\n",
              "    </tr>\n",
              "  </thead>\n",
              "  <tbody>\n",
              "    <tr>\n",
              "      <th>0</th>\n",
              "      <td>2004-08-19</td>\n",
              "      <td>50.050049</td>\n",
              "      <td>52.082081</td>\n",
              "      <td>48.028027</td>\n",
              "      <td>50.220219</td>\n",
              "      <td>50.220219</td>\n",
              "      <td>44659096</td>\n",
              "    </tr>\n",
              "    <tr>\n",
              "      <th>1</th>\n",
              "      <td>2004-08-20</td>\n",
              "      <td>50.555557</td>\n",
              "      <td>54.594597</td>\n",
              "      <td>50.300301</td>\n",
              "      <td>54.209209</td>\n",
              "      <td>54.209209</td>\n",
              "      <td>22834343</td>\n",
              "    </tr>\n",
              "    <tr>\n",
              "      <th>2</th>\n",
              "      <td>2004-08-23</td>\n",
              "      <td>55.430431</td>\n",
              "      <td>56.796799</td>\n",
              "      <td>54.579578</td>\n",
              "      <td>54.754753</td>\n",
              "      <td>54.754753</td>\n",
              "      <td>18256126</td>\n",
              "    </tr>\n",
              "    <tr>\n",
              "      <th>3</th>\n",
              "      <td>2004-08-24</td>\n",
              "      <td>55.675674</td>\n",
              "      <td>55.855858</td>\n",
              "      <td>51.836838</td>\n",
              "      <td>52.487488</td>\n",
              "      <td>52.487488</td>\n",
              "      <td>15247337</td>\n",
              "    </tr>\n",
              "    <tr>\n",
              "      <th>4</th>\n",
              "      <td>2004-08-25</td>\n",
              "      <td>52.532532</td>\n",
              "      <td>54.054054</td>\n",
              "      <td>51.991993</td>\n",
              "      <td>53.053055</td>\n",
              "      <td>53.053055</td>\n",
              "      <td>9188602</td>\n",
              "    </tr>\n",
              "  </tbody>\n",
              "</table>\n",
              "</div>"
            ],
            "text/plain": [
              "         Date       Open       High        Low      Close  Adj Close    Volume\n",
              "0  2004-08-19  50.050049  52.082081  48.028027  50.220219  50.220219  44659096\n",
              "1  2004-08-20  50.555557  54.594597  50.300301  54.209209  54.209209  22834343\n",
              "2  2004-08-23  55.430431  56.796799  54.579578  54.754753  54.754753  18256126\n",
              "3  2004-08-24  55.675674  55.855858  51.836838  52.487488  52.487488  15247337\n",
              "4  2004-08-25  52.532532  54.054054  51.991993  53.053055  53.053055   9188602"
            ]
          },
          "execution_count": 3,
          "metadata": {},
          "output_type": "execute_result"
        }
      ],
      "source": [
        "google = pd.read_csv('../Dataframe datasets/google_stock(2004-2021).csv')\n",
        "google.head()"
      ]
    },
    {
      "cell_type": "code",
      "execution_count": 4,
      "metadata": {
        "colab": {
          "base_uri": "https://localhost:8080/",
          "height": 206
        },
        "id": "PziajciTwZtH",
        "outputId": "b6535bac-9fa2-4132-f72c-74d8c8543947"
      },
      "outputs": [
        {
          "data": {
            "text/html": [
              "<div>\n",
              "<style scoped>\n",
              "    .dataframe tbody tr th:only-of-type {\n",
              "        vertical-align: middle;\n",
              "    }\n",
              "\n",
              "    .dataframe tbody tr th {\n",
              "        vertical-align: top;\n",
              "    }\n",
              "\n",
              "    .dataframe thead th {\n",
              "        text-align: right;\n",
              "    }\n",
              "</style>\n",
              "<table border=\"1\" class=\"dataframe\">\n",
              "  <thead>\n",
              "    <tr style=\"text-align: right;\">\n",
              "      <th></th>\n",
              "      <th>Date</th>\n",
              "      <th>Open</th>\n",
              "      <th>High</th>\n",
              "      <th>Low</th>\n",
              "      <th>Close</th>\n",
              "      <th>Adj Close</th>\n",
              "      <th>Volume</th>\n",
              "    </tr>\n",
              "  </thead>\n",
              "  <tbody>\n",
              "    <tr>\n",
              "      <th>4426</th>\n",
              "      <td>2022-03-18</td>\n",
              "      <td>2668.489990</td>\n",
              "      <td>2724.879883</td>\n",
              "      <td>2645.169922</td>\n",
              "      <td>2722.510010</td>\n",
              "      <td>2722.510010</td>\n",
              "      <td>2223100</td>\n",
              "    </tr>\n",
              "    <tr>\n",
              "      <th>4427</th>\n",
              "      <td>2022-03-21</td>\n",
              "      <td>2723.270020</td>\n",
              "      <td>2741.000000</td>\n",
              "      <td>2681.850098</td>\n",
              "      <td>2722.030029</td>\n",
              "      <td>2722.030029</td>\n",
              "      <td>1341600</td>\n",
              "    </tr>\n",
              "    <tr>\n",
              "      <th>4428</th>\n",
              "      <td>2022-03-22</td>\n",
              "      <td>2722.030029</td>\n",
              "      <td>2821.000000</td>\n",
              "      <td>2722.030029</td>\n",
              "      <td>2797.360107</td>\n",
              "      <td>2797.360107</td>\n",
              "      <td>1774800</td>\n",
              "    </tr>\n",
              "    <tr>\n",
              "      <th>4429</th>\n",
              "      <td>2022-03-23</td>\n",
              "      <td>2774.050049</td>\n",
              "      <td>2791.770020</td>\n",
              "      <td>2756.699951</td>\n",
              "      <td>2765.510010</td>\n",
              "      <td>2765.510010</td>\n",
              "      <td>1257700</td>\n",
              "    </tr>\n",
              "    <tr>\n",
              "      <th>4430</th>\n",
              "      <td>2022-03-24</td>\n",
              "      <td>2784.000000</td>\n",
              "      <td>2832.379883</td>\n",
              "      <td>2755.010010</td>\n",
              "      <td>2831.439941</td>\n",
              "      <td>2831.439941</td>\n",
              "      <td>1317900</td>\n",
              "    </tr>\n",
              "  </tbody>\n",
              "</table>\n",
              "</div>"
            ],
            "text/plain": [
              "            Date         Open         High          Low        Close  \\\n",
              "4426  2022-03-18  2668.489990  2724.879883  2645.169922  2722.510010   \n",
              "4427  2022-03-21  2723.270020  2741.000000  2681.850098  2722.030029   \n",
              "4428  2022-03-22  2722.030029  2821.000000  2722.030029  2797.360107   \n",
              "4429  2022-03-23  2774.050049  2791.770020  2756.699951  2765.510010   \n",
              "4430  2022-03-24  2784.000000  2832.379883  2755.010010  2831.439941   \n",
              "\n",
              "        Adj Close   Volume  \n",
              "4426  2722.510010  2223100  \n",
              "4427  2722.030029  1341600  \n",
              "4428  2797.360107  1774800  \n",
              "4429  2765.510010  1257700  \n",
              "4430  2831.439941  1317900  "
            ]
          },
          "execution_count": 4,
          "metadata": {},
          "output_type": "execute_result"
        }
      ],
      "source": [
        "google.tail()"
      ]
    },
    {
      "cell_type": "code",
      "execution_count": null,
      "metadata": {
        "id": "RYIL1vBawsgH"
      },
      "outputs": [],
      "source": [
        "# Don't have the datasets as of now, not shared by campusx\n",
        "subs = pd.read_csv('subscribers.csv')\n",
        "views = pd.read_csv('views.csv')\n",
        "wt = pd.read_csv('watch-time.csv')\n",
        "comments = pd.read_csv('comments.csv')"
      ]
    },
    {
      "cell_type": "code",
      "execution_count": null,
      "metadata": {
        "colab": {
          "base_uri": "https://localhost:8080/",
          "height": 206
        },
        "id": "RLibZgWmisQK",
        "outputId": "17d221ca-6c3a-4551-cec6-97e27d92ab1e"
      },
      "outputs": [
        {
          "data": {
            "text/html": [
              "\n",
              "  <div id=\"df-989ff8be-2d2b-47e0-84d3-77f740471792\">\n",
              "    <div class=\"colab-df-container\">\n",
              "      <div>\n",
              "<style scoped>\n",
              "    .dataframe tbody tr th:only-of-type {\n",
              "        vertical-align: middle;\n",
              "    }\n",
              "\n",
              "    .dataframe tbody tr th {\n",
              "        vertical-align: top;\n",
              "    }\n",
              "\n",
              "    .dataframe thead th {\n",
              "        text-align: right;\n",
              "    }\n",
              "</style>\n",
              "<table border=\"1\" class=\"dataframe\">\n",
              "  <thead>\n",
              "    <tr style=\"text-align: right;\">\n",
              "      <th></th>\n",
              "      <th>Date</th>\n",
              "      <th>Comments added</th>\n",
              "    </tr>\n",
              "  </thead>\n",
              "  <tbody>\n",
              "    <tr>\n",
              "      <th>1354</th>\n",
              "      <td>2022-12-31</td>\n",
              "      <td>20</td>\n",
              "    </tr>\n",
              "    <tr>\n",
              "      <th>1355</th>\n",
              "      <td>2023-01-01</td>\n",
              "      <td>13</td>\n",
              "    </tr>\n",
              "    <tr>\n",
              "      <th>1356</th>\n",
              "      <td>2023-01-02</td>\n",
              "      <td>66</td>\n",
              "    </tr>\n",
              "    <tr>\n",
              "      <th>1357</th>\n",
              "      <td>2023-01-03</td>\n",
              "      <td>22</td>\n",
              "    </tr>\n",
              "    <tr>\n",
              "      <th>1358</th>\n",
              "      <td>2023-01-04</td>\n",
              "      <td>21</td>\n",
              "    </tr>\n",
              "  </tbody>\n",
              "</table>\n",
              "</div>\n",
              "      <button class=\"colab-df-convert\" onclick=\"convertToInteractive('df-989ff8be-2d2b-47e0-84d3-77f740471792')\"\n",
              "              title=\"Convert this dataframe to an interactive table.\"\n",
              "              style=\"display:none;\">\n",
              "        \n",
              "  <svg xmlns=\"http://www.w3.org/2000/svg\" height=\"24px\"viewBox=\"0 0 24 24\"\n",
              "       width=\"24px\">\n",
              "    <path d=\"M0 0h24v24H0V0z\" fill=\"none\"/>\n",
              "    <path d=\"M18.56 5.44l.94 2.06.94-2.06 2.06-.94-2.06-.94-.94-2.06-.94 2.06-2.06.94zm-11 1L8.5 8.5l.94-2.06 2.06-.94-2.06-.94L8.5 2.5l-.94 2.06-2.06.94zm10 10l.94 2.06.94-2.06 2.06-.94-2.06-.94-.94-2.06-.94 2.06-2.06.94z\"/><path d=\"M17.41 7.96l-1.37-1.37c-.4-.4-.92-.59-1.43-.59-.52 0-1.04.2-1.43.59L10.3 9.45l-7.72 7.72c-.78.78-.78 2.05 0 2.83L4 21.41c.39.39.9.59 1.41.59.51 0 1.02-.2 1.41-.59l7.78-7.78 2.81-2.81c.8-.78.8-2.07 0-2.86zM5.41 20L4 18.59l7.72-7.72 1.47 1.35L5.41 20z\"/>\n",
              "  </svg>\n",
              "      </button>\n",
              "      \n",
              "  <style>\n",
              "    .colab-df-container {\n",
              "      display:flex;\n",
              "      flex-wrap:wrap;\n",
              "      gap: 12px;\n",
              "    }\n",
              "\n",
              "    .colab-df-convert {\n",
              "      background-color: #E8F0FE;\n",
              "      border: none;\n",
              "      border-radius: 50%;\n",
              "      cursor: pointer;\n",
              "      display: none;\n",
              "      fill: #1967D2;\n",
              "      height: 32px;\n",
              "      padding: 0 0 0 0;\n",
              "      width: 32px;\n",
              "    }\n",
              "\n",
              "    .colab-df-convert:hover {\n",
              "      background-color: #E2EBFA;\n",
              "      box-shadow: 0px 1px 2px rgba(60, 64, 67, 0.3), 0px 1px 3px 1px rgba(60, 64, 67, 0.15);\n",
              "      fill: #174EA6;\n",
              "    }\n",
              "\n",
              "    [theme=dark] .colab-df-convert {\n",
              "      background-color: #3B4455;\n",
              "      fill: #D2E3FC;\n",
              "    }\n",
              "\n",
              "    [theme=dark] .colab-df-convert:hover {\n",
              "      background-color: #434B5C;\n",
              "      box-shadow: 0px 1px 3px 1px rgba(0, 0, 0, 0.15);\n",
              "      filter: drop-shadow(0px 1px 2px rgba(0, 0, 0, 0.3));\n",
              "      fill: #FFFFFF;\n",
              "    }\n",
              "  </style>\n",
              "\n",
              "      <script>\n",
              "        const buttonEl =\n",
              "          document.querySelector('#df-989ff8be-2d2b-47e0-84d3-77f740471792 button.colab-df-convert');\n",
              "        buttonEl.style.display =\n",
              "          google.colab.kernel.accessAllowed ? 'block' : 'none';\n",
              "\n",
              "        async function convertToInteractive(key) {\n",
              "          const element = document.querySelector('#df-989ff8be-2d2b-47e0-84d3-77f740471792');\n",
              "          const dataTable =\n",
              "            await google.colab.kernel.invokeFunction('convertToInteractive',\n",
              "                                                     [key], {});\n",
              "          if (!dataTable) return;\n",
              "\n",
              "          const docLinkHtml = 'Like what you see? Visit the ' +\n",
              "            '<a target=\"_blank\" href=https://colab.research.google.com/notebooks/data_table.ipynb>data table notebook</a>'\n",
              "            + ' to learn more about interactive tables.';\n",
              "          element.innerHTML = '';\n",
              "          dataTable['output_type'] = 'display_data';\n",
              "          await google.colab.output.renderOutput(dataTable, element);\n",
              "          const docLink = document.createElement('div');\n",
              "          docLink.innerHTML = docLinkHtml;\n",
              "          element.appendChild(docLink);\n",
              "        }\n",
              "      </script>\n",
              "    </div>\n",
              "  </div>\n",
              "  "
            ],
            "text/plain": [
              "            Date  Comments added\n",
              "1354  2022-12-31              20\n",
              "1355  2023-01-01              13\n",
              "1356  2023-01-02              66\n",
              "1357  2023-01-03              22\n",
              "1358  2023-01-04              21"
            ]
          },
          "execution_count": 131,
          "metadata": {},
          "output_type": "execute_result"
        }
      ],
      "source": [
        "comments.tail()"
      ]
    },
    {
      "cell_type": "code",
      "execution_count": null,
      "metadata": {
        "id": "l1H6h__izXZy"
      },
      "outputs": [],
      "source": [
        "yt = subs.merge(views,on='Date').merge(wt,on='Date').merge(comments,on='Date')"
      ]
    },
    {
      "cell_type": "code",
      "execution_count": null,
      "metadata": {
        "colab": {
          "base_uri": "https://localhost:8080/",
          "height": 206
        },
        "id": "I-grvL0Ais8i",
        "outputId": "11633868-d598-420c-af35-c9306a089a7f"
      },
      "outputs": [
        {
          "data": {
            "text/html": [
              "\n",
              "  <div id=\"df-4faec7e6-230d-4dbb-bb3b-e576ccc8b262\">\n",
              "    <div class=\"colab-df-container\">\n",
              "      <div>\n",
              "<style scoped>\n",
              "    .dataframe tbody tr th:only-of-type {\n",
              "        vertical-align: middle;\n",
              "    }\n",
              "\n",
              "    .dataframe tbody tr th {\n",
              "        vertical-align: top;\n",
              "    }\n",
              "\n",
              "    .dataframe thead th {\n",
              "        text-align: right;\n",
              "    }\n",
              "</style>\n",
              "<table border=\"1\" class=\"dataframe\">\n",
              "  <thead>\n",
              "    <tr style=\"text-align: right;\">\n",
              "      <th></th>\n",
              "      <th>Date</th>\n",
              "      <th>Subscribers</th>\n",
              "      <th>Views</th>\n",
              "      <th>Watch time (hours)</th>\n",
              "      <th>Comments added</th>\n",
              "    </tr>\n",
              "  </thead>\n",
              "  <tbody>\n",
              "    <tr>\n",
              "      <th>0</th>\n",
              "      <td>2019-04-17</td>\n",
              "      <td>0</td>\n",
              "      <td>0</td>\n",
              "      <td>0.0</td>\n",
              "      <td>0</td>\n",
              "    </tr>\n",
              "    <tr>\n",
              "      <th>1</th>\n",
              "      <td>2019-04-18</td>\n",
              "      <td>0</td>\n",
              "      <td>0</td>\n",
              "      <td>0.0</td>\n",
              "      <td>0</td>\n",
              "    </tr>\n",
              "    <tr>\n",
              "      <th>2</th>\n",
              "      <td>2019-04-19</td>\n",
              "      <td>0</td>\n",
              "      <td>0</td>\n",
              "      <td>0.0</td>\n",
              "      <td>0</td>\n",
              "    </tr>\n",
              "    <tr>\n",
              "      <th>3</th>\n",
              "      <td>2019-04-20</td>\n",
              "      <td>0</td>\n",
              "      <td>0</td>\n",
              "      <td>0.0</td>\n",
              "      <td>0</td>\n",
              "    </tr>\n",
              "    <tr>\n",
              "      <th>4</th>\n",
              "      <td>2019-04-21</td>\n",
              "      <td>0</td>\n",
              "      <td>0</td>\n",
              "      <td>0.0</td>\n",
              "      <td>0</td>\n",
              "    </tr>\n",
              "  </tbody>\n",
              "</table>\n",
              "</div>\n",
              "      <button class=\"colab-df-convert\" onclick=\"convertToInteractive('df-4faec7e6-230d-4dbb-bb3b-e576ccc8b262')\"\n",
              "              title=\"Convert this dataframe to an interactive table.\"\n",
              "              style=\"display:none;\">\n",
              "        \n",
              "  <svg xmlns=\"http://www.w3.org/2000/svg\" height=\"24px\"viewBox=\"0 0 24 24\"\n",
              "       width=\"24px\">\n",
              "    <path d=\"M0 0h24v24H0V0z\" fill=\"none\"/>\n",
              "    <path d=\"M18.56 5.44l.94 2.06.94-2.06 2.06-.94-2.06-.94-.94-2.06-.94 2.06-2.06.94zm-11 1L8.5 8.5l.94-2.06 2.06-.94-2.06-.94L8.5 2.5l-.94 2.06-2.06.94zm10 10l.94 2.06.94-2.06 2.06-.94-2.06-.94-.94-2.06-.94 2.06-2.06.94z\"/><path d=\"M17.41 7.96l-1.37-1.37c-.4-.4-.92-.59-1.43-.59-.52 0-1.04.2-1.43.59L10.3 9.45l-7.72 7.72c-.78.78-.78 2.05 0 2.83L4 21.41c.39.39.9.59 1.41.59.51 0 1.02-.2 1.41-.59l7.78-7.78 2.81-2.81c.8-.78.8-2.07 0-2.86zM5.41 20L4 18.59l7.72-7.72 1.47 1.35L5.41 20z\"/>\n",
              "  </svg>\n",
              "      </button>\n",
              "      \n",
              "  <style>\n",
              "    .colab-df-container {\n",
              "      display:flex;\n",
              "      flex-wrap:wrap;\n",
              "      gap: 12px;\n",
              "    }\n",
              "\n",
              "    .colab-df-convert {\n",
              "      background-color: #E8F0FE;\n",
              "      border: none;\n",
              "      border-radius: 50%;\n",
              "      cursor: pointer;\n",
              "      display: none;\n",
              "      fill: #1967D2;\n",
              "      height: 32px;\n",
              "      padding: 0 0 0 0;\n",
              "      width: 32px;\n",
              "    }\n",
              "\n",
              "    .colab-df-convert:hover {\n",
              "      background-color: #E2EBFA;\n",
              "      box-shadow: 0px 1px 2px rgba(60, 64, 67, 0.3), 0px 1px 3px 1px rgba(60, 64, 67, 0.15);\n",
              "      fill: #174EA6;\n",
              "    }\n",
              "\n",
              "    [theme=dark] .colab-df-convert {\n",
              "      background-color: #3B4455;\n",
              "      fill: #D2E3FC;\n",
              "    }\n",
              "\n",
              "    [theme=dark] .colab-df-convert:hover {\n",
              "      background-color: #434B5C;\n",
              "      box-shadow: 0px 1px 3px 1px rgba(0, 0, 0, 0.15);\n",
              "      filter: drop-shadow(0px 1px 2px rgba(0, 0, 0, 0.3));\n",
              "      fill: #FFFFFF;\n",
              "    }\n",
              "  </style>\n",
              "\n",
              "      <script>\n",
              "        const buttonEl =\n",
              "          document.querySelector('#df-4faec7e6-230d-4dbb-bb3b-e576ccc8b262 button.colab-df-convert');\n",
              "        buttonEl.style.display =\n",
              "          google.colab.kernel.accessAllowed ? 'block' : 'none';\n",
              "\n",
              "        async function convertToInteractive(key) {\n",
              "          const element = document.querySelector('#df-4faec7e6-230d-4dbb-bb3b-e576ccc8b262');\n",
              "          const dataTable =\n",
              "            await google.colab.kernel.invokeFunction('convertToInteractive',\n",
              "                                                     [key], {});\n",
              "          if (!dataTable) return;\n",
              "\n",
              "          const docLinkHtml = 'Like what you see? Visit the ' +\n",
              "            '<a target=\"_blank\" href=https://colab.research.google.com/notebooks/data_table.ipynb>data table notebook</a>'\n",
              "            + ' to learn more about interactive tables.';\n",
              "          element.innerHTML = '';\n",
              "          dataTable['output_type'] = 'display_data';\n",
              "          await google.colab.output.renderOutput(dataTable, element);\n",
              "          const docLink = document.createElement('div');\n",
              "          docLink.innerHTML = docLinkHtml;\n",
              "          element.appendChild(docLink);\n",
              "        }\n",
              "      </script>\n",
              "    </div>\n",
              "  </div>\n",
              "  "
            ],
            "text/plain": [
              "         Date  Subscribers  Views  Watch time (hours)  Comments added\n",
              "0  2019-04-17            0      0                 0.0               0\n",
              "1  2019-04-18            0      0                 0.0               0\n",
              "2  2019-04-19            0      0                 0.0               0\n",
              "3  2019-04-20            0      0                 0.0               0\n",
              "4  2019-04-21            0      0                 0.0               0"
            ]
          },
          "execution_count": 136,
          "metadata": {},
          "output_type": "execute_result"
        }
      ],
      "source": [
        "yt.head()"
      ]
    },
    {
      "cell_type": "code",
      "execution_count": 5,
      "metadata": {},
      "outputs": [],
      "source": [
        "google['Date'] = pd.to_datetime(google['Date'])"
      ]
    },
    {
      "cell_type": "code",
      "execution_count": 30,
      "metadata": {},
      "outputs": [
        {
          "name": "stdout",
          "output_type": "stream",
          "text": [
            "<class 'pandas.core.frame.DataFrame'>\n",
            "RangeIndex: 4431 entries, 0 to 4430\n",
            "Data columns (total 7 columns):\n",
            " #   Column     Non-Null Count  Dtype         \n",
            "---  ------     --------------  -----         \n",
            " 0   Date       4431 non-null   datetime64[ns]\n",
            " 1   Open       4431 non-null   float64       \n",
            " 2   High       4431 non-null   float64       \n",
            " 3   Low        4431 non-null   float64       \n",
            " 4   Close      4431 non-null   float64       \n",
            " 5   Adj Close  4431 non-null   float64       \n",
            " 6   Volume     4431 non-null   int64         \n",
            "dtypes: datetime64[ns](1), float64(5), int64(1)\n",
            "memory usage: 242.4 KB\n"
          ]
        }
      ],
      "source": [
        "google.info()"
      ]
    },
    {
      "cell_type": "code",
      "execution_count": null,
      "metadata": {
        "id": "CzuKruY-zxRT"
      },
      "outputs": [],
      "source": [
        "yt['Date'] = pd.to_datetime(yt['Date'])"
      ]
    },
    {
      "cell_type": "code",
      "execution_count": null,
      "metadata": {
        "colab": {
          "base_uri": "https://localhost:8080/"
        },
        "id": "R2CYGF4uz63j",
        "outputId": "e7ec51b9-ad3d-4af1-b44d-8e65a31ab04e"
      },
      "outputs": [
        {
          "name": "stdout",
          "output_type": "stream",
          "text": [
            "<class 'pandas.core.frame.DataFrame'>\n",
            "Int64Index: 1359 entries, 0 to 1358\n",
            "Data columns (total 5 columns):\n",
            " #   Column              Non-Null Count  Dtype         \n",
            "---  ------              --------------  -----         \n",
            " 0   Date                1359 non-null   datetime64[ns]\n",
            " 1   Subscribers         1359 non-null   int64         \n",
            " 2   Views               1359 non-null   int64         \n",
            " 3   Watch time (hours)  1359 non-null   float64       \n",
            " 4   Comments added      1359 non-null   int64         \n",
            "dtypes: datetime64[ns](1), float64(1), int64(3)\n",
            "memory usage: 63.7 KB\n"
          ]
        }
      ],
      "source": [
        "yt.info()"
      ]
    },
    {
      "cell_type": "code",
      "execution_count": 6,
      "metadata": {},
      "outputs": [],
      "source": [
        "google.set_index('Date',inplace=True)"
      ]
    },
    {
      "cell_type": "code",
      "execution_count": null,
      "metadata": {
        "id": "V2BkTWeAiwtS"
      },
      "outputs": [],
      "source": [
        "yt.set_index('Date',inplace=True)"
      ]
    },
    {
      "cell_type": "code",
      "execution_count": null,
      "metadata": {
        "colab": {
          "base_uri": "https://localhost:8080/",
          "height": 238
        },
        "id": "UzGnUfjni7wd",
        "outputId": "dac6b99c-9365-4621-8792-88a59b57b2b3"
      },
      "outputs": [
        {
          "data": {
            "text/html": [
              "\n",
              "  <div id=\"df-789a7ff4-54cf-4685-a4fe-f63b709c04e2\">\n",
              "    <div class=\"colab-df-container\">\n",
              "      <div>\n",
              "<style scoped>\n",
              "    .dataframe tbody tr th:only-of-type {\n",
              "        vertical-align: middle;\n",
              "    }\n",
              "\n",
              "    .dataframe tbody tr th {\n",
              "        vertical-align: top;\n",
              "    }\n",
              "\n",
              "    .dataframe thead th {\n",
              "        text-align: right;\n",
              "    }\n",
              "</style>\n",
              "<table border=\"1\" class=\"dataframe\">\n",
              "  <thead>\n",
              "    <tr style=\"text-align: right;\">\n",
              "      <th></th>\n",
              "      <th>Subscribers</th>\n",
              "      <th>Views</th>\n",
              "      <th>Watch time (hours)</th>\n",
              "      <th>Comments added</th>\n",
              "    </tr>\n",
              "    <tr>\n",
              "      <th>Date</th>\n",
              "      <th></th>\n",
              "      <th></th>\n",
              "      <th></th>\n",
              "      <th></th>\n",
              "    </tr>\n",
              "  </thead>\n",
              "  <tbody>\n",
              "    <tr>\n",
              "      <th>2019-04-17</th>\n",
              "      <td>0</td>\n",
              "      <td>0</td>\n",
              "      <td>0.0</td>\n",
              "      <td>0</td>\n",
              "    </tr>\n",
              "    <tr>\n",
              "      <th>2019-04-18</th>\n",
              "      <td>0</td>\n",
              "      <td>0</td>\n",
              "      <td>0.0</td>\n",
              "      <td>0</td>\n",
              "    </tr>\n",
              "    <tr>\n",
              "      <th>2019-04-19</th>\n",
              "      <td>0</td>\n",
              "      <td>0</td>\n",
              "      <td>0.0</td>\n",
              "      <td>0</td>\n",
              "    </tr>\n",
              "    <tr>\n",
              "      <th>2019-04-20</th>\n",
              "      <td>0</td>\n",
              "      <td>0</td>\n",
              "      <td>0.0</td>\n",
              "      <td>0</td>\n",
              "    </tr>\n",
              "    <tr>\n",
              "      <th>2019-04-21</th>\n",
              "      <td>0</td>\n",
              "      <td>0</td>\n",
              "      <td>0.0</td>\n",
              "      <td>0</td>\n",
              "    </tr>\n",
              "  </tbody>\n",
              "</table>\n",
              "</div>\n",
              "      <button class=\"colab-df-convert\" onclick=\"convertToInteractive('df-789a7ff4-54cf-4685-a4fe-f63b709c04e2')\"\n",
              "              title=\"Convert this dataframe to an interactive table.\"\n",
              "              style=\"display:none;\">\n",
              "        \n",
              "  <svg xmlns=\"http://www.w3.org/2000/svg\" height=\"24px\"viewBox=\"0 0 24 24\"\n",
              "       width=\"24px\">\n",
              "    <path d=\"M0 0h24v24H0V0z\" fill=\"none\"/>\n",
              "    <path d=\"M18.56 5.44l.94 2.06.94-2.06 2.06-.94-2.06-.94-.94-2.06-.94 2.06-2.06.94zm-11 1L8.5 8.5l.94-2.06 2.06-.94-2.06-.94L8.5 2.5l-.94 2.06-2.06.94zm10 10l.94 2.06.94-2.06 2.06-.94-2.06-.94-.94-2.06-.94 2.06-2.06.94z\"/><path d=\"M17.41 7.96l-1.37-1.37c-.4-.4-.92-.59-1.43-.59-.52 0-1.04.2-1.43.59L10.3 9.45l-7.72 7.72c-.78.78-.78 2.05 0 2.83L4 21.41c.39.39.9.59 1.41.59.51 0 1.02-.2 1.41-.59l7.78-7.78 2.81-2.81c.8-.78.8-2.07 0-2.86zM5.41 20L4 18.59l7.72-7.72 1.47 1.35L5.41 20z\"/>\n",
              "  </svg>\n",
              "      </button>\n",
              "      \n",
              "  <style>\n",
              "    .colab-df-container {\n",
              "      display:flex;\n",
              "      flex-wrap:wrap;\n",
              "      gap: 12px;\n",
              "    }\n",
              "\n",
              "    .colab-df-convert {\n",
              "      background-color: #E8F0FE;\n",
              "      border: none;\n",
              "      border-radius: 50%;\n",
              "      cursor: pointer;\n",
              "      display: none;\n",
              "      fill: #1967D2;\n",
              "      height: 32px;\n",
              "      padding: 0 0 0 0;\n",
              "      width: 32px;\n",
              "    }\n",
              "\n",
              "    .colab-df-convert:hover {\n",
              "      background-color: #E2EBFA;\n",
              "      box-shadow: 0px 1px 2px rgba(60, 64, 67, 0.3), 0px 1px 3px 1px rgba(60, 64, 67, 0.15);\n",
              "      fill: #174EA6;\n",
              "    }\n",
              "\n",
              "    [theme=dark] .colab-df-convert {\n",
              "      background-color: #3B4455;\n",
              "      fill: #D2E3FC;\n",
              "    }\n",
              "\n",
              "    [theme=dark] .colab-df-convert:hover {\n",
              "      background-color: #434B5C;\n",
              "      box-shadow: 0px 1px 3px 1px rgba(0, 0, 0, 0.15);\n",
              "      filter: drop-shadow(0px 1px 2px rgba(0, 0, 0, 0.3));\n",
              "      fill: #FFFFFF;\n",
              "    }\n",
              "  </style>\n",
              "\n",
              "      <script>\n",
              "        const buttonEl =\n",
              "          document.querySelector('#df-789a7ff4-54cf-4685-a4fe-f63b709c04e2 button.colab-df-convert');\n",
              "        buttonEl.style.display =\n",
              "          google.colab.kernel.accessAllowed ? 'block' : 'none';\n",
              "\n",
              "        async function convertToInteractive(key) {\n",
              "          const element = document.querySelector('#df-789a7ff4-54cf-4685-a4fe-f63b709c04e2');\n",
              "          const dataTable =\n",
              "            await google.colab.kernel.invokeFunction('convertToInteractive',\n",
              "                                                     [key], {});\n",
              "          if (!dataTable) return;\n",
              "\n",
              "          const docLinkHtml = 'Like what you see? Visit the ' +\n",
              "            '<a target=\"_blank\" href=https://colab.research.google.com/notebooks/data_table.ipynb>data table notebook</a>'\n",
              "            + ' to learn more about interactive tables.';\n",
              "          element.innerHTML = '';\n",
              "          dataTable['output_type'] = 'display_data';\n",
              "          await google.colab.output.renderOutput(dataTable, element);\n",
              "          const docLink = document.createElement('div');\n",
              "          docLink.innerHTML = docLinkHtml;\n",
              "          element.appendChild(docLink);\n",
              "        }\n",
              "      </script>\n",
              "    </div>\n",
              "  </div>\n",
              "  "
            ],
            "text/plain": [
              "            Subscribers  Views  Watch time (hours)  Comments added\n",
              "Date                                                              \n",
              "2019-04-17            0      0                 0.0               0\n",
              "2019-04-18            0      0                 0.0               0\n",
              "2019-04-19            0      0                 0.0               0\n",
              "2019-04-20            0      0                 0.0               0\n",
              "2019-04-21            0      0                 0.0               0"
            ]
          },
          "execution_count": 144,
          "metadata": {},
          "output_type": "execute_result"
        }
      ],
      "source": [
        "yt.head()"
      ]
    },
    {
      "cell_type": "code",
      "execution_count": 33,
      "metadata": {
        "colab": {
          "base_uri": "https://localhost:8080/"
        },
        "id": "sY0z0ZhDjVie",
        "outputId": "f9547abe-43a7-43e5-81d8-ccc2d7e4c8df"
      },
      "outputs": [
        {
          "data": {
            "text/plain": [
              "Open           2933.879883\n",
              "High           2946.000000\n",
              "Low            2919.889893\n",
              "Close          2924.010010\n",
              "Adj Close      2924.010010\n",
              "Volume       784400.000000\n",
              "Name: 2021-12-30 00:00:00, dtype: float64"
            ]
          },
          "execution_count": 33,
          "metadata": {},
          "output_type": "execute_result"
        }
      ],
      "source": [
        "# fetch a specific date\n",
        "google.loc['2021-12-30']"
      ]
    },
    {
      "cell_type": "code",
      "execution_count": null,
      "metadata": {
        "colab": {
          "base_uri": "https://localhost:8080/",
          "height": 455
        },
        "id": "B3aMt7PmmtTk",
        "outputId": "575664d6-9460-4508-e059-ec43f0667307"
      },
      "outputs": [
        {
          "data": {
            "text/html": [
              "\n",
              "  <div id=\"df-13ebb49b-e692-489e-8daa-3dbb7c98cacb\">\n",
              "    <div class=\"colab-df-container\">\n",
              "      <div>\n",
              "<style scoped>\n",
              "    .dataframe tbody tr th:only-of-type {\n",
              "        vertical-align: middle;\n",
              "    }\n",
              "\n",
              "    .dataframe tbody tr th {\n",
              "        vertical-align: top;\n",
              "    }\n",
              "\n",
              "    .dataframe thead th {\n",
              "        text-align: right;\n",
              "    }\n",
              "</style>\n",
              "<table border=\"1\" class=\"dataframe\">\n",
              "  <thead>\n",
              "    <tr style=\"text-align: right;\">\n",
              "      <th></th>\n",
              "      <th>Subscribers</th>\n",
              "      <th>Views</th>\n",
              "      <th>Watch time (hours)</th>\n",
              "      <th>Comments added</th>\n",
              "    </tr>\n",
              "    <tr>\n",
              "      <th>Date</th>\n",
              "      <th></th>\n",
              "      <th></th>\n",
              "      <th></th>\n",
              "      <th></th>\n",
              "    </tr>\n",
              "  </thead>\n",
              "  <tbody>\n",
              "    <tr>\n",
              "      <th>2022-01-01</th>\n",
              "      <td>30</td>\n",
              "      <td>3111</td>\n",
              "      <td>327.3357</td>\n",
              "      <td>11</td>\n",
              "    </tr>\n",
              "    <tr>\n",
              "      <th>2022-01-02</th>\n",
              "      <td>42</td>\n",
              "      <td>4109</td>\n",
              "      <td>402.5877</td>\n",
              "      <td>5</td>\n",
              "    </tr>\n",
              "    <tr>\n",
              "      <th>2022-01-03</th>\n",
              "      <td>45</td>\n",
              "      <td>4264</td>\n",
              "      <td>431.8496</td>\n",
              "      <td>13</td>\n",
              "    </tr>\n",
              "    <tr>\n",
              "      <th>2022-01-04</th>\n",
              "      <td>53</td>\n",
              "      <td>4160</td>\n",
              "      <td>427.6701</td>\n",
              "      <td>7</td>\n",
              "    </tr>\n",
              "    <tr>\n",
              "      <th>2022-01-05</th>\n",
              "      <td>32</td>\n",
              "      <td>3971</td>\n",
              "      <td>433.6201</td>\n",
              "      <td>8</td>\n",
              "    </tr>\n",
              "    <tr>\n",
              "      <th>...</th>\n",
              "      <td>...</td>\n",
              "      <td>...</td>\n",
              "      <td>...</td>\n",
              "      <td>...</td>\n",
              "    </tr>\n",
              "    <tr>\n",
              "      <th>2022-12-27</th>\n",
              "      <td>201</td>\n",
              "      <td>18245</td>\n",
              "      <td>2228.4891</td>\n",
              "      <td>18</td>\n",
              "    </tr>\n",
              "    <tr>\n",
              "      <th>2022-12-28</th>\n",
              "      <td>191</td>\n",
              "      <td>18355</td>\n",
              "      <td>2174.0347</td>\n",
              "      <td>21</td>\n",
              "    </tr>\n",
              "    <tr>\n",
              "      <th>2022-12-29</th>\n",
              "      <td>142</td>\n",
              "      <td>17247</td>\n",
              "      <td>2115.5851</td>\n",
              "      <td>21</td>\n",
              "    </tr>\n",
              "    <tr>\n",
              "      <th>2022-12-30</th>\n",
              "      <td>157</td>\n",
              "      <td>15044</td>\n",
              "      <td>1828.5584</td>\n",
              "      <td>10</td>\n",
              "    </tr>\n",
              "    <tr>\n",
              "      <th>2022-12-31</th>\n",
              "      <td>116</td>\n",
              "      <td>12468</td>\n",
              "      <td>1446.5901</td>\n",
              "      <td>20</td>\n",
              "    </tr>\n",
              "  </tbody>\n",
              "</table>\n",
              "<p>365 rows × 4 columns</p>\n",
              "</div>\n",
              "      <button class=\"colab-df-convert\" onclick=\"convertToInteractive('df-13ebb49b-e692-489e-8daa-3dbb7c98cacb')\"\n",
              "              title=\"Convert this dataframe to an interactive table.\"\n",
              "              style=\"display:none;\">\n",
              "        \n",
              "  <svg xmlns=\"http://www.w3.org/2000/svg\" height=\"24px\"viewBox=\"0 0 24 24\"\n",
              "       width=\"24px\">\n",
              "    <path d=\"M0 0h24v24H0V0z\" fill=\"none\"/>\n",
              "    <path d=\"M18.56 5.44l.94 2.06.94-2.06 2.06-.94-2.06-.94-.94-2.06-.94 2.06-2.06.94zm-11 1L8.5 8.5l.94-2.06 2.06-.94-2.06-.94L8.5 2.5l-.94 2.06-2.06.94zm10 10l.94 2.06.94-2.06 2.06-.94-2.06-.94-.94-2.06-.94 2.06-2.06.94z\"/><path d=\"M17.41 7.96l-1.37-1.37c-.4-.4-.92-.59-1.43-.59-.52 0-1.04.2-1.43.59L10.3 9.45l-7.72 7.72c-.78.78-.78 2.05 0 2.83L4 21.41c.39.39.9.59 1.41.59.51 0 1.02-.2 1.41-.59l7.78-7.78 2.81-2.81c.8-.78.8-2.07 0-2.86zM5.41 20L4 18.59l7.72-7.72 1.47 1.35L5.41 20z\"/>\n",
              "  </svg>\n",
              "      </button>\n",
              "      \n",
              "  <style>\n",
              "    .colab-df-container {\n",
              "      display:flex;\n",
              "      flex-wrap:wrap;\n",
              "      gap: 12px;\n",
              "    }\n",
              "\n",
              "    .colab-df-convert {\n",
              "      background-color: #E8F0FE;\n",
              "      border: none;\n",
              "      border-radius: 50%;\n",
              "      cursor: pointer;\n",
              "      display: none;\n",
              "      fill: #1967D2;\n",
              "      height: 32px;\n",
              "      padding: 0 0 0 0;\n",
              "      width: 32px;\n",
              "    }\n",
              "\n",
              "    .colab-df-convert:hover {\n",
              "      background-color: #E2EBFA;\n",
              "      box-shadow: 0px 1px 2px rgba(60, 64, 67, 0.3), 0px 1px 3px 1px rgba(60, 64, 67, 0.15);\n",
              "      fill: #174EA6;\n",
              "    }\n",
              "\n",
              "    [theme=dark] .colab-df-convert {\n",
              "      background-color: #3B4455;\n",
              "      fill: #D2E3FC;\n",
              "    }\n",
              "\n",
              "    [theme=dark] .colab-df-convert:hover {\n",
              "      background-color: #434B5C;\n",
              "      box-shadow: 0px 1px 3px 1px rgba(0, 0, 0, 0.15);\n",
              "      filter: drop-shadow(0px 1px 2px rgba(0, 0, 0, 0.3));\n",
              "      fill: #FFFFFF;\n",
              "    }\n",
              "  </style>\n",
              "\n",
              "      <script>\n",
              "        const buttonEl =\n",
              "          document.querySelector('#df-13ebb49b-e692-489e-8daa-3dbb7c98cacb button.colab-df-convert');\n",
              "        buttonEl.style.display =\n",
              "          google.colab.kernel.accessAllowed ? 'block' : 'none';\n",
              "\n",
              "        async function convertToInteractive(key) {\n",
              "          const element = document.querySelector('#df-13ebb49b-e692-489e-8daa-3dbb7c98cacb');\n",
              "          const dataTable =\n",
              "            await google.colab.kernel.invokeFunction('convertToInteractive',\n",
              "                                                     [key], {});\n",
              "          if (!dataTable) return;\n",
              "\n",
              "          const docLinkHtml = 'Like what you see? Visit the ' +\n",
              "            '<a target=\"_blank\" href=https://colab.research.google.com/notebooks/data_table.ipynb>data table notebook</a>'\n",
              "            + ' to learn more about interactive tables.';\n",
              "          element.innerHTML = '';\n",
              "          dataTable['output_type'] = 'display_data';\n",
              "          await google.colab.output.renderOutput(dataTable, element);\n",
              "          const docLink = document.createElement('div');\n",
              "          docLink.innerHTML = docLinkHtml;\n",
              "          element.appendChild(docLink);\n",
              "        }\n",
              "      </script>\n",
              "    </div>\n",
              "  </div>\n",
              "  "
            ],
            "text/plain": [
              "            Subscribers  Views  Watch time (hours)  Comments added\n",
              "Date                                                              \n",
              "2022-01-01           30   3111            327.3357              11\n",
              "2022-01-02           42   4109            402.5877               5\n",
              "2022-01-03           45   4264            431.8496              13\n",
              "2022-01-04           53   4160            427.6701               7\n",
              "2022-01-05           32   3971            433.6201               8\n",
              "...                 ...    ...                 ...             ...\n",
              "2022-12-27          201  18245           2228.4891              18\n",
              "2022-12-28          191  18355           2174.0347              21\n",
              "2022-12-29          142  17247           2115.5851              21\n",
              "2022-12-30          157  15044           1828.5584              10\n",
              "2022-12-31          116  12468           1446.5901              20\n",
              "\n",
              "[365 rows x 4 columns]"
            ]
          },
          "execution_count": 150,
          "metadata": {},
          "output_type": "execute_result"
        }
      ],
      "source": [
        "# partial indexing -> select a particular year/month\n",
        "yt.loc['2022-12']\n",
        "yt.loc['2022']"
      ]
    },
    {
      "cell_type": "code",
      "execution_count": null,
      "metadata": {
        "id": "ei2sDZlzm4nf"
      },
      "outputs": [],
      "source": [
        "# create year month-name and day-name\n",
        "yt['month_name'] = yt.index.month_name()\n",
        "yt['weekday_name'] = yt.index.day_name()\n",
        "yt['quarter'] = yt.index.quarter"
      ]
    },
    {
      "cell_type": "code",
      "execution_count": null,
      "metadata": {
        "colab": {
          "base_uri": "https://localhost:8080/",
          "height": 238
        },
        "id": "mMa4owv0rt-r",
        "outputId": "58b6b94c-c6b4-458e-f879-8e117bdefa46"
      },
      "outputs": [
        {
          "data": {
            "text/html": [
              "\n",
              "  <div id=\"df-0a215657-f99c-496d-98da-030fc82b9348\">\n",
              "    <div class=\"colab-df-container\">\n",
              "      <div>\n",
              "<style scoped>\n",
              "    .dataframe tbody tr th:only-of-type {\n",
              "        vertical-align: middle;\n",
              "    }\n",
              "\n",
              "    .dataframe tbody tr th {\n",
              "        vertical-align: top;\n",
              "    }\n",
              "\n",
              "    .dataframe thead th {\n",
              "        text-align: right;\n",
              "    }\n",
              "</style>\n",
              "<table border=\"1\" class=\"dataframe\">\n",
              "  <thead>\n",
              "    <tr style=\"text-align: right;\">\n",
              "      <th></th>\n",
              "      <th>Subscribers</th>\n",
              "      <th>Views</th>\n",
              "      <th>Watch time (hours)</th>\n",
              "      <th>Comments added</th>\n",
              "      <th>month_name</th>\n",
              "      <th>weekdday_name</th>\n",
              "      <th>quarter</th>\n",
              "      <th>weekday_name</th>\n",
              "    </tr>\n",
              "    <tr>\n",
              "      <th>Date</th>\n",
              "      <th></th>\n",
              "      <th></th>\n",
              "      <th></th>\n",
              "      <th></th>\n",
              "      <th></th>\n",
              "      <th></th>\n",
              "      <th></th>\n",
              "      <th></th>\n",
              "    </tr>\n",
              "  </thead>\n",
              "  <tbody>\n",
              "    <tr>\n",
              "      <th>2019-04-17</th>\n",
              "      <td>0</td>\n",
              "      <td>0</td>\n",
              "      <td>0.0</td>\n",
              "      <td>0</td>\n",
              "      <td>April</td>\n",
              "      <td>April</td>\n",
              "      <td>2</td>\n",
              "      <td>Wednesday</td>\n",
              "    </tr>\n",
              "    <tr>\n",
              "      <th>2019-04-18</th>\n",
              "      <td>0</td>\n",
              "      <td>0</td>\n",
              "      <td>0.0</td>\n",
              "      <td>0</td>\n",
              "      <td>April</td>\n",
              "      <td>April</td>\n",
              "      <td>2</td>\n",
              "      <td>Thursday</td>\n",
              "    </tr>\n",
              "    <tr>\n",
              "      <th>2019-04-19</th>\n",
              "      <td>0</td>\n",
              "      <td>0</td>\n",
              "      <td>0.0</td>\n",
              "      <td>0</td>\n",
              "      <td>April</td>\n",
              "      <td>April</td>\n",
              "      <td>2</td>\n",
              "      <td>Friday</td>\n",
              "    </tr>\n",
              "    <tr>\n",
              "      <th>2019-04-20</th>\n",
              "      <td>0</td>\n",
              "      <td>0</td>\n",
              "      <td>0.0</td>\n",
              "      <td>0</td>\n",
              "      <td>April</td>\n",
              "      <td>April</td>\n",
              "      <td>2</td>\n",
              "      <td>Saturday</td>\n",
              "    </tr>\n",
              "    <tr>\n",
              "      <th>2019-04-21</th>\n",
              "      <td>0</td>\n",
              "      <td>0</td>\n",
              "      <td>0.0</td>\n",
              "      <td>0</td>\n",
              "      <td>April</td>\n",
              "      <td>April</td>\n",
              "      <td>2</td>\n",
              "      <td>Sunday</td>\n",
              "    </tr>\n",
              "  </tbody>\n",
              "</table>\n",
              "</div>\n",
              "      <button class=\"colab-df-convert\" onclick=\"convertToInteractive('df-0a215657-f99c-496d-98da-030fc82b9348')\"\n",
              "              title=\"Convert this dataframe to an interactive table.\"\n",
              "              style=\"display:none;\">\n",
              "        \n",
              "  <svg xmlns=\"http://www.w3.org/2000/svg\" height=\"24px\"viewBox=\"0 0 24 24\"\n",
              "       width=\"24px\">\n",
              "    <path d=\"M0 0h24v24H0V0z\" fill=\"none\"/>\n",
              "    <path d=\"M18.56 5.44l.94 2.06.94-2.06 2.06-.94-2.06-.94-.94-2.06-.94 2.06-2.06.94zm-11 1L8.5 8.5l.94-2.06 2.06-.94-2.06-.94L8.5 2.5l-.94 2.06-2.06.94zm10 10l.94 2.06.94-2.06 2.06-.94-2.06-.94-.94-2.06-.94 2.06-2.06.94z\"/><path d=\"M17.41 7.96l-1.37-1.37c-.4-.4-.92-.59-1.43-.59-.52 0-1.04.2-1.43.59L10.3 9.45l-7.72 7.72c-.78.78-.78 2.05 0 2.83L4 21.41c.39.39.9.59 1.41.59.51 0 1.02-.2 1.41-.59l7.78-7.78 2.81-2.81c.8-.78.8-2.07 0-2.86zM5.41 20L4 18.59l7.72-7.72 1.47 1.35L5.41 20z\"/>\n",
              "  </svg>\n",
              "      </button>\n",
              "      \n",
              "  <style>\n",
              "    .colab-df-container {\n",
              "      display:flex;\n",
              "      flex-wrap:wrap;\n",
              "      gap: 12px;\n",
              "    }\n",
              "\n",
              "    .colab-df-convert {\n",
              "      background-color: #E8F0FE;\n",
              "      border: none;\n",
              "      border-radius: 50%;\n",
              "      cursor: pointer;\n",
              "      display: none;\n",
              "      fill: #1967D2;\n",
              "      height: 32px;\n",
              "      padding: 0 0 0 0;\n",
              "      width: 32px;\n",
              "    }\n",
              "\n",
              "    .colab-df-convert:hover {\n",
              "      background-color: #E2EBFA;\n",
              "      box-shadow: 0px 1px 2px rgba(60, 64, 67, 0.3), 0px 1px 3px 1px rgba(60, 64, 67, 0.15);\n",
              "      fill: #174EA6;\n",
              "    }\n",
              "\n",
              "    [theme=dark] .colab-df-convert {\n",
              "      background-color: #3B4455;\n",
              "      fill: #D2E3FC;\n",
              "    }\n",
              "\n",
              "    [theme=dark] .colab-df-convert:hover {\n",
              "      background-color: #434B5C;\n",
              "      box-shadow: 0px 1px 3px 1px rgba(0, 0, 0, 0.15);\n",
              "      filter: drop-shadow(0px 1px 2px rgba(0, 0, 0, 0.3));\n",
              "      fill: #FFFFFF;\n",
              "    }\n",
              "  </style>\n",
              "\n",
              "      <script>\n",
              "        const buttonEl =\n",
              "          document.querySelector('#df-0a215657-f99c-496d-98da-030fc82b9348 button.colab-df-convert');\n",
              "        buttonEl.style.display =\n",
              "          google.colab.kernel.accessAllowed ? 'block' : 'none';\n",
              "\n",
              "        async function convertToInteractive(key) {\n",
              "          const element = document.querySelector('#df-0a215657-f99c-496d-98da-030fc82b9348');\n",
              "          const dataTable =\n",
              "            await google.colab.kernel.invokeFunction('convertToInteractive',\n",
              "                                                     [key], {});\n",
              "          if (!dataTable) return;\n",
              "\n",
              "          const docLinkHtml = 'Like what you see? Visit the ' +\n",
              "            '<a target=\"_blank\" href=https://colab.research.google.com/notebooks/data_table.ipynb>data table notebook</a>'\n",
              "            + ' to learn more about interactive tables.';\n",
              "          element.innerHTML = '';\n",
              "          dataTable['output_type'] = 'display_data';\n",
              "          await google.colab.output.renderOutput(dataTable, element);\n",
              "          const docLink = document.createElement('div');\n",
              "          docLink.innerHTML = docLinkHtml;\n",
              "          element.appendChild(docLink);\n",
              "        }\n",
              "      </script>\n",
              "    </div>\n",
              "  </div>\n",
              "  "
            ],
            "text/plain": [
              "            Subscribers  Views  Watch time (hours)  Comments added month_name  \\\n",
              "Date                                                                            \n",
              "2019-04-17            0      0                 0.0               0      April   \n",
              "2019-04-18            0      0                 0.0               0      April   \n",
              "2019-04-19            0      0                 0.0               0      April   \n",
              "2019-04-20            0      0                 0.0               0      April   \n",
              "2019-04-21            0      0                 0.0               0      April   \n",
              "\n",
              "           weekdday_name  quarter weekday_name  \n",
              "Date                                            \n",
              "2019-04-17         April        2    Wednesday  \n",
              "2019-04-18         April        2     Thursday  \n",
              "2019-04-19         April        2       Friday  \n",
              "2019-04-20         April        2     Saturday  \n",
              "2019-04-21         April        2       Sunday  "
            ]
          },
          "execution_count": 159,
          "metadata": {},
          "output_type": "execute_result"
        }
      ],
      "source": [
        "yt.head()"
      ]
    },
    {
      "cell_type": "code",
      "execution_count": 7,
      "metadata": {
        "colab": {
          "base_uri": "https://localhost:8080/",
          "height": 238
        },
        "id": "be_ZwtM0sMNc",
        "outputId": "ab81d172-e442-4a7b-925c-56143b10a16d"
      },
      "outputs": [
        {
          "data": {
            "text/html": [
              "<div>\n",
              "<style scoped>\n",
              "    .dataframe tbody tr th:only-of-type {\n",
              "        vertical-align: middle;\n",
              "    }\n",
              "\n",
              "    .dataframe tbody tr th {\n",
              "        vertical-align: top;\n",
              "    }\n",
              "\n",
              "    .dataframe thead th {\n",
              "        text-align: right;\n",
              "    }\n",
              "</style>\n",
              "<table border=\"1\" class=\"dataframe\">\n",
              "  <thead>\n",
              "    <tr style=\"text-align: right;\">\n",
              "      <th></th>\n",
              "      <th>Open</th>\n",
              "      <th>High</th>\n",
              "      <th>Low</th>\n",
              "      <th>Close</th>\n",
              "      <th>Adj Close</th>\n",
              "      <th>Volume</th>\n",
              "      <th>month_name</th>\n",
              "      <th>weekday_name</th>\n",
              "      <th>quarter</th>\n",
              "    </tr>\n",
              "    <tr>\n",
              "      <th>Date</th>\n",
              "      <th></th>\n",
              "      <th></th>\n",
              "      <th></th>\n",
              "      <th></th>\n",
              "      <th></th>\n",
              "      <th></th>\n",
              "      <th></th>\n",
              "      <th></th>\n",
              "      <th></th>\n",
              "    </tr>\n",
              "  </thead>\n",
              "  <tbody>\n",
              "    <tr>\n",
              "      <th>2004-08-19</th>\n",
              "      <td>50.050049</td>\n",
              "      <td>52.082081</td>\n",
              "      <td>48.028027</td>\n",
              "      <td>50.220219</td>\n",
              "      <td>50.220219</td>\n",
              "      <td>44659096</td>\n",
              "      <td>August</td>\n",
              "      <td>Thursday</td>\n",
              "      <td>3</td>\n",
              "    </tr>\n",
              "    <tr>\n",
              "      <th>2004-08-20</th>\n",
              "      <td>50.555557</td>\n",
              "      <td>54.594597</td>\n",
              "      <td>50.300301</td>\n",
              "      <td>54.209209</td>\n",
              "      <td>54.209209</td>\n",
              "      <td>22834343</td>\n",
              "      <td>August</td>\n",
              "      <td>Friday</td>\n",
              "      <td>3</td>\n",
              "    </tr>\n",
              "    <tr>\n",
              "      <th>2004-08-23</th>\n",
              "      <td>55.430431</td>\n",
              "      <td>56.796799</td>\n",
              "      <td>54.579578</td>\n",
              "      <td>54.754753</td>\n",
              "      <td>54.754753</td>\n",
              "      <td>18256126</td>\n",
              "      <td>August</td>\n",
              "      <td>Monday</td>\n",
              "      <td>3</td>\n",
              "    </tr>\n",
              "    <tr>\n",
              "      <th>2004-08-24</th>\n",
              "      <td>55.675674</td>\n",
              "      <td>55.855858</td>\n",
              "      <td>51.836838</td>\n",
              "      <td>52.487488</td>\n",
              "      <td>52.487488</td>\n",
              "      <td>15247337</td>\n",
              "      <td>August</td>\n",
              "      <td>Tuesday</td>\n",
              "      <td>3</td>\n",
              "    </tr>\n",
              "    <tr>\n",
              "      <th>2004-08-25</th>\n",
              "      <td>52.532532</td>\n",
              "      <td>54.054054</td>\n",
              "      <td>51.991993</td>\n",
              "      <td>53.053055</td>\n",
              "      <td>53.053055</td>\n",
              "      <td>9188602</td>\n",
              "      <td>August</td>\n",
              "      <td>Wednesday</td>\n",
              "      <td>3</td>\n",
              "    </tr>\n",
              "  </tbody>\n",
              "</table>\n",
              "</div>"
            ],
            "text/plain": [
              "                 Open       High        Low      Close  Adj Close    Volume  \\\n",
              "Date                                                                          \n",
              "2004-08-19  50.050049  52.082081  48.028027  50.220219  50.220219  44659096   \n",
              "2004-08-20  50.555557  54.594597  50.300301  54.209209  54.209209  22834343   \n",
              "2004-08-23  55.430431  56.796799  54.579578  54.754753  54.754753  18256126   \n",
              "2004-08-24  55.675674  55.855858  51.836838  52.487488  52.487488  15247337   \n",
              "2004-08-25  52.532532  54.054054  51.991993  53.053055  53.053055   9188602   \n",
              "\n",
              "           month_name weekday_name  quarter  \n",
              "Date                                         \n",
              "2004-08-19     August     Thursday        3  \n",
              "2004-08-20     August       Friday        3  \n",
              "2004-08-23     August       Monday        3  \n",
              "2004-08-24     August      Tuesday        3  \n",
              "2004-08-25     August    Wednesday        3  "
            ]
          },
          "execution_count": 7,
          "metadata": {},
          "output_type": "execute_result"
        }
      ],
      "source": [
        "google['month_name'] = google.index.month_name()\n",
        "google['weekday_name'] = google.index.day_name()\n",
        "google['quarter'] = google.index.quarter\n",
        "\n",
        "google.head()"
      ]
    },
    {
      "cell_type": "code",
      "execution_count": 35,
      "metadata": {},
      "outputs": [
        {
          "data": {
            "text/html": [
              "<div>\n",
              "<style scoped>\n",
              "    .dataframe tbody tr th:only-of-type {\n",
              "        vertical-align: middle;\n",
              "    }\n",
              "\n",
              "    .dataframe tbody tr th {\n",
              "        vertical-align: top;\n",
              "    }\n",
              "\n",
              "    .dataframe thead th {\n",
              "        text-align: right;\n",
              "    }\n",
              "</style>\n",
              "<table border=\"1\" class=\"dataframe\">\n",
              "  <thead>\n",
              "    <tr style=\"text-align: right;\">\n",
              "      <th></th>\n",
              "      <th>Open</th>\n",
              "      <th>High</th>\n",
              "      <th>Low</th>\n",
              "      <th>Close</th>\n",
              "      <th>Adj Close</th>\n",
              "      <th>Volume</th>\n",
              "      <th>month_name</th>\n",
              "      <th>weekday_name</th>\n",
              "      <th>quarter</th>\n",
              "    </tr>\n",
              "    <tr>\n",
              "      <th>Date</th>\n",
              "      <th></th>\n",
              "      <th></th>\n",
              "      <th></th>\n",
              "      <th></th>\n",
              "      <th></th>\n",
              "      <th></th>\n",
              "      <th></th>\n",
              "      <th></th>\n",
              "      <th></th>\n",
              "    </tr>\n",
              "  </thead>\n",
              "  <tbody>\n",
              "    <tr>\n",
              "      <th>2011-12-20</th>\n",
              "      <td>314.314301</td>\n",
              "      <td>316.236237</td>\n",
              "      <td>314.309296</td>\n",
              "      <td>315.500488</td>\n",
              "      <td>315.500488</td>\n",
              "      <td>4771624</td>\n",
              "      <td>December</td>\n",
              "      <td>Tuesday</td>\n",
              "      <td>4</td>\n",
              "    </tr>\n",
              "    <tr>\n",
              "      <th>2011-12-21</th>\n",
              "      <td>315.320313</td>\n",
              "      <td>316.226227</td>\n",
              "      <td>309.789795</td>\n",
              "      <td>313.223236</td>\n",
              "      <td>313.223236</td>\n",
              "      <td>4990804</td>\n",
              "      <td>December</td>\n",
              "      <td>Wednesday</td>\n",
              "      <td>4</td>\n",
              "    </tr>\n",
              "    <tr>\n",
              "      <th>2011-12-22</th>\n",
              "      <td>314.289276</td>\n",
              "      <td>316.181183</td>\n",
              "      <td>313.818817</td>\n",
              "      <td>315.165161</td>\n",
              "      <td>315.165161</td>\n",
              "      <td>3640955</td>\n",
              "      <td>December</td>\n",
              "      <td>Thursday</td>\n",
              "      <td>4</td>\n",
              "    </tr>\n",
              "    <tr>\n",
              "      <th>2011-12-23</th>\n",
              "      <td>316.316315</td>\n",
              "      <td>317.657654</td>\n",
              "      <td>315.595581</td>\n",
              "      <td>316.886902</td>\n",
              "      <td>316.886902</td>\n",
              "      <td>2904493</td>\n",
              "      <td>December</td>\n",
              "      <td>Friday</td>\n",
              "      <td>4</td>\n",
              "    </tr>\n",
              "    <tr>\n",
              "      <th>2011-12-27</th>\n",
              "      <td>316.341339</td>\n",
              "      <td>322.567566</td>\n",
              "      <td>316.316315</td>\n",
              "      <td>320.445435</td>\n",
              "      <td>320.445435</td>\n",
              "      <td>3209587</td>\n",
              "      <td>December</td>\n",
              "      <td>Tuesday</td>\n",
              "      <td>4</td>\n",
              "    </tr>\n",
              "    <tr>\n",
              "      <th>...</th>\n",
              "      <td>...</td>\n",
              "      <td>...</td>\n",
              "      <td>...</td>\n",
              "      <td>...</td>\n",
              "      <td>...</td>\n",
              "      <td>...</td>\n",
              "      <td>...</td>\n",
              "      <td>...</td>\n",
              "      <td>...</td>\n",
              "    </tr>\n",
              "    <tr>\n",
              "      <th>2020-10-19</th>\n",
              "      <td>1575.930054</td>\n",
              "      <td>1583.930054</td>\n",
              "      <td>1522.920044</td>\n",
              "      <td>1529.949951</td>\n",
              "      <td>1529.949951</td>\n",
              "      <td>1486700</td>\n",
              "      <td>October</td>\n",
              "      <td>Monday</td>\n",
              "      <td>4</td>\n",
              "    </tr>\n",
              "    <tr>\n",
              "      <th>2020-10-20</th>\n",
              "      <td>1523.109985</td>\n",
              "      <td>1573.839966</td>\n",
              "      <td>1520.500000</td>\n",
              "      <td>1551.079956</td>\n",
              "      <td>1551.079956</td>\n",
              "      <td>2083500</td>\n",
              "      <td>October</td>\n",
              "      <td>Tuesday</td>\n",
              "      <td>4</td>\n",
              "    </tr>\n",
              "    <tr>\n",
              "      <th>2020-10-21</th>\n",
              "      <td>1569.849976</td>\n",
              "      <td>1615.140015</td>\n",
              "      <td>1567.140015</td>\n",
              "      <td>1585.989990</td>\n",
              "      <td>1585.989990</td>\n",
              "      <td>3016100</td>\n",
              "      <td>October</td>\n",
              "      <td>Wednesday</td>\n",
              "      <td>4</td>\n",
              "    </tr>\n",
              "    <tr>\n",
              "      <th>2020-10-22</th>\n",
              "      <td>1585.000000</td>\n",
              "      <td>1613.420044</td>\n",
              "      <td>1577.479980</td>\n",
              "      <td>1606.660034</td>\n",
              "      <td>1606.660034</td>\n",
              "      <td>1525600</td>\n",
              "      <td>October</td>\n",
              "      <td>Thursday</td>\n",
              "      <td>4</td>\n",
              "    </tr>\n",
              "    <tr>\n",
              "      <th>2020-10-23</th>\n",
              "      <td>1615.050049</td>\n",
              "      <td>1634.119995</td>\n",
              "      <td>1611.910034</td>\n",
              "      <td>1632.979980</td>\n",
              "      <td>1632.979980</td>\n",
              "      <td>1527400</td>\n",
              "      <td>October</td>\n",
              "      <td>Friday</td>\n",
              "      <td>4</td>\n",
              "    </tr>\n",
              "  </tbody>\n",
              "</table>\n",
              "<p>2226 rows × 9 columns</p>\n",
              "</div>"
            ],
            "text/plain": [
              "                   Open         High          Low        Close    Adj Close  \\\n",
              "Date                                                                          \n",
              "2011-12-20   314.314301   316.236237   314.309296   315.500488   315.500488   \n",
              "2011-12-21   315.320313   316.226227   309.789795   313.223236   313.223236   \n",
              "2011-12-22   314.289276   316.181183   313.818817   315.165161   315.165161   \n",
              "2011-12-23   316.316315   317.657654   315.595581   316.886902   316.886902   \n",
              "2011-12-27   316.341339   322.567566   316.316315   320.445435   320.445435   \n",
              "...                 ...          ...          ...          ...          ...   \n",
              "2020-10-19  1575.930054  1583.930054  1522.920044  1529.949951  1529.949951   \n",
              "2020-10-20  1523.109985  1573.839966  1520.500000  1551.079956  1551.079956   \n",
              "2020-10-21  1569.849976  1615.140015  1567.140015  1585.989990  1585.989990   \n",
              "2020-10-22  1585.000000  1613.420044  1577.479980  1606.660034  1606.660034   \n",
              "2020-10-23  1615.050049  1634.119995  1611.910034  1632.979980  1632.979980   \n",
              "\n",
              "             Volume month_name weekday_name  quarter  \n",
              "Date                                                  \n",
              "2011-12-20  4771624   December      Tuesday        4  \n",
              "2011-12-21  4990804   December    Wednesday        4  \n",
              "2011-12-22  3640955   December     Thursday        4  \n",
              "2011-12-23  2904493   December       Friday        4  \n",
              "2011-12-27  3209587   December      Tuesday        4  \n",
              "...             ...        ...          ...      ...  \n",
              "2020-10-19  1486700    October       Monday        4  \n",
              "2020-10-20  2083500    October      Tuesday        4  \n",
              "2020-10-21  3016100    October    Wednesday        4  \n",
              "2020-10-22  1525600    October     Thursday        4  \n",
              "2020-10-23  1527400    October       Friday        4  \n",
              "\n",
              "[2226 rows x 9 columns]"
            ]
          },
          "execution_count": 35,
          "metadata": {},
          "output_type": "execute_result"
        }
      ],
      "source": [
        "# slicing\n",
        "google.loc['2011-12-20': '2020-10-25']"
      ]
    },
    {
      "cell_type": "code",
      "execution_count": null,
      "metadata": {
        "colab": {
          "base_uri": "https://localhost:8080/",
          "height": 363
        },
        "id": "Kvl_Ps0IlGcq",
        "outputId": "bc5903e1-6a60-4672-fedc-f6b8ca99f4ea"
      },
      "outputs": [
        {
          "data": {
            "text/html": [
              "\n",
              "  <div id=\"df-1e1c3ad2-6f84-40a3-9452-f09025710ef0\">\n",
              "    <div class=\"colab-df-container\">\n",
              "      <div>\n",
              "<style scoped>\n",
              "    .dataframe tbody tr th:only-of-type {\n",
              "        vertical-align: middle;\n",
              "    }\n",
              "\n",
              "    .dataframe tbody tr th {\n",
              "        vertical-align: top;\n",
              "    }\n",
              "\n",
              "    .dataframe thead th {\n",
              "        text-align: right;\n",
              "    }\n",
              "</style>\n",
              "<table border=\"1\" class=\"dataframe\">\n",
              "  <thead>\n",
              "    <tr style=\"text-align: right;\">\n",
              "      <th></th>\n",
              "      <th>Subscribers</th>\n",
              "      <th>Views</th>\n",
              "      <th>Watch time (hours)</th>\n",
              "      <th>Comments added</th>\n",
              "      <th>month_name</th>\n",
              "      <th>weekdday_name</th>\n",
              "      <th>quarter</th>\n",
              "      <th>weekday_name</th>\n",
              "    </tr>\n",
              "    <tr>\n",
              "      <th>Date</th>\n",
              "      <th></th>\n",
              "      <th></th>\n",
              "      <th></th>\n",
              "      <th></th>\n",
              "      <th></th>\n",
              "      <th></th>\n",
              "      <th></th>\n",
              "      <th></th>\n",
              "    </tr>\n",
              "  </thead>\n",
              "  <tbody>\n",
              "    <tr>\n",
              "      <th>2022-12-15</th>\n",
              "      <td>176</td>\n",
              "      <td>20396</td>\n",
              "      <td>2730.0469</td>\n",
              "      <td>24</td>\n",
              "      <td>December</td>\n",
              "      <td>December</td>\n",
              "      <td>4</td>\n",
              "      <td>Thursday</td>\n",
              "    </tr>\n",
              "    <tr>\n",
              "      <th>2022-12-17</th>\n",
              "      <td>180</td>\n",
              "      <td>16207</td>\n",
              "      <td>1967.5637</td>\n",
              "      <td>20</td>\n",
              "      <td>December</td>\n",
              "      <td>December</td>\n",
              "      <td>4</td>\n",
              "      <td>Saturday</td>\n",
              "    </tr>\n",
              "    <tr>\n",
              "      <th>2022-12-19</th>\n",
              "      <td>171</td>\n",
              "      <td>19193</td>\n",
              "      <td>2251.5935</td>\n",
              "      <td>30</td>\n",
              "      <td>December</td>\n",
              "      <td>December</td>\n",
              "      <td>4</td>\n",
              "      <td>Monday</td>\n",
              "    </tr>\n",
              "    <tr>\n",
              "      <th>2022-12-21</th>\n",
              "      <td>185</td>\n",
              "      <td>20380</td>\n",
              "      <td>2781.9778</td>\n",
              "      <td>25</td>\n",
              "      <td>December</td>\n",
              "      <td>December</td>\n",
              "      <td>4</td>\n",
              "      <td>Wednesday</td>\n",
              "    </tr>\n",
              "    <tr>\n",
              "      <th>2022-12-23</th>\n",
              "      <td>144</td>\n",
              "      <td>15855</td>\n",
              "      <td>1882.2075</td>\n",
              "      <td>22</td>\n",
              "      <td>December</td>\n",
              "      <td>December</td>\n",
              "      <td>4</td>\n",
              "      <td>Friday</td>\n",
              "    </tr>\n",
              "    <tr>\n",
              "      <th>2022-12-25</th>\n",
              "      <td>148</td>\n",
              "      <td>16026</td>\n",
              "      <td>2033.8560</td>\n",
              "      <td>32</td>\n",
              "      <td>December</td>\n",
              "      <td>December</td>\n",
              "      <td>4</td>\n",
              "      <td>Sunday</td>\n",
              "    </tr>\n",
              "    <tr>\n",
              "      <th>2022-12-27</th>\n",
              "      <td>201</td>\n",
              "      <td>18245</td>\n",
              "      <td>2228.4891</td>\n",
              "      <td>18</td>\n",
              "      <td>December</td>\n",
              "      <td>December</td>\n",
              "      <td>4</td>\n",
              "      <td>Tuesday</td>\n",
              "    </tr>\n",
              "    <tr>\n",
              "      <th>2022-12-29</th>\n",
              "      <td>142</td>\n",
              "      <td>17247</td>\n",
              "      <td>2115.5851</td>\n",
              "      <td>21</td>\n",
              "      <td>December</td>\n",
              "      <td>December</td>\n",
              "      <td>4</td>\n",
              "      <td>Thursday</td>\n",
              "    </tr>\n",
              "    <tr>\n",
              "      <th>2022-12-31</th>\n",
              "      <td>116</td>\n",
              "      <td>12468</td>\n",
              "      <td>1446.5901</td>\n",
              "      <td>20</td>\n",
              "      <td>December</td>\n",
              "      <td>December</td>\n",
              "      <td>4</td>\n",
              "      <td>Saturday</td>\n",
              "    </tr>\n",
              "  </tbody>\n",
              "</table>\n",
              "</div>\n",
              "      <button class=\"colab-df-convert\" onclick=\"convertToInteractive('df-1e1c3ad2-6f84-40a3-9452-f09025710ef0')\"\n",
              "              title=\"Convert this dataframe to an interactive table.\"\n",
              "              style=\"display:none;\">\n",
              "        \n",
              "  <svg xmlns=\"http://www.w3.org/2000/svg\" height=\"24px\"viewBox=\"0 0 24 24\"\n",
              "       width=\"24px\">\n",
              "    <path d=\"M0 0h24v24H0V0z\" fill=\"none\"/>\n",
              "    <path d=\"M18.56 5.44l.94 2.06.94-2.06 2.06-.94-2.06-.94-.94-2.06-.94 2.06-2.06.94zm-11 1L8.5 8.5l.94-2.06 2.06-.94-2.06-.94L8.5 2.5l-.94 2.06-2.06.94zm10 10l.94 2.06.94-2.06 2.06-.94-2.06-.94-.94-2.06-.94 2.06-2.06.94z\"/><path d=\"M17.41 7.96l-1.37-1.37c-.4-.4-.92-.59-1.43-.59-.52 0-1.04.2-1.43.59L10.3 9.45l-7.72 7.72c-.78.78-.78 2.05 0 2.83L4 21.41c.39.39.9.59 1.41.59.51 0 1.02-.2 1.41-.59l7.78-7.78 2.81-2.81c.8-.78.8-2.07 0-2.86zM5.41 20L4 18.59l7.72-7.72 1.47 1.35L5.41 20z\"/>\n",
              "  </svg>\n",
              "      </button>\n",
              "      \n",
              "  <style>\n",
              "    .colab-df-container {\n",
              "      display:flex;\n",
              "      flex-wrap:wrap;\n",
              "      gap: 12px;\n",
              "    }\n",
              "\n",
              "    .colab-df-convert {\n",
              "      background-color: #E8F0FE;\n",
              "      border: none;\n",
              "      border-radius: 50%;\n",
              "      cursor: pointer;\n",
              "      display: none;\n",
              "      fill: #1967D2;\n",
              "      height: 32px;\n",
              "      padding: 0 0 0 0;\n",
              "      width: 32px;\n",
              "    }\n",
              "\n",
              "    .colab-df-convert:hover {\n",
              "      background-color: #E2EBFA;\n",
              "      box-shadow: 0px 1px 2px rgba(60, 64, 67, 0.3), 0px 1px 3px 1px rgba(60, 64, 67, 0.15);\n",
              "      fill: #174EA6;\n",
              "    }\n",
              "\n",
              "    [theme=dark] .colab-df-convert {\n",
              "      background-color: #3B4455;\n",
              "      fill: #D2E3FC;\n",
              "    }\n",
              "\n",
              "    [theme=dark] .colab-df-convert:hover {\n",
              "      background-color: #434B5C;\n",
              "      box-shadow: 0px 1px 3px 1px rgba(0, 0, 0, 0.15);\n",
              "      filter: drop-shadow(0px 1px 2px rgba(0, 0, 0, 0.3));\n",
              "      fill: #FFFFFF;\n",
              "    }\n",
              "  </style>\n",
              "\n",
              "      <script>\n",
              "        const buttonEl =\n",
              "          document.querySelector('#df-1e1c3ad2-6f84-40a3-9452-f09025710ef0 button.colab-df-convert');\n",
              "        buttonEl.style.display =\n",
              "          google.colab.kernel.accessAllowed ? 'block' : 'none';\n",
              "\n",
              "        async function convertToInteractive(key) {\n",
              "          const element = document.querySelector('#df-1e1c3ad2-6f84-40a3-9452-f09025710ef0');\n",
              "          const dataTable =\n",
              "            await google.colab.kernel.invokeFunction('convertToInteractive',\n",
              "                                                     [key], {});\n",
              "          if (!dataTable) return;\n",
              "\n",
              "          const docLinkHtml = 'Like what you see? Visit the ' +\n",
              "            '<a target=\"_blank\" href=https://colab.research.google.com/notebooks/data_table.ipynb>data table notebook</a>'\n",
              "            + ' to learn more about interactive tables.';\n",
              "          element.innerHTML = '';\n",
              "          dataTable['output_type'] = 'display_data';\n",
              "          await google.colab.output.renderOutput(dataTable, element);\n",
              "          const docLink = document.createElement('div');\n",
              "          docLink.innerHTML = docLinkHtml;\n",
              "          element.appendChild(docLink);\n",
              "        }\n",
              "      </script>\n",
              "    </div>\n",
              "  </div>\n",
              "  "
            ],
            "text/plain": [
              "            Subscribers  Views  Watch time (hours)  Comments added month_name  \\\n",
              "Date                                                                            \n",
              "2022-12-15          176  20396           2730.0469              24   December   \n",
              "2022-12-17          180  16207           1967.5637              20   December   \n",
              "2022-12-19          171  19193           2251.5935              30   December   \n",
              "2022-12-21          185  20380           2781.9778              25   December   \n",
              "2022-12-23          144  15855           1882.2075              22   December   \n",
              "2022-12-25          148  16026           2033.8560              32   December   \n",
              "2022-12-27          201  18245           2228.4891              18   December   \n",
              "2022-12-29          142  17247           2115.5851              21   December   \n",
              "2022-12-31          116  12468           1446.5901              20   December   \n",
              "\n",
              "           weekdday_name  quarter weekday_name  \n",
              "Date                                            \n",
              "2022-12-15      December        4     Thursday  \n",
              "2022-12-17      December        4     Saturday  \n",
              "2022-12-19      December        4       Monday  \n",
              "2022-12-21      December        4    Wednesday  \n",
              "2022-12-23      December        4       Friday  \n",
              "2022-12-25      December        4       Sunday  \n",
              "2022-12-27      December        4      Tuesday  \n",
              "2022-12-29      December        4     Thursday  \n",
              "2022-12-31      December        4     Saturday  "
            ]
          },
          "execution_count": 162,
          "metadata": {},
          "output_type": "execute_result"
        }
      ],
      "source": [
        "yt.loc['2022-12-15':'2023-1-1':2]"
      ]
    },
    {
      "cell_type": "code",
      "execution_count": null,
      "metadata": {
        "colab": {
          "base_uri": "https://localhost:8080/",
          "height": 488
        },
        "id": "Aljj1y6zA9q9",
        "outputId": "196821d2-ccc6-4adb-bcbf-9e4189ac9b8c"
      },
      "outputs": [
        {
          "data": {
            "text/html": [
              "\n",
              "  <div id=\"df-5d67828d-eb33-410f-98f3-31286aa49d9b\">\n",
              "    <div class=\"colab-df-container\">\n",
              "      <div>\n",
              "<style scoped>\n",
              "    .dataframe tbody tr th:only-of-type {\n",
              "        vertical-align: middle;\n",
              "    }\n",
              "\n",
              "    .dataframe tbody tr th {\n",
              "        vertical-align: top;\n",
              "    }\n",
              "\n",
              "    .dataframe thead th {\n",
              "        text-align: right;\n",
              "    }\n",
              "</style>\n",
              "<table border=\"1\" class=\"dataframe\">\n",
              "  <thead>\n",
              "    <tr style=\"text-align: right;\">\n",
              "      <th></th>\n",
              "      <th>Open</th>\n",
              "      <th>High</th>\n",
              "      <th>Low</th>\n",
              "      <th>Close</th>\n",
              "      <th>Adj Close</th>\n",
              "      <th>Volume</th>\n",
              "      <th>month_name</th>\n",
              "      <th>weekday_name</th>\n",
              "      <th>quarter</th>\n",
              "    </tr>\n",
              "    <tr>\n",
              "      <th>Date</th>\n",
              "      <th></th>\n",
              "      <th></th>\n",
              "      <th></th>\n",
              "      <th></th>\n",
              "      <th></th>\n",
              "      <th></th>\n",
              "      <th></th>\n",
              "      <th></th>\n",
              "      <th></th>\n",
              "    </tr>\n",
              "  </thead>\n",
              "  <tbody>\n",
              "    <tr>\n",
              "      <th>2005-01-06</th>\n",
              "      <td>97.175758</td>\n",
              "      <td>97.584229</td>\n",
              "      <td>93.509506</td>\n",
              "      <td>93.922951</td>\n",
              "      <td>93.922951</td>\n",
              "      <td>20852067</td>\n",
              "      <td>January</td>\n",
              "      <td>Thursday</td>\n",
              "      <td>1</td>\n",
              "    </tr>\n",
              "    <tr>\n",
              "      <th>2006-01-06</th>\n",
              "      <td>227.581970</td>\n",
              "      <td>234.371521</td>\n",
              "      <td>225.773743</td>\n",
              "      <td>231.960556</td>\n",
              "      <td>231.960556</td>\n",
              "      <td>35646914</td>\n",
              "      <td>January</td>\n",
              "      <td>Friday</td>\n",
              "      <td>1</td>\n",
              "    </tr>\n",
              "    <tr>\n",
              "      <th>2009-01-06</th>\n",
              "      <td>165.868286</td>\n",
              "      <td>169.763687</td>\n",
              "      <td>162.585587</td>\n",
              "      <td>166.406265</td>\n",
              "      <td>166.406265</td>\n",
              "      <td>12898566</td>\n",
              "      <td>January</td>\n",
              "      <td>Tuesday</td>\n",
              "      <td>1</td>\n",
              "    </tr>\n",
              "    <tr>\n",
              "      <th>2010-01-06</th>\n",
              "      <td>311.761444</td>\n",
              "      <td>311.761444</td>\n",
              "      <td>302.047852</td>\n",
              "      <td>302.994293</td>\n",
              "      <td>302.994293</td>\n",
              "      <td>7987226</td>\n",
              "      <td>January</td>\n",
              "      <td>Wednesday</td>\n",
              "      <td>1</td>\n",
              "    </tr>\n",
              "    <tr>\n",
              "      <th>2011-01-06</th>\n",
              "      <td>304.199799</td>\n",
              "      <td>308.060303</td>\n",
              "      <td>303.885956</td>\n",
              "      <td>305.604523</td>\n",
              "      <td>305.604523</td>\n",
              "      <td>4131026</td>\n",
              "      <td>January</td>\n",
              "      <td>Thursday</td>\n",
              "      <td>1</td>\n",
              "    </tr>\n",
              "    <tr>\n",
              "      <th>2012-01-06</th>\n",
              "      <td>328.344299</td>\n",
              "      <td>328.767700</td>\n",
              "      <td>323.681763</td>\n",
              "      <td>323.796326</td>\n",
              "      <td>323.796326</td>\n",
              "      <td>5405987</td>\n",
              "      <td>January</td>\n",
              "      <td>Friday</td>\n",
              "      <td>1</td>\n",
              "    </tr>\n",
              "    <tr>\n",
              "      <th>2014-01-06</th>\n",
              "      <td>554.426880</td>\n",
              "      <td>557.340942</td>\n",
              "      <td>551.154114</td>\n",
              "      <td>556.573853</td>\n",
              "      <td>556.573853</td>\n",
              "      <td>3551864</td>\n",
              "      <td>January</td>\n",
              "      <td>Monday</td>\n",
              "      <td>1</td>\n",
              "    </tr>\n",
              "    <tr>\n",
              "      <th>2015-01-06</th>\n",
              "      <td>513.589966</td>\n",
              "      <td>514.761719</td>\n",
              "      <td>499.678131</td>\n",
              "      <td>500.585632</td>\n",
              "      <td>500.585632</td>\n",
              "      <td>2899940</td>\n",
              "      <td>January</td>\n",
              "      <td>Tuesday</td>\n",
              "      <td>1</td>\n",
              "    </tr>\n",
              "    <tr>\n",
              "      <th>2016-01-06</th>\n",
              "      <td>730.000000</td>\n",
              "      <td>747.179993</td>\n",
              "      <td>728.919983</td>\n",
              "      <td>743.619995</td>\n",
              "      <td>743.619995</td>\n",
              "      <td>1947000</td>\n",
              "      <td>January</td>\n",
              "      <td>Wednesday</td>\n",
              "      <td>1</td>\n",
              "    </tr>\n",
              "    <tr>\n",
              "      <th>2017-01-06</th>\n",
              "      <td>795.260010</td>\n",
              "      <td>807.900024</td>\n",
              "      <td>792.203979</td>\n",
              "      <td>806.150024</td>\n",
              "      <td>806.150024</td>\n",
              "      <td>1640200</td>\n",
              "      <td>January</td>\n",
              "      <td>Friday</td>\n",
              "      <td>1</td>\n",
              "    </tr>\n",
              "    <tr>\n",
              "      <th>2020-01-06</th>\n",
              "      <td>1350.000000</td>\n",
              "      <td>1396.500000</td>\n",
              "      <td>1350.000000</td>\n",
              "      <td>1394.209961</td>\n",
              "      <td>1394.209961</td>\n",
              "      <td>1732300</td>\n",
              "      <td>January</td>\n",
              "      <td>Monday</td>\n",
              "      <td>1</td>\n",
              "    </tr>\n",
              "    <tr>\n",
              "      <th>2021-01-06</th>\n",
              "      <td>1702.630005</td>\n",
              "      <td>1748.000000</td>\n",
              "      <td>1699.000000</td>\n",
              "      <td>1735.290039</td>\n",
              "      <td>1735.290039</td>\n",
              "      <td>2602100</td>\n",
              "      <td>January</td>\n",
              "      <td>Wednesday</td>\n",
              "      <td>1</td>\n",
              "    </tr>\n",
              "    <tr>\n",
              "      <th>2022-01-06</th>\n",
              "      <td>2749.949951</td>\n",
              "      <td>2793.719971</td>\n",
              "      <td>2735.270020</td>\n",
              "      <td>2751.020020</td>\n",
              "      <td>2751.020020</td>\n",
              "      <td>1452500</td>\n",
              "      <td>January</td>\n",
              "      <td>Thursday</td>\n",
              "      <td>1</td>\n",
              "    </tr>\n",
              "  </tbody>\n",
              "</table>\n",
              "</div>\n",
              "      <button class=\"colab-df-convert\" onclick=\"convertToInteractive('df-5d67828d-eb33-410f-98f3-31286aa49d9b')\"\n",
              "              title=\"Convert this dataframe to an interactive table.\"\n",
              "              style=\"display:none;\">\n",
              "        \n",
              "  <svg xmlns=\"http://www.w3.org/2000/svg\" height=\"24px\"viewBox=\"0 0 24 24\"\n",
              "       width=\"24px\">\n",
              "    <path d=\"M0 0h24v24H0V0z\" fill=\"none\"/>\n",
              "    <path d=\"M18.56 5.44l.94 2.06.94-2.06 2.06-.94-2.06-.94-.94-2.06-.94 2.06-2.06.94zm-11 1L8.5 8.5l.94-2.06 2.06-.94-2.06-.94L8.5 2.5l-.94 2.06-2.06.94zm10 10l.94 2.06.94-2.06 2.06-.94-2.06-.94-.94-2.06-.94 2.06-2.06.94z\"/><path d=\"M17.41 7.96l-1.37-1.37c-.4-.4-.92-.59-1.43-.59-.52 0-1.04.2-1.43.59L10.3 9.45l-7.72 7.72c-.78.78-.78 2.05 0 2.83L4 21.41c.39.39.9.59 1.41.59.51 0 1.02-.2 1.41-.59l7.78-7.78 2.81-2.81c.8-.78.8-2.07 0-2.86zM5.41 20L4 18.59l7.72-7.72 1.47 1.35L5.41 20z\"/>\n",
              "  </svg>\n",
              "      </button>\n",
              "      \n",
              "  <style>\n",
              "    .colab-df-container {\n",
              "      display:flex;\n",
              "      flex-wrap:wrap;\n",
              "      gap: 12px;\n",
              "    }\n",
              "\n",
              "    .colab-df-convert {\n",
              "      background-color: #E8F0FE;\n",
              "      border: none;\n",
              "      border-radius: 50%;\n",
              "      cursor: pointer;\n",
              "      display: none;\n",
              "      fill: #1967D2;\n",
              "      height: 32px;\n",
              "      padding: 0 0 0 0;\n",
              "      width: 32px;\n",
              "    }\n",
              "\n",
              "    .colab-df-convert:hover {\n",
              "      background-color: #E2EBFA;\n",
              "      box-shadow: 0px 1px 2px rgba(60, 64, 67, 0.3), 0px 1px 3px 1px rgba(60, 64, 67, 0.15);\n",
              "      fill: #174EA6;\n",
              "    }\n",
              "\n",
              "    [theme=dark] .colab-df-convert {\n",
              "      background-color: #3B4455;\n",
              "      fill: #D2E3FC;\n",
              "    }\n",
              "\n",
              "    [theme=dark] .colab-df-convert:hover {\n",
              "      background-color: #434B5C;\n",
              "      box-shadow: 0px 1px 3px 1px rgba(0, 0, 0, 0.15);\n",
              "      filter: drop-shadow(0px 1px 2px rgba(0, 0, 0, 0.3));\n",
              "      fill: #FFFFFF;\n",
              "    }\n",
              "  </style>\n",
              "\n",
              "      <script>\n",
              "        const buttonEl =\n",
              "          document.querySelector('#df-5d67828d-eb33-410f-98f3-31286aa49d9b button.colab-df-convert');\n",
              "        buttonEl.style.display =\n",
              "          google.colab.kernel.accessAllowed ? 'block' : 'none';\n",
              "\n",
              "        async function convertToInteractive(key) {\n",
              "          const element = document.querySelector('#df-5d67828d-eb33-410f-98f3-31286aa49d9b');\n",
              "          const dataTable =\n",
              "            await google.colab.kernel.invokeFunction('convertToInteractive',\n",
              "                                                     [key], {});\n",
              "          if (!dataTable) return;\n",
              "\n",
              "          const docLinkHtml = 'Like what you see? Visit the ' +\n",
              "            '<a target=\"_blank\" href=https://colab.research.google.com/notebooks/data_table.ipynb>data table notebook</a>'\n",
              "            + ' to learn more about interactive tables.';\n",
              "          element.innerHTML = '';\n",
              "          dataTable['output_type'] = 'display_data';\n",
              "          await google.colab.output.renderOutput(dataTable, element);\n",
              "          const docLink = document.createElement('div');\n",
              "          docLink.innerHTML = docLinkHtml;\n",
              "          element.appendChild(docLink);\n",
              "        }\n",
              "      </script>\n",
              "    </div>\n",
              "  </div>\n",
              "  "
            ],
            "text/plain": [
              "                   Open         High          Low        Close    Adj Close  \\\n",
              "Date                                                                          \n",
              "2005-01-06    97.175758    97.584229    93.509506    93.922951    93.922951   \n",
              "2006-01-06   227.581970   234.371521   225.773743   231.960556   231.960556   \n",
              "2009-01-06   165.868286   169.763687   162.585587   166.406265   166.406265   \n",
              "2010-01-06   311.761444   311.761444   302.047852   302.994293   302.994293   \n",
              "2011-01-06   304.199799   308.060303   303.885956   305.604523   305.604523   \n",
              "2012-01-06   328.344299   328.767700   323.681763   323.796326   323.796326   \n",
              "2014-01-06   554.426880   557.340942   551.154114   556.573853   556.573853   \n",
              "2015-01-06   513.589966   514.761719   499.678131   500.585632   500.585632   \n",
              "2016-01-06   730.000000   747.179993   728.919983   743.619995   743.619995   \n",
              "2017-01-06   795.260010   807.900024   792.203979   806.150024   806.150024   \n",
              "2020-01-06  1350.000000  1396.500000  1350.000000  1394.209961  1394.209961   \n",
              "2021-01-06  1702.630005  1748.000000  1699.000000  1735.290039  1735.290039   \n",
              "2022-01-06  2749.949951  2793.719971  2735.270020  2751.020020  2751.020020   \n",
              "\n",
              "              Volume month_name weekday_name  quarter  \n",
              "Date                                                   \n",
              "2005-01-06  20852067    January     Thursday        1  \n",
              "2006-01-06  35646914    January       Friday        1  \n",
              "2009-01-06  12898566    January      Tuesday        1  \n",
              "2010-01-06   7987226    January    Wednesday        1  \n",
              "2011-01-06   4131026    January     Thursday        1  \n",
              "2012-01-06   5405987    January       Friday        1  \n",
              "2014-01-06   3551864    January       Monday        1  \n",
              "2015-01-06   2899940    January      Tuesday        1  \n",
              "2016-01-06   1947000    January    Wednesday        1  \n",
              "2017-01-06   1640200    January       Friday        1  \n",
              "2020-01-06   1732300    January       Monday        1  \n",
              "2021-01-06   2602100    January    Wednesday        1  \n",
              "2022-01-06   1452500    January     Thursday        1  "
            ]
          },
          "execution_count": 170,
          "metadata": {},
          "output_type": "execute_result"
        }
      ],
      "source": [
        "# challenge -> fetch info for a particular date every year -> limitation of timedelta\n",
        "google.head()\n",
        "\n",
        "google[google.index.isin(pd.date_range(start='2005-1-6',end='2022-1-6',freq=pd.DateOffset(years=1)))]"
      ]
    },
    {
      "cell_type": "code",
      "execution_count": 10,
      "metadata": {
        "colab": {
          "base_uri": "https://localhost:8080/",
          "height": 286
        },
        "id": "BM564qkcnFFl",
        "outputId": "4786c384-09b8-48d0-9b40-afb7fd3a6d88"
      },
      "outputs": [
        {
          "data": {
            "text/plain": [
              "<Axes: xlabel='Date'>"
            ]
          },
          "execution_count": 10,
          "metadata": {},
          "output_type": "execute_result"
        },
        {
          "data": {
            "image/png": "[encoded data removed]",
            "text/plain": [
              "<Figure size 640x480 with 1 Axes>"
            ]
          },
          "metadata": {},
          "output_type": "display_data"
        }
      ],
      "source": [
        "# viz a single col\n",
        "google.loc['2004':'2017']['Close'].plot()"
      ]
    },
    {
      "cell_type": "code",
      "execution_count": null,
      "metadata": {
        "colab": {
          "base_uri": "https://localhost:8080/",
          "height": 308
        },
        "id": "fyH0R0v3u4O1",
        "outputId": "cfd8633e-df07-428c-dcb0-92d07991aa90"
      },
      "outputs": [
        {
          "data": {
            "text/plain": [
              "<matplotlib.axes._subplots.AxesSubplot at 0x7f2a77a8c100>"
            ]
          },
          "execution_count": 173,
          "metadata": {},
          "output_type": "execute_result"
        },
        {
          "data": {
            "image/png": "[encoded data removed]",
            "text/plain": [
              "<Figure size 432x288 with 1 Axes>"
            ]
          },
          "metadata": {
            "needs_background": "light"
          },
          "output_type": "display_data"
        }
      ],
      "source": [
        "yt['Subscribers'].plot()"
      ]
    },
    {
      "cell_type": "code",
      "execution_count": null,
      "metadata": {
        "colab": {
          "base_uri": "https://localhost:8080/",
          "height": 598
        },
        "id": "bcz5BrP6nHVy",
        "outputId": "e980a48d-318f-4c50-b7df-83cdc8a5ef7f"
      },
      "outputs": [
        {
          "data": {
            "image/png": "[encoded data removed]",
            "text/plain": [
              "<Figure size 1440x720 with 4 Axes>"
            ]
          },
          "metadata": {
            "needs_background": "light"
          },
          "output_type": "display_data"
        }
      ],
      "source": [
        "# viz all cols together\n",
        "subset_yt = yt[['Subscribers', 'Views', 'Watch time (hours)', 'Comments added']]\n",
        "ax = subset_yt.plot(subplots=True,\n",
        "                    layout=(2, 2),\n",
        "                     sharex=False,\n",
        "                     sharey=False,\n",
        "                     linewidth=0.7,\n",
        "                     fontsize=10,\n",
        "                     legend=False,\n",
        "                      figsize=(20,10),\n",
        "                      title=['Subscribers', 'Views', 'Watch time (hours)', 'Comments'])"
      ]
    },
    {
      "cell_type": "code",
      "execution_count": null,
      "metadata": {
        "colab": {
          "base_uri": "https://localhost:8080/",
          "height": 331
        },
        "id": "z24ABt9ynmru",
        "outputId": "a758f6f4-154a-41fb-e6c8-8f2e2d4aec1e"
      },
      "outputs": [
        {
          "data": {
            "text/plain": [
              "<matplotlib.axes._subplots.AxesSubplot at 0x7f2a77d25eb0>"
            ]
          },
          "execution_count": 182,
          "metadata": {},
          "output_type": "execute_result"
        },
        {
          "data": {
            "image/png": "[encoded data removed]",
            "text/plain": [
              "<Figure size 432x288 with 1 Axes>"
            ]
          },
          "metadata": {
            "needs_background": "light"
          },
          "output_type": "display_data"
        }
      ],
      "source": [
        "# plot for a particular year/month/week\n",
        "yt.loc['2022-12']['Subscribers'].plot()"
      ]
    },
    {
      "cell_type": "code",
      "execution_count": 12,
      "metadata": {
        "colab": {
          "base_uri": "https://localhost:8080/",
          "height": 305
        },
        "id": "KB_gtdnGwktB",
        "outputId": "0d82455f-53e8-4fd2-b424-9bd2ab807fb7"
      },
      "outputs": [
        {
          "data": {
            "text/plain": [
              "<Axes: xlabel='Date'>"
            ]
          },
          "execution_count": 12,
          "metadata": {},
          "output_type": "execute_result"
        },
        {
          "data": {
            "image/png": "[encoded data removed]",
            "text/plain": [
              "<Figure size 640x480 with 1 Axes>"
            ]
          },
          "metadata": {},
          "output_type": "display_data"
        }
      ],
      "source": [
        "google.loc['2021-12']['Volume'].plot()"
      ]
    },
    {
      "cell_type": "code",
      "execution_count": null,
      "metadata": {
        "colab": {
          "base_uri": "https://localhost:8080/",
          "height": 342
        },
        "id": "Z1xRTCxglDH8",
        "outputId": "aa859de7-f00c-4d62-a1e1-c25295599a03"
      },
      "outputs": [
        {
          "data": {
            "text/plain": [
              "<matplotlib.axes._subplots.AxesSubplot at 0x7f2a75581730>"
            ]
          },
          "execution_count": 209,
          "metadata": {},
          "output_type": "execute_result"
        },
        {
          "data": {
            "image/png": "[encoded data removed]",
            "text/plain": [
              "<Figure size 432x288 with 1 Axes>"
            ]
          },
          "metadata": {
            "needs_background": "light"
          },
          "output_type": "display_data"
        }
      ],
      "source": [
        "# monthly trend\n",
        "yt.groupby('month_name')['Subscribers'].mean().plot(kind='bar')"
      ]
    },
    {
      "cell_type": "code",
      "execution_count": null,
      "metadata": {
        "colab": {
          "base_uri": "https://localhost:8080/",
          "height": 345
        },
        "id": "lSkvfKknlOn4",
        "outputId": "9e20e07f-8422-4c06-b14b-90028c05f92c"
      },
      "outputs": [
        {
          "data": {
            "text/plain": [
              "<matplotlib.axes._subplots.AxesSubplot at 0x7f2a75504fa0>"
            ]
          },
          "execution_count": 210,
          "metadata": {},
          "output_type": "execute_result"
        },
        {
          "data": {
            "image/png": "[encoded data removed]",
            "text/plain": [
              "<Figure size 432x288 with 1 Axes>"
            ]
          },
          "metadata": {
            "needs_background": "light"
          },
          "output_type": "display_data"
        }
      ],
      "source": [
        "# yearly trend\n",
        "yt.groupby('weekday_name')['Subscribers'].mean().plot(kind='bar')"
      ]
    },
    {
      "cell_type": "code",
      "execution_count": null,
      "metadata": {
        "colab": {
          "base_uri": "https://localhost:8080/",
          "height": 342
        },
        "id": "3SCAznMtz4Rw",
        "outputId": "674f81fc-6f17-4a82-903f-59814d7feafc"
      },
      "outputs": [
        {
          "data": {
            "text/plain": [
              "<matplotlib.axes._subplots.AxesSubplot at 0x7f2a75441a90>"
            ]
          },
          "execution_count": 212,
          "metadata": {},
          "output_type": "execute_result"
        },
        {
          "data": {
            "image/png": "[encoded data removed]",
            "text/plain": [
              "<Figure size 432x288 with 1 Axes>"
            ]
          },
          "metadata": {
            "needs_background": "light"
          },
          "output_type": "display_data"
        }
      ],
      "source": [
        "google.groupby('month_name')['Close'].mean().plot(kind='bar')"
      ]
    },
    {
      "cell_type": "code",
      "execution_count": null,
      "metadata": {
        "colab": {
          "base_uri": "https://localhost:8080/",
          "height": 302
        },
        "id": "jPi0iNKalQPM",
        "outputId": "6d6a7944-8eed-48cf-8b0c-ca601e6020a9"
      },
      "outputs": [
        {
          "data": {
            "text/plain": [
              "<matplotlib.axes._subplots.AxesSubplot at 0x7f2a7552d6a0>"
            ]
          },
          "execution_count": 213,
          "metadata": {},
          "output_type": "execute_result"
        },
        {
          "data": {
            "image/png": "[encoded data removed]",
            "text/plain": [
              "<Figure size 432x288 with 1 Axes>"
            ]
          },
          "metadata": {
            "needs_background": "light"
          },
          "output_type": "display_data"
        }
      ],
      "source": [
        "# quaterly trend\n",
        "google.groupby('quarter')['Close'].mean().plot(kind='bar')"
      ]
    },
    {
      "cell_type": "code",
      "execution_count": null,
      "metadata": {
        "colab": {
          "base_uri": "https://localhost:8080/"
        },
        "id": "W6yNKb5slRjQ",
        "outputId": "0da7c4f6-9412-4ba2-a0b7-80fbbcc9307f"
      },
      "outputs": [
        {
          "data": {
            "text/plain": [
              "DatetimeIndex(['2004-08-19', '2004-08-20', '2004-08-23', '2004-08-24',\n",
              "               '2004-08-25', '2004-08-26', '2004-08-27', '2004-08-30',\n",
              "               '2004-08-31', '2004-09-01',\n",
              "               ...\n",
              "               '2022-05-09', '2022-05-10', '2022-05-11', '2022-05-12',\n",
              "               '2022-05-13', '2022-05-16', '2022-05-17', '2022-05-18',\n",
              "               '2022-05-19', '2022-05-20'],\n",
              "              dtype='datetime64[ns]', name='Date', length=4632, freq='B')"
            ]
          },
          "execution_count": 189,
          "metadata": {},
          "output_type": "execute_result"
        }
      ],
      "source": [
        "# frequency\n",
        "google.index"
      ]
    },
    {
      "cell_type": "code",
      "execution_count": null,
      "metadata": {
        "colab": {
          "base_uri": "https://localhost:8080/",
          "height": 455
        },
        "id": "bttGTaQrp0dx",
        "outputId": "96ddd1de-0024-4ea6-a759-a52a16d738ec"
      },
      "outputs": [
        {
          "data": {
            "text/html": [
              "\n",
              "  <div id=\"df-22ba8693-d46a-489d-8ec2-c3cf5eafa2af\">\n",
              "    <div class=\"colab-df-container\">\n",
              "      <div>\n",
              "<style scoped>\n",
              "    .dataframe tbody tr th:only-of-type {\n",
              "        vertical-align: middle;\n",
              "    }\n",
              "\n",
              "    .dataframe tbody tr th {\n",
              "        vertical-align: top;\n",
              "    }\n",
              "\n",
              "    .dataframe thead th {\n",
              "        text-align: right;\n",
              "    }\n",
              "</style>\n",
              "<table border=\"1\" class=\"dataframe\">\n",
              "  <thead>\n",
              "    <tr style=\"text-align: right;\">\n",
              "      <th></th>\n",
              "      <th>Open</th>\n",
              "      <th>High</th>\n",
              "      <th>Low</th>\n",
              "      <th>Close</th>\n",
              "      <th>Adj Close</th>\n",
              "      <th>Volume</th>\n",
              "      <th>month_name</th>\n",
              "      <th>weekday_name</th>\n",
              "      <th>quarter</th>\n",
              "    </tr>\n",
              "    <tr>\n",
              "      <th>Date</th>\n",
              "      <th></th>\n",
              "      <th></th>\n",
              "      <th></th>\n",
              "      <th></th>\n",
              "      <th></th>\n",
              "      <th></th>\n",
              "      <th></th>\n",
              "      <th></th>\n",
              "      <th></th>\n",
              "    </tr>\n",
              "  </thead>\n",
              "  <tbody>\n",
              "    <tr>\n",
              "      <th>2004-08-19 00:00:00</th>\n",
              "      <td>49.813290</td>\n",
              "      <td>51.835709</td>\n",
              "      <td>47.800831</td>\n",
              "      <td>49.982655</td>\n",
              "      <td>49.982655</td>\n",
              "      <td>44871361.0</td>\n",
              "      <td>August</td>\n",
              "      <td>Thursday</td>\n",
              "      <td>3.0</td>\n",
              "    </tr>\n",
              "    <tr>\n",
              "      <th>2004-08-19 06:00:00</th>\n",
              "      <td>50.316402</td>\n",
              "      <td>54.336334</td>\n",
              "      <td>50.062355</td>\n",
              "      <td>53.952770</td>\n",
              "      <td>53.952770</td>\n",
              "      <td>22942874.0</td>\n",
              "      <td>August</td>\n",
              "      <td>Friday</td>\n",
              "      <td>3.0</td>\n",
              "    </tr>\n",
              "    <tr>\n",
              "      <th>2004-08-19 12:00:00</th>\n",
              "      <td>50.316402</td>\n",
              "      <td>54.336334</td>\n",
              "      <td>50.062355</td>\n",
              "      <td>53.952770</td>\n",
              "      <td>53.952770</td>\n",
              "      <td>22942874.0</td>\n",
              "      <td>August</td>\n",
              "      <td>Friday</td>\n",
              "      <td>3.0</td>\n",
              "    </tr>\n",
              "    <tr>\n",
              "      <th>2004-08-19 18:00:00</th>\n",
              "      <td>50.316402</td>\n",
              "      <td>54.336334</td>\n",
              "      <td>50.062355</td>\n",
              "      <td>53.952770</td>\n",
              "      <td>53.952770</td>\n",
              "      <td>22942874.0</td>\n",
              "      <td>August</td>\n",
              "      <td>Friday</td>\n",
              "      <td>3.0</td>\n",
              "    </tr>\n",
              "    <tr>\n",
              "      <th>2004-08-20 00:00:00</th>\n",
              "      <td>50.316402</td>\n",
              "      <td>54.336334</td>\n",
              "      <td>50.062355</td>\n",
              "      <td>53.952770</td>\n",
              "      <td>53.952770</td>\n",
              "      <td>22942874.0</td>\n",
              "      <td>August</td>\n",
              "      <td>Friday</td>\n",
              "      <td>3.0</td>\n",
              "    </tr>\n",
              "    <tr>\n",
              "      <th>...</th>\n",
              "      <td>...</td>\n",
              "      <td>...</td>\n",
              "      <td>...</td>\n",
              "      <td>...</td>\n",
              "      <td>...</td>\n",
              "      <td>...</td>\n",
              "      <td>...</td>\n",
              "      <td>...</td>\n",
              "      <td>...</td>\n",
              "    </tr>\n",
              "    <tr>\n",
              "      <th>2022-05-19 00:00:00</th>\n",
              "      <td>2236.820068</td>\n",
              "      <td>2271.750000</td>\n",
              "      <td>2209.360107</td>\n",
              "      <td>2214.909912</td>\n",
              "      <td>2214.909912</td>\n",
              "      <td>1459600.0</td>\n",
              "      <td>May</td>\n",
              "      <td>Thursday</td>\n",
              "      <td>2.0</td>\n",
              "    </tr>\n",
              "    <tr>\n",
              "      <th>2022-05-19 06:00:00</th>\n",
              "      <td>2241.709961</td>\n",
              "      <td>2251.000000</td>\n",
              "      <td>2127.459961</td>\n",
              "      <td>2186.260010</td>\n",
              "      <td>2186.260010</td>\n",
              "      <td>1878100.0</td>\n",
              "      <td>May</td>\n",
              "      <td>Friday</td>\n",
              "      <td>2.0</td>\n",
              "    </tr>\n",
              "    <tr>\n",
              "      <th>2022-05-19 12:00:00</th>\n",
              "      <td>2241.709961</td>\n",
              "      <td>2251.000000</td>\n",
              "      <td>2127.459961</td>\n",
              "      <td>2186.260010</td>\n",
              "      <td>2186.260010</td>\n",
              "      <td>1878100.0</td>\n",
              "      <td>May</td>\n",
              "      <td>Friday</td>\n",
              "      <td>2.0</td>\n",
              "    </tr>\n",
              "    <tr>\n",
              "      <th>2022-05-19 18:00:00</th>\n",
              "      <td>2241.709961</td>\n",
              "      <td>2251.000000</td>\n",
              "      <td>2127.459961</td>\n",
              "      <td>2186.260010</td>\n",
              "      <td>2186.260010</td>\n",
              "      <td>1878100.0</td>\n",
              "      <td>May</td>\n",
              "      <td>Friday</td>\n",
              "      <td>2.0</td>\n",
              "    </tr>\n",
              "    <tr>\n",
              "      <th>2022-05-20 00:00:00</th>\n",
              "      <td>2241.709961</td>\n",
              "      <td>2251.000000</td>\n",
              "      <td>2127.459961</td>\n",
              "      <td>2186.260010</td>\n",
              "      <td>2186.260010</td>\n",
              "      <td>1878100.0</td>\n",
              "      <td>May</td>\n",
              "      <td>Friday</td>\n",
              "      <td>2.0</td>\n",
              "    </tr>\n",
              "  </tbody>\n",
              "</table>\n",
              "<p>25933 rows × 9 columns</p>\n",
              "</div>\n",
              "      <button class=\"colab-df-convert\" onclick=\"convertToInteractive('df-22ba8693-d46a-489d-8ec2-c3cf5eafa2af')\"\n",
              "              title=\"Convert this dataframe to an interactive table.\"\n",
              "              style=\"display:none;\">\n",
              "        \n",
              "  <svg xmlns=\"http://www.w3.org/2000/svg\" height=\"24px\"viewBox=\"0 0 24 24\"\n",
              "       width=\"24px\">\n",
              "    <path d=\"M0 0h24v24H0V0z\" fill=\"none\"/>\n",
              "    <path d=\"M18.56 5.44l.94 2.06.94-2.06 2.06-.94-2.06-.94-.94-2.06-.94 2.06-2.06.94zm-11 1L8.5 8.5l.94-2.06 2.06-.94-2.06-.94L8.5 2.5l-.94 2.06-2.06.94zm10 10l.94 2.06.94-2.06 2.06-.94-2.06-.94-.94-2.06-.94 2.06-2.06.94z\"/><path d=\"M17.41 7.96l-1.37-1.37c-.4-.4-.92-.59-1.43-.59-.52 0-1.04.2-1.43.59L10.3 9.45l-7.72 7.72c-.78.78-.78 2.05 0 2.83L4 21.41c.39.39.9.59 1.41.59.51 0 1.02-.2 1.41-.59l7.78-7.78 2.81-2.81c.8-.78.8-2.07 0-2.86zM5.41 20L4 18.59l7.72-7.72 1.47 1.35L5.41 20z\"/>\n",
              "  </svg>\n",
              "      </button>\n",
              "      \n",
              "  <style>\n",
              "    .colab-df-container {\n",
              "      display:flex;\n",
              "      flex-wrap:wrap;\n",
              "      gap: 12px;\n",
              "    }\n",
              "\n",
              "    .colab-df-convert {\n",
              "      background-color: #E8F0FE;\n",
              "      border: none;\n",
              "      border-radius: 50%;\n",
              "      cursor: pointer;\n",
              "      display: none;\n",
              "      fill: #1967D2;\n",
              "      height: 32px;\n",
              "      padding: 0 0 0 0;\n",
              "      width: 32px;\n",
              "    }\n",
              "\n",
              "    .colab-df-convert:hover {\n",
              "      background-color: #E2EBFA;\n",
              "      box-shadow: 0px 1px 2px rgba(60, 64, 67, 0.3), 0px 1px 3px 1px rgba(60, 64, 67, 0.15);\n",
              "      fill: #174EA6;\n",
              "    }\n",
              "\n",
              "    [theme=dark] .colab-df-convert {\n",
              "      background-color: #3B4455;\n",
              "      fill: #D2E3FC;\n",
              "    }\n",
              "\n",
              "    [theme=dark] .colab-df-convert:hover {\n",
              "      background-color: #434B5C;\n",
              "      box-shadow: 0px 1px 3px 1px rgba(0, 0, 0, 0.15);\n",
              "      filter: drop-shadow(0px 1px 2px rgba(0, 0, 0, 0.3));\n",
              "      fill: #FFFFFF;\n",
              "    }\n",
              "  </style>\n",
              "\n",
              "      <script>\n",
              "        const buttonEl =\n",
              "          document.querySelector('#df-22ba8693-d46a-489d-8ec2-c3cf5eafa2af button.colab-df-convert');\n",
              "        buttonEl.style.display =\n",
              "          google.colab.kernel.accessAllowed ? 'block' : 'none';\n",
              "\n",
              "        async function convertToInteractive(key) {\n",
              "          const element = document.querySelector('#df-22ba8693-d46a-489d-8ec2-c3cf5eafa2af');\n",
              "          const dataTable =\n",
              "            await google.colab.kernel.invokeFunction('convertToInteractive',\n",
              "                                                     [key], {});\n",
              "          if (!dataTable) return;\n",
              "\n",
              "          const docLinkHtml = 'Like what you see? Visit the ' +\n",
              "            '<a target=\"_blank\" href=https://colab.research.google.com/notebooks/data_table.ipynb>data table notebook</a>'\n",
              "            + ' to learn more about interactive tables.';\n",
              "          element.innerHTML = '';\n",
              "          dataTable['output_type'] = 'display_data';\n",
              "          await google.colab.output.renderOutput(dataTable, element);\n",
              "          const docLink = document.createElement('div');\n",
              "          docLink.innerHTML = docLinkHtml;\n",
              "          element.appendChild(docLink);\n",
              "        }\n",
              "      </script>\n",
              "    </div>\n",
              "  </div>\n",
              "  "
            ],
            "text/plain": [
              "                            Open         High          Low        Close  \\\n",
              "Date                                                                      \n",
              "2004-08-19 00:00:00    49.813290    51.835709    47.800831    49.982655   \n",
              "2004-08-19 06:00:00    50.316402    54.336334    50.062355    53.952770   \n",
              "2004-08-19 12:00:00    50.316402    54.336334    50.062355    53.952770   \n",
              "2004-08-19 18:00:00    50.316402    54.336334    50.062355    53.952770   \n",
              "2004-08-20 00:00:00    50.316402    54.336334    50.062355    53.952770   \n",
              "...                          ...          ...          ...          ...   \n",
              "2022-05-19 00:00:00  2236.820068  2271.750000  2209.360107  2214.909912   \n",
              "2022-05-19 06:00:00  2241.709961  2251.000000  2127.459961  2186.260010   \n",
              "2022-05-19 12:00:00  2241.709961  2251.000000  2127.459961  2186.260010   \n",
              "2022-05-19 18:00:00  2241.709961  2251.000000  2127.459961  2186.260010   \n",
              "2022-05-20 00:00:00  2241.709961  2251.000000  2127.459961  2186.260010   \n",
              "\n",
              "                       Adj Close      Volume month_name weekday_name  quarter  \n",
              "Date                                                                           \n",
              "2004-08-19 00:00:00    49.982655  44871361.0     August     Thursday      3.0  \n",
              "2004-08-19 06:00:00    53.952770  22942874.0     August       Friday      3.0  \n",
              "2004-08-19 12:00:00    53.952770  22942874.0     August       Friday      3.0  \n",
              "2004-08-19 18:00:00    53.952770  22942874.0     August       Friday      3.0  \n",
              "2004-08-20 00:00:00    53.952770  22942874.0     August       Friday      3.0  \n",
              "...                          ...         ...        ...          ...      ...  \n",
              "2022-05-19 00:00:00  2214.909912   1459600.0        May     Thursday      2.0  \n",
              "2022-05-19 06:00:00  2186.260010   1878100.0        May       Friday      2.0  \n",
              "2022-05-19 12:00:00  2186.260010   1878100.0        May       Friday      2.0  \n",
              "2022-05-19 18:00:00  2186.260010   1878100.0        May       Friday      2.0  \n",
              "2022-05-20 00:00:00  2186.260010   1878100.0        May       Friday      2.0  \n",
              "\n",
              "[25933 rows x 9 columns]"
            ]
          },
          "execution_count": 196,
          "metadata": {},
          "output_type": "execute_result"
        }
      ],
      "source": [
        "# asfreq\n",
        "google.asfreq('6H',method='bfill')"
      ]
    },
    {
      "cell_type": "markdown",
      "metadata": {
        "id": "9Acd1cA4EaDK"
      },
      "source": [
        "### Resampling\n",
        "\n",
        "Resampling involves changing the frequency of your time series observations.\n",
        "\n",
        "Two types of resampling are:\n",
        "\n",
        "**`Upsampling`**: Where you increase the frequency of the samples, such as from minutes to seconds. It simply means to increase the number of rows by changing the frequency of data from monthly frequency to daily frequency.  \n",
        "**`Downsampling`**: Where you decrease the frequency of the samples, such as from days to months. In downsampling we reduce the number of rows to by changing the frequency from daily or hourly to weekly or monthly or yearly etc.  \n",
        "> Genereally, downsampling is performed"
      ]
    },
    {
      "cell_type": "code",
      "execution_count": null,
      "metadata": {
        "colab": {
          "base_uri": "https://localhost:8080/",
          "height": 296
        },
        "id": "N_4tpw5-vTS3",
        "outputId": "f6aa9762-a47b-4ab5-acdd-ef54ddfffd6b"
      },
      "outputs": [
        {
          "data": {
            "text/plain": [
              "<matplotlib.axes._subplots.AxesSubplot at 0x7f2a74e2f280>"
            ]
          },
          "execution_count": 222,
          "metadata": {},
          "output_type": "execute_result"
        },
        {
          "data": {
            "image/png": "[encoded data removed]",
            "text/plain": [
              "<Figure size 432x288 with 1 Axes>"
            ]
          },
          "metadata": {
            "needs_background": "light"
          },
          "output_type": "display_data"
        }
      ],
      "source": [
        "# Downsampling\n",
        "yt['Subscribers'].plot()\n",
        "yt['Subscribers'].resample('Y').mean().plot()"
      ]
    },
    {
      "cell_type": "code",
      "execution_count": 15,
      "metadata": {
        "colab": {
          "base_uri": "https://localhost:8080/",
          "height": 296
        },
        "id": "_HRJUuyRFkY0",
        "outputId": "eed32fc0-9ac3-4cbc-a167-a940708203b9"
      },
      "outputs": [
        {
          "data": {
            "text/plain": [
              "<Axes: xlabel='Date'>"
            ]
          },
          "execution_count": 15,
          "metadata": {},
          "output_type": "execute_result"
        },
        {
          "data": {
            "image/png": "[encoded data removed]",
            "text/plain": [
              "<Figure size 640x480 with 1 Axes>"
            ]
          },
          "metadata": {},
          "output_type": "display_data"
        }
      ],
      "source": [
        "# Upsampling \n",
        "# the frequency of google data is currently 'D' i.e. day and it is upsampled to 12 hour frquency meaning the numbers of rows would be double,therefore we have to fill the values of new rows created using some methods like interpolate\n",
        "google['Close'].resample('12h').interpolate(method='spline',order=2).plot()\n",
        "google['Close'].interpolate(method='spline',order=2).plot()"
      ]
    },
    {
      "cell_type": "code",
      "execution_count": 49,
      "metadata": {},
      "outputs": [
        {
          "name": "stderr",
          "output_type": "stream",
          "text": [
            "C:\\Users\\Acer\\AppData\\Local\\Temp\\ipykernel_5192\\3326098867.py:3: FutureWarning: 'M' is deprecated and will be removed in a future version, please use 'ME' instead.\n",
            "  google.select_dtypes(['number'])['Close'].resample('M').mean().plot(label='Monthly change (weekends exclusive)')\n",
            "C:\\Users\\Acer\\AppData\\Local\\Temp\\ipykernel_5192\\3326098867.py:4: FutureWarning: 'Q' is deprecated and will be removed in a future version, please use 'QE' instead.\n",
            "  google.select_dtypes(['number'])['Close'].resample('Q').mean().plot(label='Quarterly change (weekends exclusive)')\n",
            "C:\\Users\\Acer\\AppData\\Local\\Temp\\ipykernel_5192\\3326098867.py:5: FutureWarning: 'Y' is deprecated and will be removed in a future version, please use 'YE' instead.\n",
            "  google.select_dtypes(['number'])['Close'].resample('Y').mean().plot(label='Yearly change (weekends exclusive)')\n",
            "C:\\Users\\Acer\\AppData\\Local\\Temp\\ipykernel_5192\\3326098867.py:6: FutureWarning: 'Y' is deprecated and will be removed in a future version, please use 'YE' instead.\n",
            "  google.select_dtypes(['number'])['Close'].resample('2Y').mean().plot(label='bi-yearly change (weekends exclusive)')\n"
          ]
        },
        {
          "data": {
            "image/png": "[encoded data removed]",
            "text/plain": [
              "<Figure size 640x480 with 1 Axes>"
            ]
          },
          "metadata": {},
          "output_type": "display_data"
        }
      ],
      "source": [
        "# downsampling\n",
        "google['Close'].plot(label='Daily change (weekends exclusive)')\n",
        "google.select_dtypes(['number'])['Close'].resample('M').mean().plot(label='Monthly change (weekends exclusive)')\n",
        "google.select_dtypes(['number'])['Close'].resample('Q').mean().plot(label='Quarterly change (weekends exclusive)')\n",
        "google.select_dtypes(['number'])['Close'].resample('Y').mean().plot(label='Yearly change (weekends exclusive)')\n",
        "google.select_dtypes(['number'])['Close'].resample('2Y').mean().plot(label='bi-yearly change (weekends exclusive)')\n",
        "\n",
        "plt.legend()\n",
        "plt.show()"
      ]
    },
    {
      "cell_type": "markdown",
      "metadata": {
        "id": "-p8a5e-K8QL8"
      },
      "source": [
        "### Rolling Window(Smoothing)\n",
        "Time series data in original format can be quite volatile, especially on smaller aggregation levels. The concept of rolling, or moving averages is a useful technique for smoothing time series data."
      ]
    },
    {
      "cell_type": "code",
      "execution_count": 52,
      "metadata": {
        "colab": {
          "base_uri": "https://localhost:8080/",
          "height": 324
        },
        "id": "-tcm0O_0vZZ0",
        "outputId": "d7a644fc-d215-4690-b689-809138049964"
      },
      "outputs": [
        {
          "ename": "NameError",
          "evalue": "name 'yt' is not defined",
          "output_type": "error",
          "traceback": [
            "\u001b[1;31m---------------------------------------------------------------------------\u001b[0m",
            "\u001b[1;31mNameError\u001b[0m                                 Traceback (most recent call last)",
            "Cell \u001b[1;32mIn[52], line 3\u001b[0m\n\u001b[0;32m      1\u001b[0m \u001b[38;5;66;03m# Rolling window\u001b[39;00m\n\u001b[0;32m      2\u001b[0m \u001b[38;5;66;03m# It is of two types \u001b[39;00m\n\u001b[1;32m----> 3\u001b[0m \u001b[43myt\u001b[49m[\u001b[38;5;124m'\u001b[39m\u001b[38;5;124mSubscribers\u001b[39m\u001b[38;5;124m'\u001b[39m]\u001b[38;5;241m.\u001b[39mrolling(\u001b[38;5;241m30\u001b[39m)\u001b[38;5;241m.\u001b[39mmean()\u001b[38;5;241m.\u001b[39mplot(title\u001b[38;5;241m=\u001b[39m\u001b[38;5;124m'\u001b[39m\u001b[38;5;124mrolling\u001b[39m\u001b[38;5;124m'\u001b[39m)\n\u001b[0;32m      4\u001b[0m yt[\u001b[38;5;124m'\u001b[39m\u001b[38;5;124mSubscribers\u001b[39m\u001b[38;5;124m'\u001b[39m]\u001b[38;5;241m.\u001b[39mewm(\u001b[38;5;241m30\u001b[39m)\u001b[38;5;241m.\u001b[39mmean()\u001b[38;5;241m.\u001b[39mplot(title\u001b[38;5;241m=\u001b[39m\u001b[38;5;124m'\u001b[39m\u001b[38;5;124mewm\u001b[39m\u001b[38;5;124m'\u001b[39m)\n",
            "\u001b[1;31mNameError\u001b[0m: name 'yt' is not defined"
          ]
        }
      ],
      "source": [
        "# Rolling window\n",
        "# It is of two types \n",
        "#    1. Normal rolling window average\n",
        "#    2. Exponential moving average\n",
        "yt['Subscribers'].rolling(30).mean().plot(title='rolling')\n",
        "yt['Subscribers'].ewm(30).mean().plot(title='ewm')"
      ]
    },
    {
      "cell_type": "markdown",
      "metadata": {
        "id": "6qrHe3WF8g7c"
      },
      "source": [
        "### Shifting\n",
        "\n",
        "The shift() function is Pandas is used to, well, shift the entire series up or down by the desired number of periods."
      ]
    },
    {
      "cell_type": "code",
      "execution_count": null,
      "metadata": {
        "colab": {
          "base_uri": "https://localhost:8080/"
        },
        "id": "I50Fu6a18fsR",
        "outputId": "c759d1cc-ba75-4c4f-d339-409debbce91d"
      },
      "outputs": [
        {
          "data": {
            "text/plain": [
              "Date\n",
              "2019-04-17      0\n",
              "2019-04-18      0\n",
              "2019-04-19      0\n",
              "2019-04-20      0\n",
              "2019-04-21      0\n",
              "             ... \n",
              "2022-12-31    116\n",
              "2023-01-01    142\n",
              "2023-01-02    171\n",
              "2023-01-03    162\n",
              "2023-01-04    147\n",
              "Name: Subscribers, Length: 1359, dtype: int64"
            ]
          },
          "execution_count": 247,
          "metadata": {},
          "output_type": "execute_result"
        }
      ],
      "source": [
        "# shift\n",
        "yt['Subscribers']"
      ]
    },
    {
      "cell_type": "code",
      "execution_count": null,
      "metadata": {
        "colab": {
          "base_uri": "https://localhost:8080/"
        },
        "id": "MMr8Ht4U7HEh",
        "outputId": "153c1de3-0f1a-4383-9aa0-b069047f2411"
      },
      "outputs": [
        {
          "data": {
            "text/plain": [
              "Date\n",
              "2019-04-17      0.0\n",
              "2019-04-18      0.0\n",
              "2019-04-19      0.0\n",
              "2019-04-20      0.0\n",
              "2019-04-21      0.0\n",
              "              ...  \n",
              "2022-12-31    142.0\n",
              "2023-01-01    171.0\n",
              "2023-01-02    162.0\n",
              "2023-01-03    147.0\n",
              "2023-01-04      NaN\n",
              "Name: Subscribers, Length: 1359, dtype: float64"
            ]
          },
          "execution_count": 250,
          "metadata": {},
          "output_type": "execute_result"
        }
      ],
      "source": [
        "yt['Subscribers'].shift(-1)"
      ]
    },
    {
      "cell_type": "code",
      "execution_count": null,
      "metadata": {
        "colab": {
          "base_uri": "https://localhost:8080/",
          "height": 206
        },
        "id": "G4CjB_Sdvb1v",
        "outputId": "992f0819-f2cf-4981-ab5d-fdff9530d029"
      },
      "outputs": [
        {
          "data": {
            "text/html": [
              "\n",
              "  <div id=\"df-de85cc76-ec52-40d0-b79b-9b5997130ee8\">\n",
              "    <div class=\"colab-df-container\">\n",
              "      <div>\n",
              "<style scoped>\n",
              "    .dataframe tbody tr th:only-of-type {\n",
              "        vertical-align: middle;\n",
              "    }\n",
              "\n",
              "    .dataframe tbody tr th {\n",
              "        vertical-align: top;\n",
              "    }\n",
              "\n",
              "    .dataframe thead th {\n",
              "        text-align: right;\n",
              "    }\n",
              "</style>\n",
              "<table border=\"1\" class=\"dataframe\">\n",
              "  <thead>\n",
              "    <tr style=\"text-align: right;\">\n",
              "      <th></th>\n",
              "      <th>user_id</th>\n",
              "      <th>login_time</th>\n",
              "    </tr>\n",
              "  </thead>\n",
              "  <tbody>\n",
              "    <tr>\n",
              "      <th>0</th>\n",
              "      <td>466</td>\n",
              "      <td>2017-01-07 18:24:07</td>\n",
              "    </tr>\n",
              "    <tr>\n",
              "      <th>1</th>\n",
              "      <td>466</td>\n",
              "      <td>2017-01-07 18:24:55</td>\n",
              "    </tr>\n",
              "    <tr>\n",
              "      <th>2</th>\n",
              "      <td>458</td>\n",
              "      <td>2017-01-07 18:25:18</td>\n",
              "    </tr>\n",
              "    <tr>\n",
              "      <th>3</th>\n",
              "      <td>458</td>\n",
              "      <td>2017-01-07 18:26:21</td>\n",
              "    </tr>\n",
              "    <tr>\n",
              "      <th>4</th>\n",
              "      <td>592</td>\n",
              "      <td>2017-01-07 19:09:59</td>\n",
              "    </tr>\n",
              "  </tbody>\n",
              "</table>\n",
              "</div>\n",
              "      <button class=\"colab-df-convert\" onclick=\"convertToInteractive('df-de85cc76-ec52-40d0-b79b-9b5997130ee8')\"\n",
              "              title=\"Convert this dataframe to an interactive table.\"\n",
              "              style=\"display:none;\">\n",
              "        \n",
              "  <svg xmlns=\"http://www.w3.org/2000/svg\" height=\"24px\"viewBox=\"0 0 24 24\"\n",
              "       width=\"24px\">\n",
              "    <path d=\"M0 0h24v24H0V0z\" fill=\"none\"/>\n",
              "    <path d=\"M18.56 5.44l.94 2.06.94-2.06 2.06-.94-2.06-.94-.94-2.06-.94 2.06-2.06.94zm-11 1L8.5 8.5l.94-2.06 2.06-.94-2.06-.94L8.5 2.5l-.94 2.06-2.06.94zm10 10l.94 2.06.94-2.06 2.06-.94-2.06-.94-.94-2.06-.94 2.06-2.06.94z\"/><path d=\"M17.41 7.96l-1.37-1.37c-.4-.4-.92-.59-1.43-.59-.52 0-1.04.2-1.43.59L10.3 9.45l-7.72 7.72c-.78.78-.78 2.05 0 2.83L4 21.41c.39.39.9.59 1.41.59.51 0 1.02-.2 1.41-.59l7.78-7.78 2.81-2.81c.8-.78.8-2.07 0-2.86zM5.41 20L4 18.59l7.72-7.72 1.47 1.35L5.41 20z\"/>\n",
              "  </svg>\n",
              "      </button>\n",
              "      \n",
              "  <style>\n",
              "    .colab-df-container {\n",
              "      display:flex;\n",
              "      flex-wrap:wrap;\n",
              "      gap: 12px;\n",
              "    }\n",
              "\n",
              "    .colab-df-convert {\n",
              "      background-color: #E8F0FE;\n",
              "      border: none;\n",
              "      border-radius: 50%;\n",
              "      cursor: pointer;\n",
              "      display: none;\n",
              "      fill: #1967D2;\n",
              "      height: 32px;\n",
              "      padding: 0 0 0 0;\n",
              "      width: 32px;\n",
              "    }\n",
              "\n",
              "    .colab-df-convert:hover {\n",
              "      background-color: #E2EBFA;\n",
              "      box-shadow: 0px 1px 2px rgba(60, 64, 67, 0.3), 0px 1px 3px 1px rgba(60, 64, 67, 0.15);\n",
              "      fill: #174EA6;\n",
              "    }\n",
              "\n",
              "    [theme=dark] .colab-df-convert {\n",
              "      background-color: #3B4455;\n",
              "      fill: #D2E3FC;\n",
              "    }\n",
              "\n",
              "    [theme=dark] .colab-df-convert:hover {\n",
              "      background-color: #434B5C;\n",
              "      box-shadow: 0px 1px 3px 1px rgba(0, 0, 0, 0.15);\n",
              "      filter: drop-shadow(0px 1px 2px rgba(0, 0, 0, 0.3));\n",
              "      fill: #FFFFFF;\n",
              "    }\n",
              "  </style>\n",
              "\n",
              "      <script>\n",
              "        const buttonEl =\n",
              "          document.querySelector('#df-de85cc76-ec52-40d0-b79b-9b5997130ee8 button.colab-df-convert');\n",
              "        buttonEl.style.display =\n",
              "          google.colab.kernel.accessAllowed ? 'block' : 'none';\n",
              "\n",
              "        async function convertToInteractive(key) {\n",
              "          const element = document.querySelector('#df-de85cc76-ec52-40d0-b79b-9b5997130ee8');\n",
              "          const dataTable =\n",
              "            await google.colab.kernel.invokeFunction('convertToInteractive',\n",
              "                                                     [key], {});\n",
              "          if (!dataTable) return;\n",
              "\n",
              "          const docLinkHtml = 'Like what you see? Visit the ' +\n",
              "            '<a target=\"_blank\" href=https://colab.research.google.com/notebooks/data_table.ipynb>data table notebook</a>'\n",
              "            + ' to learn more about interactive tables.';\n",
              "          element.innerHTML = '';\n",
              "          dataTable['output_type'] = 'display_data';\n",
              "          await google.colab.output.renderOutput(dataTable, element);\n",
              "          const docLink = document.createElement('div');\n",
              "          docLink.innerHTML = docLinkHtml;\n",
              "          element.appendChild(docLink);\n",
              "        }\n",
              "      </script>\n",
              "    </div>\n",
              "  </div>\n",
              "  "
            ],
            "text/plain": [
              "   user_id           login_time\n",
              "0      466  2017-01-07 18:24:07\n",
              "1      466  2017-01-07 18:24:55\n",
              "2      458  2017-01-07 18:25:18\n",
              "3      458  2017-01-07 18:26:21\n",
              "4      592  2017-01-07 19:09:59"
            ]
          },
          "execution_count": 256,
          "metadata": {},
          "output_type": "execute_result"
        }
      ],
      "source": [
        "# shift example\n",
        "df = pd.read_csv('/content/login.csv',header=None)\n",
        "df = df[[1,2]]\n",
        "df.head()\n",
        "df.rename(columns={1:'user_id',2:'login_time'},inplace=True)\n",
        "df.head()"
      ]
    },
    {
      "cell_type": "code",
      "execution_count": null,
      "metadata": {
        "colab": {
          "base_uri": "https://localhost:8080/",
          "height": 206
        },
        "id": "NAr4UdYo8Hma",
        "outputId": "873148b1-41f3-4fe5-a144-e0ddb6cbd895"
      },
      "outputs": [
        {
          "data": {
            "text/html": [
              "\n",
              "  <div id=\"df-efa64dd8-663b-44d9-a772-2d9936382718\">\n",
              "    <div class=\"colab-df-container\">\n",
              "      <div>\n",
              "<style scoped>\n",
              "    .dataframe tbody tr th:only-of-type {\n",
              "        vertical-align: middle;\n",
              "    }\n",
              "\n",
              "    .dataframe tbody tr th {\n",
              "        vertical-align: top;\n",
              "    }\n",
              "\n",
              "    .dataframe thead th {\n",
              "        text-align: right;\n",
              "    }\n",
              "</style>\n",
              "<table border=\"1\" class=\"dataframe\">\n",
              "  <thead>\n",
              "    <tr style=\"text-align: right;\">\n",
              "      <th></th>\n",
              "      <th>user_id</th>\n",
              "      <th>login_time</th>\n",
              "    </tr>\n",
              "  </thead>\n",
              "  <tbody>\n",
              "    <tr>\n",
              "      <th>2</th>\n",
              "      <td>458</td>\n",
              "      <td>2017-01-07 18:25:18</td>\n",
              "    </tr>\n",
              "    <tr>\n",
              "      <th>3</th>\n",
              "      <td>458</td>\n",
              "      <td>2017-01-07 18:26:21</td>\n",
              "    </tr>\n",
              "    <tr>\n",
              "      <th>9</th>\n",
              "      <td>458</td>\n",
              "      <td>2017-01-09 11:13:12</td>\n",
              "    </tr>\n",
              "    <tr>\n",
              "      <th>10</th>\n",
              "      <td>458</td>\n",
              "      <td>2017-01-09 11:34:02</td>\n",
              "    </tr>\n",
              "    <tr>\n",
              "      <th>25</th>\n",
              "      <td>458</td>\n",
              "      <td>2017-01-10 12:14:11</td>\n",
              "    </tr>\n",
              "  </tbody>\n",
              "</table>\n",
              "</div>\n",
              "      <button class=\"colab-df-convert\" onclick=\"convertToInteractive('df-efa64dd8-663b-44d9-a772-2d9936382718')\"\n",
              "              title=\"Convert this dataframe to an interactive table.\"\n",
              "              style=\"display:none;\">\n",
              "        \n",
              "  <svg xmlns=\"http://www.w3.org/2000/svg\" height=\"24px\"viewBox=\"0 0 24 24\"\n",
              "       width=\"24px\">\n",
              "    <path d=\"M0 0h24v24H0V0z\" fill=\"none\"/>\n",
              "    <path d=\"M18.56 5.44l.94 2.06.94-2.06 2.06-.94-2.06-.94-.94-2.06-.94 2.06-2.06.94zm-11 1L8.5 8.5l.94-2.06 2.06-.94-2.06-.94L8.5 2.5l-.94 2.06-2.06.94zm10 10l.94 2.06.94-2.06 2.06-.94-2.06-.94-.94-2.06-.94 2.06-2.06.94z\"/><path d=\"M17.41 7.96l-1.37-1.37c-.4-.4-.92-.59-1.43-.59-.52 0-1.04.2-1.43.59L10.3 9.45l-7.72 7.72c-.78.78-.78 2.05 0 2.83L4 21.41c.39.39.9.59 1.41.59.51 0 1.02-.2 1.41-.59l7.78-7.78 2.81-2.81c.8-.78.8-2.07 0-2.86zM5.41 20L4 18.59l7.72-7.72 1.47 1.35L5.41 20z\"/>\n",
              "  </svg>\n",
              "      </button>\n",
              "      \n",
              "  <style>\n",
              "    .colab-df-container {\n",
              "      display:flex;\n",
              "      flex-wrap:wrap;\n",
              "      gap: 12px;\n",
              "    }\n",
              "\n",
              "    .colab-df-convert {\n",
              "      background-color: #E8F0FE;\n",
              "      border: none;\n",
              "      border-radius: 50%;\n",
              "      cursor: pointer;\n",
              "      display: none;\n",
              "      fill: #1967D2;\n",
              "      height: 32px;\n",
              "      padding: 0 0 0 0;\n",
              "      width: 32px;\n",
              "    }\n",
              "\n",
              "    .colab-df-convert:hover {\n",
              "      background-color: #E2EBFA;\n",
              "      box-shadow: 0px 1px 2px rgba(60, 64, 67, 0.3), 0px 1px 3px 1px rgba(60, 64, 67, 0.15);\n",
              "      fill: #174EA6;\n",
              "    }\n",
              "\n",
              "    [theme=dark] .colab-df-convert {\n",
              "      background-color: #3B4455;\n",
              "      fill: #D2E3FC;\n",
              "    }\n",
              "\n",
              "    [theme=dark] .colab-df-convert:hover {\n",
              "      background-color: #434B5C;\n",
              "      box-shadow: 0px 1px 3px 1px rgba(0, 0, 0, 0.15);\n",
              "      filter: drop-shadow(0px 1px 2px rgba(0, 0, 0, 0.3));\n",
              "      fill: #FFFFFF;\n",
              "    }\n",
              "  </style>\n",
              "\n",
              "      <script>\n",
              "        const buttonEl =\n",
              "          document.querySelector('#df-efa64dd8-663b-44d9-a772-2d9936382718 button.colab-df-convert');\n",
              "        buttonEl.style.display =\n",
              "          google.colab.kernel.accessAllowed ? 'block' : 'none';\n",
              "\n",
              "        async function convertToInteractive(key) {\n",
              "          const element = document.querySelector('#df-efa64dd8-663b-44d9-a772-2d9936382718');\n",
              "          const dataTable =\n",
              "            await google.colab.kernel.invokeFunction('convertToInteractive',\n",
              "                                                     [key], {});\n",
              "          if (!dataTable) return;\n",
              "\n",
              "          const docLinkHtml = 'Like what you see? Visit the ' +\n",
              "            '<a target=\"_blank\" href=https://colab.research.google.com/notebooks/data_table.ipynb>data table notebook</a>'\n",
              "            + ' to learn more about interactive tables.';\n",
              "          element.innerHTML = '';\n",
              "          dataTable['output_type'] = 'display_data';\n",
              "          await google.colab.output.renderOutput(dataTable, element);\n",
              "          const docLink = document.createElement('div');\n",
              "          docLink.innerHTML = docLinkHtml;\n",
              "          element.appendChild(docLink);\n",
              "        }\n",
              "      </script>\n",
              "    </div>\n",
              "  </div>\n",
              "  "
            ],
            "text/plain": [
              "    user_id           login_time\n",
              "2       458  2017-01-07 18:25:18\n",
              "3       458  2017-01-07 18:26:21\n",
              "9       458  2017-01-09 11:13:12\n",
              "10      458  2017-01-09 11:34:02\n",
              "25      458  2017-01-10 12:14:11"
            ]
          },
          "execution_count": 268,
          "metadata": {},
          "output_type": "execute_result"
        }
      ],
      "source": [
        "user_df = df[df['user_id'] == 458]\n",
        "user_df.head()"
      ]
    },
    {
      "cell_type": "code",
      "execution_count": null,
      "metadata": {
        "colab": {
          "base_uri": "https://localhost:8080/"
        },
        "id": "HPzll25x8mkw",
        "outputId": "9b2a29b4-0007-4f12-a389-3da5ae3ff024"
      },
      "outputs": [
        {
          "name": "stdout",
          "output_type": "stream",
          "text": [
            "<class 'pandas.core.frame.DataFrame'>\n",
            "Int64Index: 208 entries, 2 to 1018\n",
            "Data columns (total 2 columns):\n",
            " #   Column      Non-Null Count  Dtype         \n",
            "---  ------      --------------  -----         \n",
            " 0   user_id     208 non-null    int64         \n",
            " 1   login_time  208 non-null    datetime64[ns]\n",
            "dtypes: datetime64[ns](1), int64(1)\n",
            "memory usage: 4.9 KB\n"
          ]
        },
        {
          "name": "stderr",
          "output_type": "stream",
          "text": [
            "<ipython-input-269-fd41e73e6ce6>:1: SettingWithCopyWarning: \n",
            "A value is trying to be set on a copy of a slice from a DataFrame.\n",
            "Try using .loc[row_indexer,col_indexer] = value instead\n",
            "\n",
            "See the caveats in the documentation: https://pandas.pydata.org/pandas-docs/stable/user_guide/indexing.html#returning-a-view-versus-a-copy\n",
            "  user_df['login_time'] = pd.to_datetime(user_df['login_time'])\n"
          ]
        }
      ],
      "source": [
        "user_df['login_time'] = pd.to_datetime(user_df['login_time'])\n",
        "user_df.info()"
      ]
    },
    {
      "cell_type": "code",
      "execution_count": null,
      "metadata": {
        "colab": {
          "base_uri": "https://localhost:8080/"
        },
        "id": "7PBLZrNX81hI",
        "outputId": "e807726f-e160-43b7-af27-3aa5e3f3a9b3"
      },
      "outputs": [
        {
          "name": "stderr",
          "output_type": "stream",
          "text": [
            "<ipython-input-270-091b95be4a6b>:1: SettingWithCopyWarning: \n",
            "A value is trying to be set on a copy of a slice from a DataFrame.\n",
            "Try using .loc[row_indexer,col_indexer] = value instead\n",
            "\n",
            "See the caveats in the documentation: https://pandas.pydata.org/pandas-docs/stable/user_guide/indexing.html#returning-a-view-versus-a-copy\n",
            "  user_df['shifted'] = user_df['login_time'].shift(1)\n"
          ]
        },
        {
          "data": {
            "text/plain": [
              "Timedelta('0 days 17:29:22.053140096')"
            ]
          },
          "execution_count": 270,
          "metadata": {},
          "output_type": "execute_result"
        }
      ],
      "source": [
        "user_df['shifted'] = user_df['login_time'].shift(1)\n",
        "(user_df['login_time'] - user_df['shifted']).mean()"
      ]
    },
    {
      "cell_type": "code",
      "execution_count": null,
      "metadata": {
        "id": "edDx4uhGVmOA"
      },
      "outputs": [],
      "source": [
        "ax = df.plot(subplots=True,\n",
        "                    layout=(3, 2),\n",
        "                     sharex=False,\n",
        "                     sharey=False,\n",
        "                     linewidth=0.7,\n",
        "                     fontsize=10,\n",
        "                     legend=False,\n",
        "                      figsize=(20,15),\n",
        "                      title=['Open', 'High', 'Low', 'Close','Adjusted Close', 'Volume'])"
      ]
    },
    {
      "cell_type": "code",
      "execution_count": null,
      "metadata": {
        "id": "8cS78TJxXlDH"
      },
      "outputs": [],
      "source": []
    }
  ],
  "metadata": {
    "colab": {
      "provenance": []
    },
    "kernelspec": {
      "display_name": "Python 3",
      "name": "python3"
    },
    "language_info": {
      "codemirror_mode": {
        "name": "ipython",
        "version": 3
      },
      "file_extension": ".py",
      "mimetype": "text/x-python",
      "name": "python",
      "nbconvert_exporter": "python",
      "pygments_lexer": "ipython3",
      "version": "3.11.6"
    }
  },
  "nbformat": 4,
  "nbformat_minor": 0
}
