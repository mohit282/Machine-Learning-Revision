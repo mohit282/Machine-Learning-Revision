{
 "cells": [
  {
   "cell_type": "code",
   "execution_count": 37,
   "metadata": {},
   "outputs": [],
   "source": [
    "from selenium import webdriver\n",
    "from selenium.webdriver.chrome.service import Service\n",
    "from selenium.webdriver.common.by import By\n",
    "from bs4 import BeautifulSoup\n",
    "from selenium.webdriver.support.ui import WebDriverWait\n",
    "from selenium.webdriver.support import expected_conditions as EC\n",
    "import time"
   ]
  },
  {
   "cell_type": "code",
   "execution_count": 33,
   "metadata": {},
   "outputs": [],
   "source": [
    "s = Service(\"D:/Downloads/chromedriver-win64/chromedriver-win64/chromedriver.exe\")\n",
    "questions = [] # questions array/list storing entire data ranging from question type,difficulty, question url etc\n",
    "html_code = [] # whole html code array/list"
   ]
  },
  {
   "cell_type": "code",
   "execution_count": null,
   "metadata": {},
   "outputs": [],
   "source": [
    "driver = webdriver.Chrome(service=s)\n",
    "driver.get('https://leetcode.com/problemset/')\n",
    "\n",
    "# Clicking settings button\n",
    "settings_button = driver.find_element(By.XPATH, value='//*[@id=\"headlessui-popover-button-:r7:\"]') \n",
    "settings_button.click()\n",
    "\n",
    "# Wait for the option to appear and then click it\n",
    "option_button = WebDriverWait(driver, 5).until(\n",
    "    EC.element_to_be_clickable((By.XPATH, \"//*[starts-with(@id, 'headlessui-switch-:')]\"))\n",
    ")\n",
    "option_button.click()\n",
    "\n",
    "for i in range(1,67): # for page 1 to page 67\n",
    "    time.sleep(1)\n",
    "    # Find the question divs using css selector\n",
    "    elements = driver.find_elements(By.CSS_SELECTOR, \"[role='row'].odd\\\\:bg-layer-1.even\\\\:bg-overlay-1.dark\\\\:odd\\\\:bg-dark-layer-bg.dark\\\\:even\\\\:bg-dark-fill-4\")\n",
    "    for element in elements:\n",
    "        try:\n",
    "            #extracting the html code\n",
    "            html_code.append(element.get_attribute('outerHTML'))\n",
    "            # extracting all the values of the question\n",
    "            questions.append(element.text)\n",
    "        except Exception as e:\n",
    "            pass\n",
    "    \n",
    "    # click the next page button\n",
    "    driver.find_element(By.XPATH, value='//*[@id=\"__next\"]/div[1]/div[4]/div[2]/div[1]/div[4]/div[3]/nav/button[10]').click()\n",
    "\n",
    "driver.quit()\n"
   ]
  },
  {
   "cell_type": "code",
   "execution_count": 40,
   "metadata": {},
   "outputs": [
    {
     "name": "stdout",
     "output_type": "stream",
     "text": [
      "4041\n"
     ]
    }
   ],
   "source": [
    "question_no = []\n",
    "question = []\n",
    "topic_tags = []\n",
    "Acceptance = []\n",
    "Difficulty = []\n",
    "for i in questions:\n",
    "    temp = i.split('\\n')\n",
    "    question_no.append(int(temp[0].split('.')[0]))\n",
    "    question.append(temp[0].split('.')[1])\n",
    "    topic_tags.append(temp[1:-2])\n",
    "    Acceptance.append(temp[-2])\n",
    "    Difficulty.append(temp[-1])\n",
    "    \n",
    "print(len(questions))"
   ]
  },
  {
   "cell_type": "code",
   "execution_count": 42,
   "metadata": {},
   "outputs": [],
   "source": [
    "soup = BeautifulSoup(str(html_code),'html.parser')"
   ]
  },
  {
   "cell_type": "code",
   "execution_count": 43,
   "metadata": {},
   "outputs": [
    {
     "name": "stdout",
     "output_type": "stream",
     "text": [
      "4041 798\n"
     ]
    }
   ],
   "source": [
    "premium = []\n",
    "rows = soup.find_all('div',{'role':'row'})\n",
    "for row in rows:\n",
    "    if(row.find('svg', {'class':\"ml-2 h-4 shrink-0\"})):\n",
    "        premium.append(True)\n",
    "    else:\n",
    "        premium.append(False)\n",
    "\n",
    "print(len(premium), sum(premium))"
   ]
  },
  {
   "cell_type": "code",
   "execution_count": 20,
   "metadata": {},
   "outputs": [],
   "source": [
    "import pandas as pd"
   ]
  },
  {
   "cell_type": "code",
   "execution_count": 44,
   "metadata": {},
   "outputs": [
    {
     "data": {
      "text/html": [
       "<div>\n",
       "<style scoped>\n",
       "    .dataframe tbody tr th:only-of-type {\n",
       "        vertical-align: middle;\n",
       "    }\n",
       "\n",
       "    .dataframe tbody tr th {\n",
       "        vertical-align: top;\n",
       "    }\n",
       "\n",
       "    .dataframe thead th {\n",
       "        text-align: right;\n",
       "    }\n",
       "</style>\n",
       "<table border=\"1\" class=\"dataframe\">\n",
       "  <thead>\n",
       "    <tr style=\"text-align: right;\">\n",
       "      <th></th>\n",
       "      <th>Question_No</th>\n",
       "      <th>Question</th>\n",
       "      <th>Topic_tags</th>\n",
       "      <th>Acceptance_rate</th>\n",
       "      <th>isPremium</th>\n",
       "      <th>Difficulty</th>\n",
       "    </tr>\n",
       "  </thead>\n",
       "  <tbody>\n",
       "    <tr>\n",
       "      <th>0</th>\n",
       "      <td>2490</td>\n",
       "      <td>Circular Sentence</td>\n",
       "      <td>[String]</td>\n",
       "      <td>66.9%</td>\n",
       "      <td>False</td>\n",
       "      <td>Easy</td>\n",
       "    </tr>\n",
       "    <tr>\n",
       "      <th>1</th>\n",
       "      <td>1</td>\n",
       "      <td>Two Sum</td>\n",
       "      <td>[Array, Hash Table]</td>\n",
       "      <td>54.1%</td>\n",
       "      <td>False</td>\n",
       "      <td>Easy</td>\n",
       "    </tr>\n",
       "    <tr>\n",
       "      <th>2</th>\n",
       "      <td>2</td>\n",
       "      <td>Add Two Numbers</td>\n",
       "      <td>[Linked List, Math, Recursion]</td>\n",
       "      <td>44.5%</td>\n",
       "      <td>False</td>\n",
       "      <td>Medium</td>\n",
       "    </tr>\n",
       "    <tr>\n",
       "      <th>3</th>\n",
       "      <td>3</td>\n",
       "      <td>Longest Substring Without Repeating Characters</td>\n",
       "      <td>[Hash Table, String, Sliding Window]</td>\n",
       "      <td>35.7%</td>\n",
       "      <td>False</td>\n",
       "      <td>Medium</td>\n",
       "    </tr>\n",
       "    <tr>\n",
       "      <th>4</th>\n",
       "      <td>4</td>\n",
       "      <td>Median of Two Sorted Arrays</td>\n",
       "      <td>[Array, Binary Search, 1+]</td>\n",
       "      <td>41.8%</td>\n",
       "      <td>False</td>\n",
       "      <td>Hard</td>\n",
       "    </tr>\n",
       "    <tr>\n",
       "      <th>...</th>\n",
       "      <td>...</td>\n",
       "      <td>...</td>\n",
       "      <td>...</td>\n",
       "      <td>...</td>\n",
       "      <td>...</td>\n",
       "      <td>...</td>\n",
       "    </tr>\n",
       "    <tr>\n",
       "      <th>4036</th>\n",
       "      <td>3335</td>\n",
       "      <td>Total Characters in String After Transformati...</td>\n",
       "      <td>[Hash Table, Math, String, 2+]</td>\n",
       "      <td>24.9%</td>\n",
       "      <td>False</td>\n",
       "      <td>Medium</td>\n",
       "    </tr>\n",
       "    <tr>\n",
       "      <th>4037</th>\n",
       "      <td>3336</td>\n",
       "      <td>Find the Number of Subsequences With Equal GCD</td>\n",
       "      <td>[Array, Math, 2+]</td>\n",
       "      <td>38.0%</td>\n",
       "      <td>False</td>\n",
       "      <td>Hard</td>\n",
       "    </tr>\n",
       "    <tr>\n",
       "      <th>4038</th>\n",
       "      <td>3337</td>\n",
       "      <td>Total Characters in String After Transformati...</td>\n",
       "      <td>[Hash Table, Math, String, 2+]</td>\n",
       "      <td>31.1%</td>\n",
       "      <td>False</td>\n",
       "      <td>Hard</td>\n",
       "    </tr>\n",
       "    <tr>\n",
       "      <th>4039</th>\n",
       "      <td>3338</td>\n",
       "      <td>Second Highest Salary II</td>\n",
       "      <td>[Database]</td>\n",
       "      <td>96.1%</td>\n",
       "      <td>True</td>\n",
       "      <td>Medium</td>\n",
       "    </tr>\n",
       "    <tr>\n",
       "      <th>4040</th>\n",
       "      <td>3339</td>\n",
       "      <td>Find the Number of K-Even Arrays</td>\n",
       "      <td>[Dynamic Programming]</td>\n",
       "      <td>60.1%</td>\n",
       "      <td>True</td>\n",
       "      <td>Medium</td>\n",
       "    </tr>\n",
       "  </tbody>\n",
       "</table>\n",
       "<p>4041 rows × 6 columns</p>\n",
       "</div>"
      ],
      "text/plain": [
       "      Question_No                                           Question  \\\n",
       "0            2490                                  Circular Sentence   \n",
       "1               1                                            Two Sum   \n",
       "2               2                                    Add Two Numbers   \n",
       "3               3     Longest Substring Without Repeating Characters   \n",
       "4               4                        Median of Two Sorted Arrays   \n",
       "...           ...                                                ...   \n",
       "4036         3335   Total Characters in String After Transformati...   \n",
       "4037         3336     Find the Number of Subsequences With Equal GCD   \n",
       "4038         3337   Total Characters in String After Transformati...   \n",
       "4039         3338                           Second Highest Salary II   \n",
       "4040         3339                   Find the Number of K-Even Arrays   \n",
       "\n",
       "                                Topic_tags Acceptance_rate  isPremium  \\\n",
       "0                                 [String]           66.9%      False   \n",
       "1                      [Array, Hash Table]           54.1%      False   \n",
       "2           [Linked List, Math, Recursion]           44.5%      False   \n",
       "3     [Hash Table, String, Sliding Window]           35.7%      False   \n",
       "4               [Array, Binary Search, 1+]           41.8%      False   \n",
       "...                                    ...             ...        ...   \n",
       "4036        [Hash Table, Math, String, 2+]           24.9%      False   \n",
       "4037                     [Array, Math, 2+]           38.0%      False   \n",
       "4038        [Hash Table, Math, String, 2+]           31.1%      False   \n",
       "4039                            [Database]           96.1%       True   \n",
       "4040                 [Dynamic Programming]           60.1%       True   \n",
       "\n",
       "     Difficulty  \n",
       "0          Easy  \n",
       "1          Easy  \n",
       "2        Medium  \n",
       "3        Medium  \n",
       "4          Hard  \n",
       "...         ...  \n",
       "4036     Medium  \n",
       "4037       Hard  \n",
       "4038       Hard  \n",
       "4039     Medium  \n",
       "4040     Medium  \n",
       "\n",
       "[4041 rows x 6 columns]"
      ]
     },
     "execution_count": 44,
     "metadata": {},
     "output_type": "execute_result"
    }
   ],
   "source": [
    "df = pd.DataFrame({'Question_No':question_no,'Question': question,'Topic_tags':topic_tags,'Acceptance_rate':Acceptance,'isPremium':premium,'Difficulty':Difficulty})\n",
    "df"
   ]
  },
  {
   "cell_type": "code",
   "execution_count": 45,
   "metadata": {},
   "outputs": [],
   "source": [
    "def generate_link(text,alt_text='description'):\n",
    "\n",
    "    suffix = '-'.join(text.lower().strip().split(' '))\n",
    "    return f'https://leetcode.com/problems/{suffix}/{alt_text}'"
   ]
  },
  {
   "cell_type": "code",
   "execution_count": 46,
   "metadata": {},
   "outputs": [],
   "source": [
    "df['Question_Link'] = df['Question'].apply(generate_link)\n",
    "df['Solution'] = df['Question'].apply(lambda x: generate_link(x,'solutions'))"
   ]
  },
  {
   "cell_type": "code",
   "execution_count": 47,
   "metadata": {},
   "outputs": [
    {
     "data": {
      "text/html": [
       "<div>\n",
       "<style scoped>\n",
       "    .dataframe tbody tr th:only-of-type {\n",
       "        vertical-align: middle;\n",
       "    }\n",
       "\n",
       "    .dataframe tbody tr th {\n",
       "        vertical-align: top;\n",
       "    }\n",
       "\n",
       "    .dataframe thead th {\n",
       "        text-align: right;\n",
       "    }\n",
       "</style>\n",
       "<table border=\"1\" class=\"dataframe\">\n",
       "  <thead>\n",
       "    <tr style=\"text-align: right;\">\n",
       "      <th></th>\n",
       "      <th>Question_No</th>\n",
       "      <th>Question</th>\n",
       "      <th>Topic_tags</th>\n",
       "      <th>Acceptance_rate</th>\n",
       "      <th>isPremium</th>\n",
       "      <th>Difficulty</th>\n",
       "      <th>Question_Link</th>\n",
       "      <th>Solution</th>\n",
       "    </tr>\n",
       "  </thead>\n",
       "  <tbody>\n",
       "    <tr>\n",
       "      <th>0</th>\n",
       "      <td>2490</td>\n",
       "      <td>Circular Sentence</td>\n",
       "      <td>[String]</td>\n",
       "      <td>66.9%</td>\n",
       "      <td>False</td>\n",
       "      <td>Easy</td>\n",
       "      <td>https://leetcode.com/problems/circular-sentenc...</td>\n",
       "      <td>https://leetcode.com/problems/circular-sentenc...</td>\n",
       "    </tr>\n",
       "    <tr>\n",
       "      <th>1</th>\n",
       "      <td>1</td>\n",
       "      <td>Two Sum</td>\n",
       "      <td>[Array, Hash Table]</td>\n",
       "      <td>54.1%</td>\n",
       "      <td>False</td>\n",
       "      <td>Easy</td>\n",
       "      <td>https://leetcode.com/problems/two-sum/description</td>\n",
       "      <td>https://leetcode.com/problems/two-sum/solutions</td>\n",
       "    </tr>\n",
       "    <tr>\n",
       "      <th>2</th>\n",
       "      <td>2</td>\n",
       "      <td>Add Two Numbers</td>\n",
       "      <td>[Linked List, Math, Recursion]</td>\n",
       "      <td>44.5%</td>\n",
       "      <td>False</td>\n",
       "      <td>Medium</td>\n",
       "      <td>https://leetcode.com/problems/add-two-numbers/...</td>\n",
       "      <td>https://leetcode.com/problems/add-two-numbers/...</td>\n",
       "    </tr>\n",
       "    <tr>\n",
       "      <th>3</th>\n",
       "      <td>3</td>\n",
       "      <td>Longest Substring Without Repeating Characters</td>\n",
       "      <td>[Hash Table, String, Sliding Window]</td>\n",
       "      <td>35.7%</td>\n",
       "      <td>False</td>\n",
       "      <td>Medium</td>\n",
       "      <td>https://leetcode.com/problems/longest-substrin...</td>\n",
       "      <td>https://leetcode.com/problems/longest-substrin...</td>\n",
       "    </tr>\n",
       "    <tr>\n",
       "      <th>4</th>\n",
       "      <td>4</td>\n",
       "      <td>Median of Two Sorted Arrays</td>\n",
       "      <td>[Array, Binary Search, 1+]</td>\n",
       "      <td>41.8%</td>\n",
       "      <td>False</td>\n",
       "      <td>Hard</td>\n",
       "      <td>https://leetcode.com/problems/median-of-two-so...</td>\n",
       "      <td>https://leetcode.com/problems/median-of-two-so...</td>\n",
       "    </tr>\n",
       "  </tbody>\n",
       "</table>\n",
       "</div>"
      ],
      "text/plain": [
       "   Question_No                                         Question  \\\n",
       "0         2490                                Circular Sentence   \n",
       "1            1                                          Two Sum   \n",
       "2            2                                  Add Two Numbers   \n",
       "3            3   Longest Substring Without Repeating Characters   \n",
       "4            4                      Median of Two Sorted Arrays   \n",
       "\n",
       "                             Topic_tags Acceptance_rate  isPremium Difficulty  \\\n",
       "0                              [String]           66.9%      False       Easy   \n",
       "1                   [Array, Hash Table]           54.1%      False       Easy   \n",
       "2        [Linked List, Math, Recursion]           44.5%      False     Medium   \n",
       "3  [Hash Table, String, Sliding Window]           35.7%      False     Medium   \n",
       "4            [Array, Binary Search, 1+]           41.8%      False       Hard   \n",
       "\n",
       "                                       Question_Link  \\\n",
       "0  https://leetcode.com/problems/circular-sentenc...   \n",
       "1  https://leetcode.com/problems/two-sum/description   \n",
       "2  https://leetcode.com/problems/add-two-numbers/...   \n",
       "3  https://leetcode.com/problems/longest-substrin...   \n",
       "4  https://leetcode.com/problems/median-of-two-so...   \n",
       "\n",
       "                                            Solution  \n",
       "0  https://leetcode.com/problems/circular-sentenc...  \n",
       "1    https://leetcode.com/problems/two-sum/solutions  \n",
       "2  https://leetcode.com/problems/add-two-numbers/...  \n",
       "3  https://leetcode.com/problems/longest-substrin...  \n",
       "4  https://leetcode.com/problems/median-of-two-so...  "
      ]
     },
     "execution_count": 47,
     "metadata": {},
     "output_type": "execute_result"
    }
   ],
   "source": [
    "df.head()"
   ]
  },
  {
   "cell_type": "code",
   "execution_count": 48,
   "metadata": {},
   "outputs": [
    {
     "data": {
      "text/plain": [
       "(3306, 8)"
      ]
     },
     "execution_count": 48,
     "metadata": {},
     "output_type": "execute_result"
    }
   ],
   "source": [
    "df.drop_duplicates(subset='Question_No',keep='first',inplace=True)\n",
    "df.shape"
   ]
  },
  {
   "cell_type": "code",
   "execution_count": 49,
   "metadata": {},
   "outputs": [],
   "source": [
    "df.sort_values('Question_No',inplace=True)"
   ]
  },
  {
   "cell_type": "code",
   "execution_count": 50,
   "metadata": {},
   "outputs": [],
   "source": [
    "df.reset_index(drop=True,inplace=True)"
   ]
  },
  {
   "cell_type": "code",
   "execution_count": 52,
   "metadata": {},
   "outputs": [],
   "source": [
    "df.to_csv('Leetcode_Questions_updated.csv',index=False)"
   ]
  }
 ],
 "metadata": {
  "kernelspec": {
   "display_name": "Python 3",
   "language": "python",
   "name": "python3"
  },
  "language_info": {
   "codemirror_mode": {
    "name": "ipython",
    "version": 3
   },
   "file_extension": ".py",
   "mimetype": "text/x-python",
   "name": "python",
   "nbconvert_exporter": "python",
   "pygments_lexer": "ipython3",
   "version": "3.11.6"
  }
 },
 "nbformat": 4,
 "nbformat_minor": 2
}
