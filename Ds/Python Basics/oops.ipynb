{
 "cells": [
  {
   "cell_type": "code",
   "execution_count": 7,
   "metadata": {},
   "outputs": [],
   "source": [
    "class Fraction:\n",
    "    \n",
    "    def __init__(self,num,den) -> None:\n",
    "        self.num = num\n",
    "        self.den = den\n",
    "    \n",
    "    def simplify(self,num,den):\n",
    "        if(den == 0):\n",
    "            return num\n",
    "        \n",
    "        return self.simplify(den, num % den)\n",
    "    \n",
    "    # creating dunder methods or magic methods\n",
    "    def __str__(self) -> str:\n",
    "        return f\"{self.num}/{self.den}\"\n",
    "    \n",
    "    def __add__(self,other):\n",
    "        new_num = self.num*other.den + self.den*other.num\n",
    "        new_den = self.den*other.den\n",
    "        hcf = self.simplify(new_num,new_den)\n",
    "        new_num,new_den = new_num//hcf, new_den//hcf\n",
    "        return f\"{new_num}/{new_den}\"\n",
    "    \n",
    "    def __sub__(self,other):\n",
    "        new_num = self.num*other.den - self.den*other.num\n",
    "        new_den = self.den*other.den\n",
    "        hcf = self.simplify(new_num,new_den)\n",
    "        new_num,new_den = new_num//hcf, new_den//hcf\n",
    "        return f\"{new_num}/{new_den}\"\n",
    "    \n",
    "    def __mul__(self,other):\n",
    "        new_num = self.num*other.num\n",
    "        new_den = self.den*other.den\n",
    "        hcf = self.simplify(new_num,new_den)\n",
    "        new_num,new_den = new_num//hcf, new_den//hcf\n",
    "        return f\"{new_num}/{new_den}\"\n",
    "    \n",
    "    def __truediv__(self,other):\n",
    "        new_num = self.num*other.den\n",
    "        new_den = self.den*other.num\n",
    "        hcf = self.simplify(new_num,new_den)\n",
    "        new_num,new_den = new_num//hcf, new_den//hcf\n",
    "        return f\"{new_num}/{new_den}\"\n",
    "    \n",
    "    "
   ]
  },
  {
   "cell_type": "code",
   "execution_count": 8,
   "metadata": {},
   "outputs": [
    {
     "name": "stdout",
     "output_type": "stream",
     "text": [
      "3/4\n"
     ]
    }
   ],
   "source": [
    "fr1 = Fraction(3,4)\n",
    "print(fr1)"
   ]
  },
  {
   "cell_type": "code",
   "execution_count": 9,
   "metadata": {},
   "outputs": [
    {
     "name": "stdout",
     "output_type": "stream",
     "text": [
      "1/1\n"
     ]
    }
   ],
   "source": [
    "fr2 = Fraction(1,4)\n",
    "print(fr1+fr2)"
   ]
  },
  {
   "cell_type": "code",
   "execution_count": 10,
   "metadata": {},
   "outputs": [
    {
     "name": "stdout",
     "output_type": "stream",
     "text": [
      "3/4\n"
     ]
    }
   ],
   "source": [
    "fr3 = Fraction(2,4)\n",
    "print(fr2+fr3)"
   ]
  }
 ],
 "metadata": {
  "kernelspec": {
   "display_name": "Python 3",
   "language": "python",
   "name": "python3"
  },
  "language_info": {
   "codemirror_mode": {
    "name": "ipython",
    "version": 3
   },
   "file_extension": ".py",
   "mimetype": "text/x-python",
   "name": "python",
   "nbconvert_exporter": "python",
   "pygments_lexer": "ipython3",
   "version": "3.11.6"
  }
 },
 "nbformat": 4,
 "nbformat_minor": 2
}
